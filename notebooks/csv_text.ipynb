{
 "cells": [
  {
   "cell_type": "code",
   "execution_count": 1,
   "metadata": {},
   "outputs": [],
   "source": [
    "import csv\n",
    "import pickle\n",
    "import pandas as pd\n",
    "import pymongo\n",
    "from pymongo import MongoClient\n",
    "\n",
    "# this notebook was how I took the cleaned content from each news1,2,3, collection and put it together into one \n",
    "# combined cleanedcontent collection"
   ]
  },
  {
   "cell_type": "code",
   "execution_count": 2,
   "metadata": {},
   "outputs": [],
   "source": [
    "client = MongoClient()\n",
    "db = client.jarvis\n",
    "#collection = db.news1\n",
    "#data = pd.DataFrame(list(collection.find()))"
   ]
  },
  {
   "cell_type": "code",
   "execution_count": 3,
   "metadata": {},
   "outputs": [],
   "source": [
    "cleantext=[]\n",
    "for doc in  db.news1.find():\n",
    "    cleantext.append(list(doc['cleaned_content1']))"
   ]
  },
  {
   "cell_type": "code",
   "execution_count": 4,
   "metadata": {},
   "outputs": [],
   "source": [
    "df = pd.Series(cleantext)"
   ]
  },
  {
   "cell_type": "code",
   "execution_count": 5,
   "metadata": {},
   "outputs": [
    {
     "data": {
      "text/plain": [
       "0    [washington, congression, republican, new, fea...\n",
       "1    [bullet, shell, get, count, blood, dri, votiv,...\n",
       "dtype: object"
      ]
     },
     "execution_count": 5,
     "metadata": {},
     "output_type": "execute_result"
    }
   ],
   "source": [
    "df[0:2]"
   ]
  },
  {
   "cell_type": "code",
   "execution_count": 6,
   "metadata": {},
   "outputs": [],
   "source": [
    "df.to_csv('cleanc1.csv', sep=',', header='cleanedcontent1')"
   ]
  },
  {
   "cell_type": "code",
   "execution_count": 7,
   "metadata": {},
   "outputs": [],
   "source": [
    "cleantext2=[]\n",
    "for doc in  db.news2.find():\n",
    "    cleantext2.append(list(doc['cleaned_content1']))"
   ]
  },
  {
   "cell_type": "code",
   "execution_count": 8,
   "metadata": {},
   "outputs": [],
   "source": [
    "df2 = pd.Series(cleantext2)"
   ]
  },
  {
   "cell_type": "code",
   "execution_count": 9,
   "metadata": {},
   "outputs": [],
   "source": [
    "df2.to_csv('cleanc2.csv', sep=',', header='cleanedcontent1')"
   ]
  },
  {
   "cell_type": "code",
   "execution_count": 10,
   "metadata": {},
   "outputs": [],
   "source": [
    "cleantext3=[]\n",
    "for doc in  db.news3.find():\n",
    "    cleantext3.append(list(doc['cleaned_content1']))"
   ]
  },
  {
   "cell_type": "code",
   "execution_count": 11,
   "metadata": {},
   "outputs": [],
   "source": [
    "df3 = pd.Series(cleantext3)"
   ]
  },
  {
   "cell_type": "code",
   "execution_count": 12,
   "metadata": {},
   "outputs": [],
   "source": [
    "df3.to_csv('cleanc3.csv', sep=',', header='cleanedcontent1')"
   ]
  },
  {
   "cell_type": "code",
   "execution_count": 37,
   "metadata": {},
   "outputs": [],
   "source": [
    "a = db.cleanedcontent.aggregate( [ { '$sample': {'size' : 3}}])"
   ]
  },
  {
   "cell_type": "code",
   "execution_count": 38,
   "metadata": {},
   "outputs": [
    {
     "name": "stdout",
     "output_type": "stream",
     "text": [
      "['wa', 'loung', 'hotel', 'bed', 'cincinnati', 'hi', 'phone', 'rang', 'cowboy', 'alway', 'knew', 'could', 'reach', 'even', 'saturday', 'wa', 'decemb', 'team', 'execut', 'wa', 'call', 'spoke', 'fast', 'two', 'player', 'miss', 'one', 'heard', 'sinc', 'previou', 'night', 'neither', 'wa', 'answer', 'hi', 'phone', 'cincinnati', 'listen', 'took', 'note', 'david', 'well', 'isn’t', 'famou', 'might', 'influenti', 'figur', 'nfl', 'valuabl', 'franchis', 'part', 'crisi', 'manag', 'part', 'fixer', 'part', 'therapist', 'task', 'help', 'public', 'figur', 'becom', 'one', 'team', 'secur', 'expert', 'employe', 'untangl', 'legal', 'problem', 'extra', 'layer', 'protect', 'may', 'uniqu', 'cowboy', 'well', 'bring', 'special', 'set', 'skill', 'someth', 'someon', 'jeopard', 'imag', 'pro', 'footbal', 'signatur', 'franchis', 'cowboy', 'know', 'deploy', 'hour', 'befor', 'call', 'accid', 'lineback', 'jerri', 'brown', 'wa', 'dead', 'nose', 'tackl', 'josh', 'brent', 'wa', 'jail', 'team', 'charter', 'plane', 'would', 'leav', 'soon', 'game', 'schedul', 'next', 'day', 'stick', 'schedul', 'well', 'told', 'execut', 'would', 'handl', '‘he', 'doe', 'everything’', 'almost', 'alway', 'move', 'tuesday', 'morn', 'juli', 'walk', 'fifth', 'floor', 'frank', 'crowley', 'court', 'build', 'downtown', 'call', 'toward', 'well', 'attorney', 'stop', 'catch', 'bust', 'hi', 'chop', 'one', 'get', 'hi', 'pictur', 'taken', 'well', 'bondsman', 'wear', 'short', 'insid', 'courthous', 'take', 'elev', 'fourth', 'floor', 'reconnect', 'judg', 'hasn’t', 'seen', 'month', 'wave', 'anoth', 'old', 'friend', 'escal', 'back', 'zigzag', 'hallway', 'offic', 'open', 'courtroom', 'never', 'knock', 'ask', 'permiss', 'defens', 'attorney', 'beam', 'well', 'walk', 'clerk', 'cramp', 'offic', 'tell', 'final', 'transfer', 'secur', 'tell', 'hi', '“it', 'ain’t', 'know', 'say', 'well', 'peopl', 'don’t', 'know', 'they’r', 'familiar', 'hi', 'intim', 'knowledg', 'law', 'learn', 'maneuv', 'system', 'matter', 'hi', 'skill', 'fix', 'others’', 'problem', 'well', 'never', 'much', 'good', 'manag', 'hi', 'almost', 'went', 'prison', 'year', 'ago', 'hi', 'marriag', 'fell', 'apart', 'lost', 'hi', 'busi', 'summer', 'morn', 'dez', 'bryant', 'cowboy', 'wide', 'receiv', 'accus', 'well', 'associ', 'swindl', 'well', 'crafti', 'charm', 'busi', 'collect', 'friend', 'leverag', 'secret', 'anyon', 'build', 'turn', 'hi', 'method', 'don’t', 'show', 'peopl', 'call', 'mayor', 'crowley', 'courthous', 'like', 'okay', 'nicknam', 'prefer', 'swing', 'open', 'judg', 'patterson', 'courtroom', 'bailiff', 'shout', 'across', 'room', '“it', 'wooooooolf', 'say', 'well', 'smile', 'like', '“pulp', 'fiction”', 'charact', 'winston', 'wolf', 'fixer', 'exist', 'margin', 'function', 'without', 'ceremoni', 'consid', 'angl', 'contempl', 'solv', 'complic', 'problem', 'wonder', 'cowboy', 'known', 'acquir', 'player', 'second', 'third', 'chanc', 'trust', 'well', 'implicitli', 'valuabl', 'unpredict', 'asset', 'whatev', 'rout', 'player', 'tri', 'find', 'system', 'simpl', 'help', 'driver', 'licens', 'thorni', 'entangl', 'involv', 'crimin', 'charg', 'alway', 'one', 'option', 'help', 'find', 'way', 'call', 'wolf', 'haven’t', 'question', 'dave', 'couldn’t', 'answer', 'tell', 'said', 'adam', '“pacman”', 'jone', 'bengal', 'cornerback', '“whenev', 'someth', 'mess', 'need', 'outsid', 'line', 'littl', 'bit', 'former', 'kaufman', 'counti', 'tex', 'district', 'attorney', 'rick', 'harrison', 'said', '“he', 'guy', 'tremend', 'asset', 'franchis', 'jerri', 'jone', 'said', 'won’t', 'get', 'detail', 'kind', 'thing', 'well', 'doe', 'becaus', 'doe', 'everyth', 'month', 'ago', 'well', 'vet', 'quarterback', 'johnni', 'manziel', 'cowboy', 'consid', 'sign', 'well', 'latest', 'task', 'transfer', 'rooki', 'driver', 'licens', 'texa', 'without', 'player', 'visit', 'dmv', 'pacman', 'jone', 'bryant', 'onc', 'move', 'well', 'former', 'defens', 'back', 'spillman', 'await', 'trial', 'earlier', 'year', 'sexual', 'assault', 'charg', 'becaus', 'courthous', 'anyway', 'well', 'decid', 'dip', 'adult', 'probat', 'offic', 'check', 'statu', 'josh', 'brent', 'four', 'year', 'ago', 'drove', 'drunk', 'crash', 'hi', 'merced', 'accid', 'kill', 'brown', 'spur', 'phone', 'call', 'cincinnati', 'say', 'differ', 'person', 'tell', 'woman', 'desk', '“he', 'adjust', 'everyth', 'attend', 'support', 'group', '“ye', 'ma’am', 'doe', 'acknowledg', 'consequ', 'done', '“he', 'don’t', 'hide', 'anniversari', 'kind', 'get', 'continu', 'learn', 'hi', 'mistak', '“he', 'realli', 'good', 'place', 'well', 'say', 'turn', 'back', 'toward', 'hallway', '“i’v', 'seen', 'lot', 'differ', 'way', 'say', 'spillman', 'mind', 'juli', 'former', 'player', 'wa', 'sentenc', 'five', 'year', 'prison', 'well', 'see', 'one', 'discern', 'reason', 'didn’t', 'follow', 'instruct', 'david', 'well', 'say', '‘“i', 'get', 'call', 'part', 'problem', 'time', 'john', 'washington', 'post', 'make', 'name', 'two', 'decad', 'ago', 'well', 'open', 'hi', 'busi', 'put', 'gritti', 'block', 'oak', 'cliff', 'neighborhood', 'mile', 'bond', 'offic', 'near', 'courthous', 'rather', 'travel', 'town', 'reason', 'client', 'could', 'walk', 'east', 'saner', 'avenu', 'matter', 'hour', 'wa', 'david', 'bail', 'bond', 'deal', 'world', 'say', 'well', 'parlay', 'littl', 'advantag', 'busi', 'dure', 'one', 'stretch', 'year', 'ago', 'earn', 'fifth', 'million', 'market', 'year', 'earlier', 'watch', 'hi', 'grandfath', 'oper', 'corner', 'groceri', 'neighborhood', 'wa', 'modest', 'grandfath', 'wouldn’t', 'allow', 'anyon', 'hungri', 'sometim', 'bill', 'paid', 'chore', 'favor', 'well', 'rememb', 'hi', 'first', 'time', 'work', 'issu', 'side', 'wa', 'year', 'old', 'friend', 'stolen', 'wrong', 'peopl', 'wa', 'troubl', 'well', 'went', 'work', 'told', 'aggriev', 'parti', 'understood', 'retribut', 'hi', 'friend', 'wa', 'unavoid', 'said', 'beat', 'wasn’t', 'sever', 'he’d', 'see', 'item', 'return', 'later', 'young', 'dealmak', 'wait', 'nightfal', 'sneak', 'stolen', 'good', 'onto', 'porch', 'later', 'commun', 'liaison', 'polic', 'depart', 'learn', 'law', 'often', 'watertight', 'five', 'year', 'spent', 'walk', 'street', 'southwest', 'district', 'learn', 'residents’', 'need', 'vari', 'block', 'block', 'onc', 'kid', 'complain', 'cost', 'box', 'glove', 'well', 'swipe', 'pair', 'polic', 'athlet', 'leagu', 'wa', 'fire', 'charg', 'theft', 'almost', 'three', 'decad', 'later', 'well', 'still', 'believ', 'wa', 'right', 'thing', 'work', 'privat', 'secur', 'freelanc', 'investig', 'attorney', 'lean', 'connect', 'made', 'minist', 'politician', 'report', 'confid', 'year', 'pass', 'found', 'entangl', 'adventur', 'onli', 'enhanc', 'hi', 'go', 'broke', 'year', 'befor', 'strike', 'rich', 'robber', 'well', 'say', 'fought', 'despit', 'shot', 'leg', 'merchant', 'proposit', 'well', 'competitor', 'kill', 'convers', 'well', 'secretli', 'record', 'befor', 'deliv', 'fbi', 'time', 'becam', 'well', 'thing', 'bridg', 'divid', 'cop', 'crimin', 'play', 'whichev', 'side', 'fit', 'hi', 'definit', 'right', 'wrong', 'often', 'might', 'rememb', 'favor', 'time', 'pass', 'attorney', 'he’d', 'befriend', 'becam', 'judg', 'politician', 'everi', 'level', 'rememb', 'well', 'often', 'repay', 'hi', 'prefer', 'currenc', 'inform', 'becam', 'folk', 'hero', 'courthous', 'rush', 'crime', 'scene', 'interview', 'bystand', 'befor', 'investig', 'could', 'march', 'courtroom', 'wit', 'one', 'els', 'could', 'get', 'well', 'wa', 'effect', 'lawyer', 'hire', 'stop', 'said', 'longtim', 'attorney', 'anthoni', 'lyon', '“there', 'go', 'time', 'david', 'result', 'you’r', 'go', 'ask', 'cowboy', 'win', 'super', 'bowl', 'wide', 'receiv', 'michael', 'irvin', 'couldn’t', 'seem', 'avoid', 'scandal', 'anoth', 'involv', 'sex', 'drug', 'irvin', 'attorney', 'royc', 'west', 'hire', 'well', 'past', 'least', 'irvin', 'stood', 'trial', 'cocain', 'possess', 'need', 'buffer', 'keep', 'irvin', 'troubl', 'well', 'hi', 'job', 'irvin', 'escap', 'probat', 'wasn’t', 'long', 'befor', 'irvin', 'hire', 'well', 'hi', 'bodyguard', 'irvin', 'wa', 'arrest', 'time', 'minor', 'drug', 'charg', 'along', 'woman', 'tip', 'well', 'quickli', 'corral', 'attorney', 'familiar', 'north', 'court', 'hurri', 'toward', 'plano', 'hi', 'suv', 'one', 'licens', 'plate', 'read', '“bail', 'me”', 'floor', 'onc', 'saw', 'news', 'go', 'direct', 'well', 'arriv', 'convinc', 'irvin', 'hold', 'impromptu', 'news', 'confer', 'declar', 'hi', 'innoc', 'realli', 'don’t', 'know', 'went', 'befuddl', 'cowboy', 'receiv', 'told', 'report', 'entir', 'episod', 'wound', 'forgett', 'irvin', 'word', 'wa', 'point', 'irvin', 'spoke', 'woman', 'hid', 'insid', 'apart', 'later', 'attorney', 'well', 'quietli', 'drove', 'away', '“nobodi', 'well', 'say', 'proudli', '“got', 'real', 'stori', 'eventu', 'reach', 'jerri', 'jone', 'prospector', 'made', 'hi', 'fortun', 'oil', 'hi', 'fame', 'assembl', 'team', 'known', 'either', 'great', 'baggag', 'heard', 'bondsman', 'friend', 'courthous', 'wa', 'skill', 'handl', 'matter', 'keep', 'quiet', 'cowboy', 'jone', 'decid', 'need', 'someon', 'like', 'cowboy', 'owner', 'jerri', 'jone', 'said', 'david', 'well', 'trust', 'hi', 'skill', 'tim', 'phone', 'call', 'away', 'cowboy', 'unleash', 'wolf', 'instanc', 'player', 'arrest', 'drunken', 'drive', 'well', 'instruct', 'often', 'begin', 'way', 'offic', 'tell', 'say', 'noth', 'well', 'begin', 'paperwork', 'player', 'behalf', 'restrict', 'occup', 'licens', 'learn', 'name', 'presid', 'judg', 'alreadi', 'know', 'lawyer', 'cozi', 'hi', 'honor', 'hate', 'say', 'well', 'say', 'know', 'hire', 'base', 'relationship', 'fight', 'particularli', 'involv', 'wife', 'girlfriend', 'complic', 'matter', 'hour', 'well', 'hurri', 'scene', 'prefer', 'say', 'ahead', 'polic', 'start', 'put', '“kiss', 'girlfriend', 'ass', 'wife', 'ass', 'like', 'calmli', 'remind', 'side', 'hey', 'get', 'relationship', 'tough', 'one', 'argument', 'allow', 'leav', 'stain', 'could', 'alter', 'live', 'curb', 'earn', 'potenti', '“tell', 'well', 'say', 'recreat', 'typic', 'exchang', '“let', 'fix', 'almost', 'noth', 'valuabl', 'nfl', 'front', 'offic', 'discret', 'noth', 'threaten', 'season', 'brand', '“distract', 'forb', 'say', 'cowboy', 'worth', 'billion', 'valu', 'part', 'depend', 'team', 'abil', 'keep', 'star', 'player', 'field', 'contend', 'championship', 'maintain', 'global', 'popular', 'everi', 'incid', 'gener', 'neg', 'headlin', 'well', 'said', 'handl', 'without', 'public', 'knowledg', 'see', 'hi', 'job', 'protect', 'interest', 'hi', 'employ', 'ask', 'whether', 'doe', 'right', 'wrong', 'get', 'call', 'part', 'problem', 'say', '“all', 'time', 'travel', 'advanc', 'cowboy', 'road', 'game', 'often', 'stay', 'team', 'hotel', 'usual', 'attend', 'train', 'camp', 'oxnard', 'calif', 'won’t', 'discuss', 'hi', 'financi', 'arrang', 'team', 'beyond', 'say', 'work', 'basi', 'well', 'boast', 'incid', 'involv', 'player', 'occur', 'often', 'know', 'befor', 'cowboy', 'coach', 'jason', 'garrett', 'doe', 'ask', 'well', 'action', 'behalf', 'team', 'player', 'cowboy', 'spokesman', 'declin', 'comment', 'acquir', 'troubl', 'player', 'well', 'occasion', 'assign', 'help', 'keep', 'right', 'path', 'sometim', 'need', 'pacman', 'jone', 'follow', 'nfl', 'suspens', 'seri', 'polic', 'move', 'well', 'hous', 'desoto', 'quiet', 'suburb', 'south', 'rare', 'wander', 'far', 'well', 'sight', '“mi', 'manag', 'secur', 'cornerback', 'call', 'well', '“dave', 'basic', 'everyth', 'need', 'play', 'footbal', 'know', 'year', 'later', 'wide', 'receiv', 'michael', 'crabtre', 'distant', 'rel', 'well', 'say', 'introduc', 'well', 'bryant', 'texa', 'nativ', 'move', 'well', 'shortli', 'wa', 'suspend', 'oklahoma', 'state', 'nfl', 'draft', 'approach', 'bryant', 'talent', 'wasn’t', 'question', 'hi', 'abil', 'stay', 'troubl', 'wa', 'month', 'well', 'roof', 'well', 'came', 'see', 'bryant', 'misunderstood', 'soul', 'whose', 'upbring', 'chaotic', 'knew', 'right', 'wrong', 'nfl', 'team', 'back', 'away', 'bryant', 'becaus', 'concern', 'well', 'contact', 'cowboy', 'vouch', 'hi', 'charact', 'jerri', 'jone', 'agre', 'meet', 'bryant', '“when', 'well', 'tell', 'someth', 'go', 'right', 'jone', 'said', 'recent', 'trust', 'hi', 'skill', 'long', 'meet', 'bryant', 'held', 'hi', 'draft', 'parti', 'well', 'home', 'call', 'came', 'say', 'wa', 'use', 'overal', 'pick', 'select', 'bryant', 'young', 'receiv', 'press', 'phone', 'hi', 'ear', 'fight', 'tear', 'fell', 'well', 'arm', 'dez', 'bryant', 'live', 'david', 'well', 'time', 'relationship', 'wa', 'complic', 'tom', 'imag', 'famili', 'infight', 'tuesday', 'morn', 'well', 'highway', 'bob', 'hi', 'head', 'old', 'skool', 'station', 'hi', 'phone', 'ring', 'anoth', 'problem', 'one', 'involv', 'well', '“what', 'need', 'say', 'west', 'attorney', 'onc', 'repres', 'irvin', 'texa', 'state', 'senat', 'line', 'month', 'ago', 'bryant', 'move', 'home', 'west', 'file', 'lawsuit', 'alleg', 'properti', 'wa', '“litter', 'trash', 'feces”', 'sought', 'cover', 'repair', 'cost', 'bryant', 'retali', 'countersu', 'part', 'accus', 'west', 'well', 'skim', 'top', 'endors', 'deal', 'part', 'well', 'call', 'bryant', 'get', 'inevit', 'argument', 'part', 'almost', 'amus', 'perfectli', 'symbol', 'relationship', 'veri', 'dave', 'dez', 'day', 'befor', 'bryant', 'visit', 'well', 'home', 'weekend', 'barbecu', 'publicli', 'call', 'well', 'thief', 'bryant', 'live', 'well', 'three', 'year', 'includ', 'first', 'two', 'season', 'hi', 'nfl', 'career', 'good', 'day', 'well', 'taught', 'bryant', 'credit', 'score', 'import', 'keep', 'insur', 'card', 'hi', 'vehicl', 'enough', 'lesson', 'basic', 'skill', 'well', 'believ', 'could', 'reform', 'anyon', 'bad', 'day', 'say', 'broke', 'fight', 'hi', 'live', 'room', 'bryant', 'receiv', 'mother', 'well', 'saw', 'bryant', 'rebelli', 'bryant', 'trust', 'well', 'enough', 'hire', 'hi', 'paid', 'advis', 'financi', 'manag', 'grant', 'power', 'attorney', 'learn', 'weak', 'point', 'secret', 'sometim', 'declar', 'bloodi', 'one', 'day', 'hug', 'next', 'last', 'year', 'bryant', 'cut', 'well', 'hi', 'busi', 'deal', 'somehow', 'remain', 'friend', 'bryant', 'countersuit', 'refer', 'well', '“crony”', 'exploit', 'hi', 'relationship', 'bryant', 'money', '“we', 'got', 'get', 'ahead', 'though', 'well', 'tell', 'west', '“thi', 'can’t', 'like', 'unfold', 'well', 'often', 'agent', 'bombast', 'get', 'quiet', 'hi', 'mind', 'bryant', 'listen', 'question', 'ignor', 'say', 'someth', 'cannot', 'take', 'back', 'yet', 'anyway', '“i’m', 'go', 'say', 'i’m', 'scare', 'courtroom', 'say', 'think', 'stew', 'amus', 'gone', 'buri', 'anger', 'defianc', 'got', 'bodi', 'buri', 'well', 'say', '“do', 'realli', 'explet', 'mean', 'system', 'trust', 'thing', 'bryant', 'still', 'well', 'mind', 'take', 'escal', 'second', 'floor', 'hotel', 'downtown', 'hour', 'ago', 'josh', 'brent', 'idea', 'would', 'well', 'said', 'trust', 'walk', 'crowd', 'ballroom', 'leadership', 'confer', 'young', 'profession', 'brent', 'head', 'toward', 'microphon', 'drive', 'well', 'told', 'brent', 'would', 'good', 'speak', 'occasion', 'hi', 'experi', 'stand', 'near', 'wall', 'brent', 'begin', 'fell', 'say', '“from', 'top', 'bottom', 'brent', 'hadn’t', 'yet', 'well', 'introduc', 'courthous', 'follow', 'incid', 'four', 'year', 'ago', 'well', 'didn’t', 'ask', 'whether', 'brent', 'wa', 'guilti', 'innoc', 'didn’t', 'whether', 'polic', 'alleg', 'brent', 'gotten', 'behind', 'wheel', 'hi', 'blood', 'alcohol', 'content', 'twice', 'legal', 'limit', 'drove', 'fast', 'car', 'touch', 'curb', 'flip', 'befor', 'slide', 'roof', 'well', 'wasn’t', 'interest', 'whether', 'polic', 'arriv', 'brent', 'wa', 'attempt', 'pull', 'brown', 'bodi', 'burn', 'car', 'well', 'wa', 'alreadi', 'mode', 'told', 'brent', 'trust', '“if', 'everyth', 'tell', 'recal', 'tell', 'young', 'keep', 'penitentiari', 'alway', 'instruct', 'brent', 'keep', 'quiet', 'let', 'well', 'hi', 'attorney', 'talk', 'advis', 'stop', 'drink', 'well', 'invit', 'move', 'one', 'hi', 'spare', 'bedroom', 'dez', 'pacman', 'follow', 'well', 'see', 'life', 'rehabilit', 'program', 'brent', 'spent', 'day', 'take', 'trash', 'tidi', 'hi', 'room', 'keep', 'refriger', 'well', 'garag', 'stock', 'water', 'gatorad', 'kid', 'neighborhood', 'allow', 'thirsti', 'night', 'talk', 'turn', 'page', '“thi', 'wasn’t', 'cowboy', 'well', 'say', '“thi', 'wa', 'josh', 'life', 'well', 'told', 'brent', 'hi', 'secret', 'feder', 'grand', 'juri', 'indict', 'three', 'count', 'tax', 'evas', 'accus', 'file', 'fals', 'fraudul', 'return', 'use', 'busi', 'account', 'pay', 'person', 'item', 'plead', 'guilti', 'exchang', 'three', 'years’', 'probat', 'avoid', 'prison', 'convict', 'requir', 'forfeit', 'hi', 'bondsman', 'licens', 'though', 'still', 'involv', 'consult', 'turn', 'control', 'hi', 'busi', 'associ', 'wa', 'low', 'point', 'well', 'life', 'told', 'brent', 'wa', 'left', 'athlet', 'broken', 'live', 'believ', 'could', 'fix', 'point', 'includ', 'hi', 'thirteen', 'month', 'accid', 'brent', 'wa', 'convict', 'intox', 'manslaught', 'sentenc', 'six', 'month', 'jail', 'years’', 'probat', 'say', 'hasn’t', 'drink', 'sinc', 'friday', 'night', 'decemb', 'older', 'get', 'think', 'hi', 'friend', 'car', 'made', 'mistak', 'one', 'life', 'nearli', 'shatter', 'hi', 'brent', 'work', 'hi', 'former', 'team', 'scout', 'say', 'later', 'cowboy', '“don’t', 'even', 'know', 'have”', 'well', 'valu', 'organ', 'brent', 'speak', 'group', 'three', 'half', 'discuss', 'judgment', 'valu', 'mentor', 'step', 'away', 'microphon', 'applaus', 'walk', 'toward', 'well', 'put', 'hi', 'hand', 'shoulder', '“how’d', 'brent', 'mouth', 'audienc', 'member', 'approach', 'laugh', 'joke', 'ask', 'they’r', 'finish', 'product', 'well', 'say', 'look', 'alway', 'solv', 'well', 'pull', 'driveway', 'desoto', 'brent', 'walk', 'garag', 'past', 'cardboard', 'box', 'spillman', 'thing', 'brent', 'listen', 'wolf', 'spillman', 'didn’t', 'declin', 'plea', 'deal', 'well', 'advic', 'well', 'believ', 'whi', 'brent', 'free', 'spillman', 'walk', 'insid', 'brent', 'excus', 'well', 'decid', 'good', 'time', 'shower', 'disappear', 'back', 'well', 'new', 'wife', 'jennif', 'decid', 'good', 'time', 'drink', 'two', 'finger', 'johnni', 'walker', 'blue', 'gift', 'jerri', 'jone', 'later', 'well', 'emerg', 'wear', 'sleeveless', 'shirt', 'stand', 'hi', 'kitchen', 'hope', 'bed', 'hour', 'ago', 'wait', 'one', 'call', '“normal', 'day', 'jennif', 'say', 'well', 'chuckl', 'befor', 'mutter', 'someth', 'bryant', 'matter', 'week', 'latest', 'disagr', 'dissolv', 'west', 'bryant', 'withdraw', 'lawsuit', 'cowboy', 'receiv', 'say', '“there', 'ain’t', 'issue”', 'well', 'somewher', 'even', 'anoth', 'crisi', 'unfold', 'though', 'brent', 'rehabilit', 'complet', 'anoth', 'bryant', 'ordeal', 'settl', 'well', 'univers', 'next', 'problem', 'never', 'phone', 'call', 'away', 'lean', 'refriger', 'clock', 'tick', 'abov', 'doorway', 'hold', 'hi', 'phone', 'ring', 'voic', 'speak', 'fast', 'well', 'listen', 'consid', 'angl', 'one', 'time', '“okay', 'say', 'rub', 'hi', 'eye', '“here', 'we’r', 'gonna'] \n",
      "\n",
      "['presid', 'obama', 'deliv', 'commenc', 'address', 'sunday', 'rutger', 'univers', 'new', 'jersey', 'anniversari', 'school', 'found', 'one', 'last', 'time', 'obama', 'speak', 'graduat', 'class', 'offic', 'mean', 'hi', 'first', 'fact', 'presid', 'deliv', 'nearli', 'two', 'dozen', 'commenc', 'speech', 'past', 'seven', 'year', 'look', 'back', 'collect', 'commenc', 'remark', 'help', 'reveal', 'problem', 'promis', 'day', 'deliv', 'among', 'topic', 'loom', 'largest', 'time', 'economi', 'regard', 'member', 'rutger', 'class', 'might', 'count', 'themselv', 'lucki', 'they’r', 'graduat', 'one', 'best', 'job', 'market', 'year', 'pictur', 'wa', 'veri', 'differ', 'back', 'summer', 'obama', 'deliv', 'sober', 'messag', 'graduat', 'arizona', 'state', 'univers', '”we', 'gather', 'tonight', 'time', 'extraordinari', 'difficulti', 'nation', 'world', 'said', '”the', 'economi', 'remain', 'midst', 'histor', 'recess', 'worst', 'we’v', 'seen', 'sinc', 'great', 'depress', 'hole', 'would', 'take', 'year', 'time', 'spoke', 'graduat', 'howard', 'univers', 'last', 'weekend', 'obama', 'said', 'confid', 'one', 'best', 'moment', 'histori', 'aliv', '”you', 'track', 'address', 'progress', 'toward', 'obama', 'believ', 'economi', 'prosper', 'young', 'peopl', 'enter', 'much', 'better', 'world', 'implicitli', 'cours', 'thank', 'hi', 'polici', 'say', 'kathleen', 'hall', 'jamieson', 'research', 'presidenti', 'speechmak', 'univers', 'pennsylvania', 'annenberg', 'school', 'commun', 'track', 'nation', 'militari', 'movement', 'graduat', 'speech', 'presid', 'give', 'spring', 'one', 'five', 'servic', 'academi', 'obama', 'spoke', 'cadet', 'west', 'point', 'countri', 'nine', 'year', 'wa', 'midst', 'troop', 'surg', 'afghanistan', 'stand', 'humbl', 'knowledg', 'mani', 'soon', 'serv', 'harm', 'way', 'four', 'year', 'later', 'obama', 'return', 'west', 'point', 'one', 'combat', 'mission', 'deadlin', 'anoth', '”you', 'first', 'class', 'graduat', 'sinc', 'may', 'sent', 'combat', 'iraq', 'afghanistan', 'said', 'celebr', 'wa', 'prematur', 'within', 'week', 'iraqi', 'mosul', 'would', 'fall', 'speak', 'graduat', 'air', 'forc', 'academi', 'next', 'month', 'obama', 'still', 'stare', 'troop', 'commit', 'afghanistan', 'militari', 'academi', 'regular', 'stop', 'graduat', 'venu', 'chosen', 'make', 'point', 'immigr', 'exampl', 'miami', 'dade', 'colleg', 'achiev', 'morehous', 'colleg', 'jamieson', 'say', 'pomp', 'circumst', 'offer', 'presid', 'chanc', 'step', 'back', 'crush', 'daili', 'news', 'cycl', '”one', 'interest', 'thing', 'commenc', 'address', 'presid', 'highli', 'introspect', 'interest', 'way', 'say', '”these', 'veri', 'person', 'moment', 'recur', 'theme', 'obama', 'citizen', 'divers', 'countri', 'like', 'one', 'navig', 'differ', 'address', 'earli', 'notr', 'dame', 'invit', 'cathol', 'school', 'wa', 'controversi', 'given', 'presid', 'posit', 'abort', 'obama', 'return', 'subject', 'last', 'weekend', 'howard', 'tell', 'graduat', 'chang', 'requir', 'listen', 'well', 'speak', '”in', 'particular', 'said', '”it', 'requir', 'listen', 'disagre', 'prepar', 'compromis', 'graduat', 'alway', 'mileston', 'student', 'year', 'they’r', 'mileston', 'presid', 'begin', 'look', 'toward', 'hi', 'graduat', 'oval', 'offic', 'commenc', 'hi', 'career', 'use', 'joke', 'old', 'said', 'howard', 'last', 'week', '”now', 'realiz', 'i’m', 'old', 'joke', 'ani', 'obama', 'say', 'one', 'ceremoni', 'won’t', 'speak', 'year', 'hi', 'oldest', 'daughter', 'high', 'school', 'graduat', 'hi', 'daughter', 'malia', 'get', 'diploma', 'next', 'month', 'obama', 'say', 'he’ll', 'audienc', 'wear', 'dark', 'glass', 'cri'] \n",
      "\n",
      "['donald', 'trump', 'respond', 'renew', 'controversi', 'surround', 'hi', 'busi', 'tie', 'tuesday', 'interview', 'new', 'york', 'time', 'insist', '”the', 'presid', 'can’’t', 'conflict', 'interest”', 'scrutini', 'tweet', 'meet', 'show', 'trump', 'understood', 'hi', 'busi', 'tie', 'could', 'perceiv', '”the', 'law’', 'total', 'side', 'presid', 'can’’t', 'conflict', 'interest', 'said', '”mi', 'company’', 'unimport', 'rel', 'i’’m', 'still', 'trump', 'said', '”in', 'theory”', 'could', 'continu', 'sign', 'check', 'hi', 'compani', '”phase', 'now”', 'pass', 'control', 'hi', 'compani', 'hi', 'adult', 'children', '”in', 'theori', 'could', 'run', 'busi', 'perfectli', 'run', 'countri', 'perfectli', 'said', '”there’', 'never', 'case', 'like', 'this”', 'involv', 'presid', '”i’’d', 'assum', 'you’’d', 'set', 'type', 'trust', 'whatev', 'don’’t', 'said', 'would', 'like', 'someth', 'ask', 'would', 'simpli', 'sell', 'hi', 'hold', 'said', 'would', '”realli', 'hard', 'thing', 'becaus', 'real', 'estat', 'trump', 'abil', 'separ', 'hi', 'busi', 'tie', 'presid', 'question', 'recent', 'day', 'hi', 'daughter', 'ivanka', 'stand', 'leader', 'take', 'hi', 'compani', 'sat', 'meet', 'japanes', 'prime', 'minist', 'shinzo', 'abe', 'last', 'week', 'wa', 'congratulatori', 'phone', 'call', 'argentin', 'presid', 'mauricio', 'macri', '”if', 'peopl', 'would', 'never', 'ever', 'see', 'daughter', 'ivanka', 'trump', 'said', 'trump', 'last', 'week', 'hi', 'trump', 'tower', 'offic', 'three', 'indian', 'busi', 'partner', 'build', 'apart', 'complex', 'near', 'mumbai', 'three', 'pose', 'trump', 'pictur', 'post', 'twitter', 'spokeswoman', 'trump', 'organ', 'describ', 'meet', 'courtesi', 'call', 'three', 'execut', '”it', 'wa', 'formal', 'meet', 'ani', 'kind', 'breanna', 'butler', 'spokeswoman', 'told', 'time', 'text', 'messag', 'exchang', 'time', 'one', 'three', 'businessmen', 'said', 'report', 'indian', 'newspap', 'anoth', 'partner', 'discuss', 'desir', 'expand', 'deal', 'trump', 'famili', 'wa', 'accur', 'butler', 'said', 'would', 'involv', 'deal', 'trump', 'organ', 'anoth', 'spokeswoman', '”the', 'structur', 'ultim', 'select', 'compli', 'applic', 'rule', 'regul', 'variou', 'point', 'along', 'campaign', 'trail', 'trump', 'said', 'hi', 'busi', 'would', 'control', 'hi', 'children', 'said', 'wa', '”blind', 'trust', 'even', 'though', 'constitut', 'independ', 'manag', 'typic', 'someon', 'close', 'tie', 'holder', 'children', 'ivanka', 'presenc', 'meet', 'phone', 'call', 'appear', 'onli', 'blur', 'line', 'trump', 'busi', 'empir', 'upcom', 'trump', 'presid', 'accord', 'sunday', 'least', 'separ', 'trump', 'compani', 'conduct', 'busi', 'countri', 'across', 'south', 'america', 'middl', 'east', 'asia', 'point', 'specif', 'trump', 'tower', 'project', 'istanbul', 'someth', 'trump', 'one', 'point', 'said', 'could', 'present', 'littl', 'conflict', 'interest', 'post', 'wrote', '”polici', 'ethic', 'expert', 'scrambl', 'assess', 'potenti', 'danger', 'public', 'rule', 'leader', 'vast', 'web', 'privat', 'busi', 'deal', 'biggest', 'legal', 'risk', 'trump', 'result', 'hi', 'busi', 'tie', 'passag', 'constitut', 'known', 'emolu', 'claus', 'forbid', 'govern', 'offici', 'receiv', 'gift', 'foreign', 'govern', 'post', 'report', 'payment', 'foreign', 'offici', 'compani', 'trump', 'hotel', 'compani', 'bear', 'hi', 'name', 'could', 'potenti', 'violat', 'claus', 'could', 'favor', 'legisl', 'treatment', 'oversea', 'govern', 'aim', 'benefit', 'trump', 'properti'] \n",
      "\n"
     ]
    }
   ],
   "source": [
    "for doc in list(a):\n",
    "    print(doc['Cleanedcontent'],'\\n')\n"
   ]
  },
  {
   "cell_type": "code",
   "execution_count": null,
   "metadata": {},
   "outputs": [],
   "source": []
  }
 ],
 "metadata": {
  "kernelspec": {
   "display_name": "Python 3",
   "language": "python",
   "name": "python3"
  },
  "language_info": {
   "codemirror_mode": {
    "name": "ipython",
    "version": 3
   },
   "file_extension": ".py",
   "mimetype": "text/x-python",
   "name": "python",
   "nbconvert_exporter": "python",
   "pygments_lexer": "ipython3",
   "version": "3.6.5"
  }
 },
 "nbformat": 4,
 "nbformat_minor": 2
}
