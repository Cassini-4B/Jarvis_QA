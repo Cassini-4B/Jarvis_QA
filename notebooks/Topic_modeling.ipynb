{
 "cells": [
  {
   "cell_type": "code",
   "execution_count": 1,
   "metadata": {},
   "outputs": [],
   "source": [
    "import numpy as np\n",
    "import sklearn\n",
    "import matplotlib.pyplot as plt\n",
    "%matplotlib inline\n",
    "import pandas as pd\n",
    "import sys\n",
    "import re\n",
    "import pickle\n",
    "import string\n",
    "import nltk\n",
    "from nltk.corpus import stopwords\n",
    "from nltk.stem import porter\n",
    "import pymongo\n",
    "from pymongo import MongoClient\n",
    "\n",
    "from sklearn.feature_extraction.text import CountVectorizer, TfidfVectorizer\n",
    "from sklearn.decomposition import LatentDirichletAllocation\n",
    "\n",
    "from sklearn.decomposition import TruncatedSVD\n",
    "\n",
    "\n",
    "from sklearn.decomposition import NMF\n",
    "\n",
    "from sklearn.preprocessing import Normalizer\n",
    "from sklearn import metrics\n",
    "from sklearn.cluster import KMeans, MiniBatchKMeans\n",
    "\n"
   ]
  },
  {
   "cell_type": "code",
   "execution_count": 2,
   "metadata": {},
   "outputs": [],
   "source": [
    "client = MongoClient()\n",
    "db = client.jarvis\n",
    "#collection = db.news1\n",
    "#data = pd.DataFrame(list(collection.find()))"
   ]
  },
  {
   "cell_type": "code",
   "execution_count": 3,
   "metadata": {},
   "outputs": [
    {
     "name": "stdout",
     "output_type": "stream",
     "text": [
      "['washington', 'congression', 'republican', 'new', 'fear', 'health', 'lawsuit', 'obama', 'administr', 'might', 'win', 'incom', 'trump', 'administr', 'could', 'choos', 'longer', 'defend', 'execut', 'branch', 'suit', 'challeng', 'administr', 'author', 'spend', 'billion', 'dollar', 'health', 'insur', 'subsidi', 'american', 'hand', 'hous', 'republican', 'big', 'victori', 'issu', 'sudden', 'loss', 'disput', 'subsidi', 'could', 'conceiv', 'caus', 'health', 'program', 'implod', 'leav', 'million', 'peopl', 'without', 'access', 'health', 'insur', 'befor', 'republican', 'prepar', 'replac', 'could', 'lead', 'chao', 'insur', 'market', 'spur', 'polit', 'backlash', 'republican', 'gain', 'full', 'control', 'govern', 'stave', 'outcom', 'republican', 'could', 'find', 'themselv', 'awkward', 'posit', 'appropri', 'huge', 'sum', 'temporarili', 'prop', 'obama', 'health', 'law', 'anger', 'conserv', 'voter', 'demand', 'law', 'year', 'anoth', 'twist', 'donald', 'trump', 'administr', 'worri', 'preserv', 'execut', 'branch', 'prerog', 'could', 'choos', 'fight', 'republican', 'alli', 'hous', 'central', 'question', 'disput', 'eager', 'avoid', 'ugli', 'polit', 'pileup', 'republican', 'capitol', 'hill', 'trump', 'transit', 'team', 'game', 'handl', 'lawsuit', 'elect', 'put', 'limbo', 'least', 'late', 'februari', 'unit', 'state', 'court', 'appeal', 'district', 'columbia', 'circuit', 'yet', 'readi', 'divulg', 'strategi', '“given', 'pend', 'litig', 'involv', 'obama', 'administr', 'congress', 'would', 'inappropri', 'comment', 'said', 'phillip', 'blando', 'spokesman', 'trump', 'transit', 'effort', '“upon', 'take', 'offic', 'trump', 'administr', 'evalu', 'case', 'relat', 'aspect', 'afford', 'act', 'potenti', 'decis', 'judg', 'rosemari', 'collyer', 'rule', 'hous', 'republican', 'stand', 'execut', 'branch', 'spend', 'disput', 'obama', 'administr', 'distribut', 'health', 'insur', 'subsidi', 'violat', 'constitut', 'without', 'approv', 'congress', 'justic', 'depart', 'confid', 'judg', 'collyer', 'decis', 'would', 'revers', 'quickli', 'appeal', 'subsidi', 'remain', 'place', 'dure', 'appeal', 'success', 'seek', 'temporari', 'halt', 'proceed', 'trump', 'hous', 'republican', 'last', 'month', 'told', 'court', '“and', 'transit', 'team', 'current', 'discuss', 'potenti', 'option', 'resolut', 'matter', 'take', 'effect', 'inaugur', 'jan', 'suspens', 'case', 'hous', 'lawyer', 'said', '“provid', 'hi', 'futur', 'administr', 'time', 'consid', 'whether', 'continu', 'prosecut', 'otherwis', 'resolv', 'appeal', 'republican', 'leadership', 'offici', 'hous', 'acknowledg', 'possibl', '“cascad', 'effects”', 'payment', 'total', 'estim', 'billion', 'suddenli', 'stop', 'insur', 'receiv', 'subsidi', 'exchang', 'pay', 'cost', 'deduct', 'elig', 'consum', 'could', 'race', 'drop', 'coverag', 'sinc', 'would', 'lose', 'money', 'loss', 'subsidi', 'could', 'destabil', 'entir', 'program', 'caus', 'lack', 'confid', 'lead', 'insur', 'seek', 'quick', 'exit', 'well', 'anticip', 'trump', 'administr', 'might', 'inclin', 'mount', 'vigor', 'fight', 'hous', 'republican', 'given', 'dim', 'view', 'health', 'law', 'team', 'lawyer', 'month', 'sought', 'interven', 'case', 'behalf', 'two', 'particip', 'health', 'program', 'request', 'lawyer', 'predict', 'deal', 'hous', 'republican', 'new', 'administr', 'dismiss', 'settl', 'case', '“will', 'produc', 'devast', 'consequ', 'individu', 'receiv', 'reduct', 'well', 'nation', 'health', 'insur', 'health', 'system', 'gener', 'matter', 'happen', 'hous', 'republican', 'say', 'prevail', 'two', 'overarch', 'concept', 'congression', 'power', 'purs', 'right', 'congress', 'execut', 'branch', 'violat', 'constitut', 'regard', 'spend', 'power', 'hous', 'republican', 'contend', 'congress', 'never', 'appropri', 'money', 'subsidi', 'requir', 'constitut', 'suit', 'wa', 'initi', 'champion', 'john', 'boehner', 'hous', 'speaker', 'time', 'later', 'hous', 'committe', 'report', 'republican', 'assert', 'administr', 'desper', 'fund', 'requir', 'treasuri', 'depart', 'provid', 'despit', 'widespread', 'intern', 'skeptic', 'spend', 'wa', 'proper', 'white', 'hous', 'said', 'spend', 'wa', 'perman', 'part', 'law', 'pass', 'annual', 'appropri', 'wa', 'requir', 'even', 'though', 'administr', 'initi', 'sought', 'one', 'import', 'hous', 'republican', 'judg', 'collyer', 'found', 'congress', 'stand', 'white', 'hous', 'issu', 'rule', 'mani', 'legal', 'expert', 'said', 'wa', 'flaw', 'preced', 'set', 'restor', 'congression', 'leverag', 'execut', 'branch', 'spend', 'power', 'stand', 'trump', 'administr', 'may', 'pressur', 'advoc', 'presidenti', 'author', 'fight', 'hous', 'matter', 'share', 'view', 'health', 'sinc', 'preced', 'could', 'broad', 'repercuss', 'complic', 'set', 'dynam', 'illustr', 'quick', 'legal', 'victori', 'hous', 'trump', 'might', 'cost', 'republican', 'never', 'anticip', 'took', 'obama', 'white', 'hous'] \n",
      "\n",
      "['bullet', 'shell', 'get', 'count', 'blood', 'dri', 'votiv', 'candl', 'burn', 'peopl', 'peer', 'window', 'see', 'crime', 'scene', 'gone', 'cold', 'band', 'yellow', 'polic', 'tape', 'blow', 'breez', 'south', 'bronx', 'across', 'harlem', 'river', 'manhattan', 'onc', 'shorthand', 'urban', 'dysfunct', 'still', 'suffer', 'violenc', 'level', 'long', 'ago', 'slash', 'mani', 'part', 'new', 'york', 'yet', 'effort', 'fight', 'remain', 'splinter', 'underfund', 'burden', 'scandal', 'precinct', 'southern', 'tip', 'bronx', 'poor', 'minor', 'neighborhood', 'across', 'countri', 'peopl', 'long', 'hound', 'infract', 'cri', 'protect', 'grievou', 'injuri', 'death', 'septemb', 'four', 'everi', 'five', 'shoot', 'precinct', 'year', 'unsolv', 'precinct', 'highest', 'murder', 'rate', 'fewest', 'detect', 'violent', 'crime', 'reflect', 'dispar', 'staf', 'hit', 'hardest', 'neighborhood', 'outsid', 'manhattan', 'accord', 'new', 'york', 'time', 'analysi', 'polic', 'depart', 'data', 'investig', 'precinct', 'saddl', 'twice', 'number', 'case', 'depart', 'recommend', 'even', 'boss', 'call', 'polic', 'headquart', 'answer', 'sharpest', 'crime', 'rise', 'year', 'across', 'bronx', 'investig', 'resourc', 'squeez', 'highest', 'rate', 'five', 'borough', 'thinnest', 'detect', 'staf', 'nine', 'precinct', 'detect', 'squad', 'violent', 'crime', 'borough', 'robberi', 'squad', 'smaller', 'manhattan', 'even', 'though', 'bronx', 'case', 'year', 'homicid', 'squad', 'one', 'detect', 'everi', 'four', 'murder', 'compar', 'one', 'detect', 'roughli', 'everi', 'two', 'murder', 'upper', 'manhattan', 'one', 'detect', 'murder', 'lower', 'manhattan', 'lobbi', 'famili', 'apart', 'outsid', 'methadon', 'clinic', 'art', 'studio', 'peopl', 'take', 'note', 'inequ', 'hear', 'polic', 'command', 'explain', 'lack', 'resourc', 'place', 'floodlight', 'danger', 'block', 'post', 'offic', 'corner', 'watch', 'wit', 'cower', 'behind', 'fear', 'gunman', 'crew', 'confid', 'polic', 'depart', 'abil', 'protect', 'though', 'peopl', 'see', 'lot', 'rare', 'testifi', 'south', 'bronx', 'mani', 'predominantli', 'black', 'hispan', 'neighborhood', 'like', 'unit', 'state', 'contract', 'polic', 'commun', 'tatter', 'peopl', 'stori', 'crime', 'report', 'ignor', 'call', 'went', 'unansw', 'hour', 'tell', 'call', 'help', 'caller', 'arrest', 'minor', 'charg', 'lead', 'hour', 'fetid', 'hold', 'cell', 'paradox', 'polic', 'precinct', 'neighborhood', 'histor', 'prime', 'target', 'aggress', 'tactic', 'like', 'design', 'ward', 'disord', 'precinct', 'detect', 'less', 'time', 'anywher', 'els', 'answer', 'blood', 'spill', 'violent', 'crime', 'gola', 'white', 'wa', 'besid', 'daughter', 'wa', 'shot', 'kill', 'playground', 'summer', 'four', 'year', 'wa', 'gun', 'hous', 'project', 'tick', 'public', 'safeti', 'resourc', 'said', 'scant', 'bronx', 'neighborhood', 'like', 'secur', 'camera', 'light', 'lock', 'investig', 'polic', 'offic', '“here', 'noth', 'said', 'famili', 'said', 'author', '“don’t', 'realli', 'much', 'feel', 'time', 'document', 'murder', 'log', 'year', 'precinct', 'one', 'hand', 'neighborhood', 'deadli', 'violenc', 'remain', 'problem', 'crime', 'new', 'york', 'homicid', 'precinct', 'year', 'nine', 'strain', 'detect', 'unsolv', 'half', 'year', 'look', 'take', 'law', 'hand', 'hundr', 'convers', 'griev', 'rel', 'friend', 'wit', 'polic', 'offic', 'social', 'forc', 'flare', 'murder', 'place', 'like', 'precinct', 'becom', 'clearer', 'merciless', 'gang', 'code', 'mental', 'drug', 'long', 'memori', 'feud', 'simmer', 'officers’', 'view', 'reason', 'murder', 'never', 'solv', 'emerg', 'paralyz', 'fear', 'retribut', 'victim', 'carri', 'secret', 'grave', 'relentless', 'casework', 'forc', 'detect', 'move', 'hope', 'break', 'later', 'frustrat', 'build', 'side', 'detectives’', 'phone', 'rare', 'ring', 'tip', 'offic', 'grow', 'embitt', 'wit', 'cooper', 'meantim', 'victim', 'friend', 'conduct', 'investig', 'talk', 'grab', 'stash', 'gun', 'wheel', 'well', 'mother', 'apart', 'find', 'suspect', 'chasm', 'polic', 'commun', 'gang', 'gun', 'violenc', 'flourish', 'parent', 'tri', 'protect', 'famili', 'drug', 'crews’', 'threat', 'offic', 'work', 'overcom', 'residu', 'year', 'mistrust', 'understaf', 'commun', 'still', 'race', 'one', 'call', 'next', 'street', 'around', 'mari', 'park', 'scene', 'two', 'fatal', 'shoot', 'log', 'precinct', 'year', 'unsolv', 'jame', 'fernandez', 'heard', 'talk', 'murder', 'hi', 'apart', 'east', 'street', 'betanc', 'hous', 'live', 'long', 'hallway', 'strewn', 'hypoderm', 'needl', 'empti', 'dope', 'bag', 'discard', 'hennessi', 'bottl', 'young', 'spoke', 'subset', 'blood', 'gang', 'made', 'drug', 'market', 'sling', 'marijuana', 'cocain', 'regular', 'flash', 'firearm', 'blow', 'smoke', 'fernandez', 'apart', 'fernandez', 'ask', 'young', 'move', 'answer', 'bust', 'hi', 'car', 'kind', 'crime', 'anachron', 'much', 'new', 'york', 'still', 'rattl', 'precinct', 'even', 'though', 'murder', 'fallen', 'year', 'major', 'feloni', 'crime', 'resid', 'ani', 'residenti', 'district', 'one', 'poorest', 'commun', 'countri', 'mani', 'young', 'find', 'way', 'underground', 'market', 'fernandez', 'wa', 'one', 'shrink', 'threat', 'wa', 'grow', 'lower', 'east', 'side', 'rode', 'hi', 'bicycl', 'around', 'custom', 'drug', 'dealer', 'work', 'collect', 'payment', 'backpack', 'leav', 'life', 'got', 'tech', 'mainten', 'job', 'three', 'year', 'ago', 'move', 'betanc', 'hous', 'hi', 'wife', 'daughter', 'two', 'choic', 'get', 'help', 'drug', 'crew', 'call', 'polic', 'help', 'risk', 'label', 'snitch', 'call', 'hi', 'old', 'lower', 'east', 'side', 'boss', 'muscl', 'risk', 'violenc', 'chose', 'polic', 'walk', 'local', 'substat', 'polic', 'servic', 'area', 'ask', 'protect', 'hi', 'daughter', 'wa', 'use', 'inhal', 'reliev', 'cough', 'marijuana', 'smoke', 'fernandez', 'hi', 'wife', 'got', 'terribl', 'headach', '“there', 'lot', 'killer', 'go', 'kill', 'sergeant', 'polic', 'report', 'quot', 'tell', 'fernandez', 'august', 'second', 'report', 'file', 'day', 'said', 'warn', '“i’m', 'go', 'shoot', 'window', 'fernandez', 'told', 'polic', 'teenagers’', 'name', 'appear', 'report', 'went', 'home', 'said', 'one', 'friend', 'seen', 'walk', 'substat', 'tri', 'intimid', 'file', 'anoth', 'report', 'three', 'day', 'later', 'prop', 'hi', 'bike', '“then', 'said', 'wa', 'open', 'say', 'someth', 'would', 'bodi', 'slam', 'fernandez', 'wife', 'maria', 'fernandez', 'wrote', 'slip', 'paper', 'use', 'document', 'hallway', 'rucku', 'inadequ', 'polic', 'respons', 'boy', 'made', 'comment', 'easi', 'target', 'wa', 'would', '“slap”', 'open', 'made', 'drug', 'threaten', 'beat', 'fernandez', 'famili', 'becaus', '“they', 'one', 'snitch', 'note', 'say', 'anoth', 'complaint', 'substat', 'day', 'first', 'brought', 'relief', 'week', 'later', 'feel', 'desper', 'fernandez', 'tri', 'call', 'first', 'substat', 'one', 'boy', 'blew', 'weed', 'smoke', 'made', 'threat', 'attack', 'polic', 'never', 'came', 'wrote', 'note', 'tri', 'precinct', 'station', 'hous', 'next', 'offic', 'desk', 'left', 'stand', 'public', 'wait', 'area', 'said', 'make', 'fear', 'seen', 'offic', 'put', 'wors', 'danger', 'month', 'later', 'said', 'came', 'announc', 'front', 'teenag', 'complaint', 'drug', 'activ', 'fernandez', 'start', 'work', 'said', 'polic', 'fail', 'wire', 'camera', 'hi', 'peephol', 'record', 'drug', 'gun', 'footag', 'hark', 'back', 'new', 'york', 'still', 'veri', 'much', 'present', 'precinct', 'resid', 'around', 'morn', 'sgt', 'michael', 'lopuzzo', 'walk', 'tall', 'wooden', 'precinct', 'station', 'hous', 'case', 'land', 'hi', 'metal', 'desk', 'dead', 'bodi', 'known', 'caus', 'strip', 'club', 'brawl', 'shoot', 'victim', 'hobbl', 'hospit', 'themselv', 'bring', 'resist', 'everi', 'turn', 'remind', 'earlier', 'campaign', 'haven’t', 'got', 'one', 'singl', 'phone', 'call', 'put', 'right', 'direct', 'said', 'sergeant', 'lopuzzo', 'head', 'precinct', 'detect', 'squad', 'one', 'day', 'summer', 'work', 'answer', 'email', 'inquiri', 'murder', 'victim', 'aunt', 'whi', 'killer', 'caught', '“and', 'peopl', 'don’t', 'understand', 'often', 'detect', 'feel', 'effect', 'peopl', 'turn', 'polic', 'wit', 'shout', 'away', 'neighbor', 'know', 'refus', 'talk', 'peopl', 'shot', 'wound', 'bronx', 'earli', 'septemb', 'third', 'victim', 'refus', 'cooper', 'period', 'precinct', 'squad', 'detect', 'close', 'three', 'nonfat', 'shoot', 'robberi', 'case', 'part', 'resist', 'stem', 'prevent', 'polic', 'tactic', 'like', 'hallmark', 'style', 'former', 'mayor', 'michael', 'bloomberg', 'hi', 'polic', 'commission', 'raymond', 'kelli', 'near', 'height', 'strategi', 'precinct', 'stop', 'stop', 'offic', 'use', 'forc', 'frisk', 'stop', 'year', 'peopl', 'done', 'noth', 'crimin', 'precinct', 'wa', 'one', 'area', 'depart', 'flood', 'newest', 'offic', 'roll', 'call', 'pressur', 'gener', 'number', 'write', 'ticket', 'make', 'arrest', 'choic', 'give', 'summon', 'young', 'play', 'park', 'dark', 'even', 'offic', 'done', 'grow', 'neighborhood', 'need', 'bring', 'someth', 'today', 'justifi', 'exist', 'offic', 'argeni', 'rosado', 'join', 'precinct', 'said', 'interview', 'station', 'hous', '“so', 'you’r', 'small', 'area', 'day', 'day', 'you’r', 'hammer', 'commun', 'cours', 'commun', 'eventu', 'go', 'turn', 'pressur', 'warp', 'way', 'offic', 'resid', 'saw', 'rooki', 'ignor', 'whi', 'someon', 'might', 'drink', 'outsid', 'stoop', '“some', 'cop', 'came', 'time', 'probabl', 'view', 'commun', 'differ', 'said', 'hector', 'espada', 'veteran', 'precinct', '“not', 'becaus', 'becaus', 'becaus', 'way', 'somehow', 'can’t', 'give', 'someon', 'summon', 'feel', 'like', 'guy', 'could', 'still', 'civil', 'convers', 'moral', 'wilt', 'age', 'station', 'hous', 'alexand', 'avenu', 'mott', 'offic', 'felt', 'pressur', 'downgrad', 'crime', 'complaint', 'make', 'appear', 'less', 'seriou', 'sever', 'said', 'interview', 'overlook', 'crime', 'report', 'immigr', 'becaus', 'seen', 'unlik', 'complain', 'watch', 'supervisor', 'badger', 'victim', 'repeat', 'stori', 'hope', 'would', 'drop', 'complaint', 'practic', 'downgrad', 'complaint', 'result', 'disciplin', 'offic', 'precinct', 'last', 'year', 'one', 'string', 'scandal', 'left', 'offic', 'feel', 'overscrutin', 'problem', 'exist', 'elsewher', 'four', 'command', 'precinct', 'sent', 'pack', 'five', 'year', 'one', 'offic', 'found', '“ticket', 'fix', 'forgiv', 'park', 'ticket', 'friend', 'anoth', 'wa', 'record', 'give', 'guidanc', 'stop', 'frisk', 'black', 'boy', 'age', 'offic', 'fled', 'command', 'becam', 'reluct', 'take', 'assign', 'proactiv', 'polic', 'unit', 'like', 'put', 'situat', 'street', '“whenev', 'walk', 'precinct', 'seem', 'like', 'black', 'cloud', 'said', 'russel', 'lewi', '“it', 'wa', 'like', 'heavi', 'walk', 'wa', 'hour', 'home', 'becaus', 'didn’t', 'get', 'caught', 'anyth', 'precinct', 'cover', 'onli', 'two', 'squar', 'mile', 'dozen', 'hous', 'project', 'mean', 'overflow', 'peopl', 'methadon', 'clinic', 'draw', 'addict', 'around', 'loft', 'southern', 'edg', 'precinct', 'presag', 'wave', 'gentrif', 'even', 'polic', 'depart', 'hire', 'offic', 'neighborhood', 'polic', 'counterterror', 'offic', 'precinct', 'said', 'could', 'still', 'rush', 'call', 'dure', 'shift', 'number', 'unchang', 'new', 'polic', 'commission', 'jame', 'o’neil', 'said', 'wa', 'handl', 'similar', 'south', 'bronx', 'precinct', 'year', 'ago', 'sever', 'dozen', 'call', 'time', 'wait', 'respons', 'resid', 'know', 'polic', 'domest', 'problem', 'help', 'hint', 'weapon', 'last', 'year', 'precinct', 'drew', 'number', 'civilian', 'complaint', 'offic', 'misconduct', 'lawsuit', 'stem', 'polic', 'action', 'precinct', 'tri', 'improv', 'moral', 'new', 'command', 'offic', 'deputi', 'inspector', 'brian', 'hennessi', 'cadr', 'depart', 'call', 'neighborhood', 'coordin', 'offic', 'patrol', 'sinc', 'last', 'januari', 'part', 'citywid', 'effort', 'o’neil', 'mayor', 'bill', 'blasio', 'bring', 'back', 'beat', 'cop', 'unencumb', 'chase', 'everi', 'last', 'call', 'listen', 'peopl', 'concern', 'help', 'investig', 'precinct', 'made', 'among', 'gun', 'arrest', 'offic', 'said', 'discret', 'resolv', 'encount', 'without', 'summon', 'arrest', 'one', 'corner', 'near', 'school', 'courtlandt', 'avenu', 'east', 'street', 'long', 'spawn', 'complaint', 'gunfir', 'fight', 'inspector', 'hennessi', 'hi', 'offic', 'paint', 'graffiti', 'swept', 'drug', 'paraphernalia', 'summer', 'peopl', 'said', 'wa', 'first', 'answer', 'complaint', 'year', 'inspector', 'acknowledg', 'residu', 'polic', 'linger', '“that', 'percept', 'realli', 'stick', 'said', 'workload', 'precinct', 'startl', 'reveal', 'gap', 'detect', 'squad', 'equip', 'answer', 'violent', 'crime', 'manhattan', 'compar', 'bronx', 'brooklyn', 'queen', 'three', 'precinct', 'detect', 'carri', 'case', 'year', 'mani', 'load', 'high', 'even', 'though', 'depart', 'advis', 'violent', 'precinct', 'assign', 'homicid', 'typic', 'four', 'day', 'investig', 'befor', 'deal', 'case', 'quieter', 'precinct', 'give', 'detect', 'month', 'littl', 'distract', 'investig', 'murder', 'detect', 'precinct', 'handl', 'averag', 'violent', 'feloni', 'year', 'murder', 'rape', 'feloni', 'assault', 'robberi', 'contrast', 'detect', 'precinct', 'southern', 'staten', 'island', 'carri', 'nine', 'case', 'detect', 'precinct', 'patrol', 'union', 'squar', 'gramerci', 'park', 'handl', 'detect', 'precinct', 'washington', 'height', 'handl', 'citywid', 'median', 'last', 'year', 'wa', 'violent', 'crime', 'case', 'detect', 'bronx', 'whole', 'precinct', 'detect', 'carri', 'averag', 'violent', 'feloni', 'year', 'compar', 'manhattan', 'brooklyn', 'queen', 'staten', 'island', 'rape', 'case', 'robberi', 'pattern', 'later', 'sent', 'special', 'unit', 'precinct', 'detect', 'extens', 'initi', 'work', 'interview', 'victim', 'write', 'report', 'process', 'evid', 'precinct', 'much', 'manhattan', 'whiter', 'wealthier', 'south', 'bronx', 'often', 'properti', 'feloni', 'like', 'stolen', 'laptop', 'credit', 'card', 'polic', 'say', 'complex', 'even', 'account', 'crime', 'precinct', 'heaviest', 'caseload', 'overal', 'crime', 'detect', 'michael', 'palladino', 'head', 'detectives’', 'endow', 'associ', 'former', 'bronx', 'offic', 'said', 'staf', 'dispar', 'affect', 'depart', 'effort', 'build', 'trust', 'commun', 'like', 'south', 'bronx', 'wit', 'make', 'calcul', 'said', '“if', 'cooper', 'detect', 'much', 'work', 'won’t', 'even', 'get', 'chanc', 'protect', 'they’ll', 'late', 'retali', 'sergeant', 'lopuzzo', 'turn', 'prestigi', 'post', 'stay', 'precinct', 'said', 'hi', 'squad', 'work', 'tirelessli', 'handl', 'case', 'peopl', 'everi', 'squad', 'detect', 'staf', 'need', 'counterterror', 'unit', 'task', 'forc', 'creat', 'new', 'deploy', 'challeng', 'across', 'depart', '“we', 'fight', 'armi', 'armi', 'wish', 'said', 'detail', 'polic', 'depart', 'assign', 'offic', 'close', 'held', 'constantli', 'flux', 'public', 'minim', 'inform', 'personnel', 'alloc', 'present', 'time', 'analysi', 'confidenti', 'staf', 'data', 'depart', 'chief', 'detect', 'robert', 'boyc', 'vow', 'send', 'detect', 'precinct', 'said', 'depart', 'would', 'reassess', 'deploy', 'broadli', 'troubl', 'precinct', 'said', 'recent', 'decis', 'bring', 'gang', 'narcot', 'vice', 'detect', 'hi', 'command', 'made', 'easier', 'shift', 'personnel', 'chief', 'boyc', 'said', 'burden', 'detect', 'went', 'beyond', 'feloni', 'crime', 'includ', 'case', 'note', 'support', 'precinct', 'squad', 'got', 'central', 'unit', 'focus', 'robberi', 'gang', 'grand', 'larceni', 'exampl', 'major', 'crime', 'keep', 'pound', 'precinct', 'rate', 'onli', 'tenth', 'percent', 'lower', 'even', 'citywid', 'crime', 'drop', 'third', 'period', 'precinct', 'detect', 'squad', 'shrank', 'eight', 'investig', 'dure', 'year', 'accord', 'staf', 'data', 'obtain', 'council', 'freedom', 'inform', 'law', 'request', 'squad', 'cover', 'union', 'squar', 'gramerci', 'park', 'crime', 'drop', 'third', 'period', 'grew', 'investig', 'precinct', 'wa', 'given', 'addit', 'detect', 'four', 'investig', 'summer', 'wa', 'alreadi', 'miss', 'three', 'detect', 'reason', 'retir', 'detect', 'skeptic', 'commun', 'relat', 'alon', 'drive', 'crime', 'last', 'busiest', 'precinct', 'rather', 'say', 'polic', 'depart', 'dedic', 'resourc', 'provid', 'sort', 'robust', 'investig', 'respons', 'seem', 'standard', 'manhattan', '“ani', 'crime', 'manhattan', 'solv', 'said', 'howard', 'landesberg', 'wa', 'precinct', 'detect', 'late', '“the', 'outer', 'borough', 'like', 'forgotten', 'retir', 'detect', 'said', 'understaf', 'made', 'harder', 'solv', 'crime', 'bronx', 'brooklyn', 'queen', 'higher', 'preval', 'gang', 'drug', 'kill', 'alreadi', 'saddl', 'investig', 'case', 'peopl', 'inclin', 'cooper', 'detect', 'close', 'percent', 'homicid', 'manhattan', 'percent', 'staten', 'island', 'year', 'compar', 'percent', 'bronx', 'percent', 'queen', 'percent', 'brooklyn', 'last', 'year', 'homicid', 'detect', 'clear', 'percent', 'manhattan', 'percent', 'bronx', 'percent', 'queen', 'percent', 'staten', 'island', 'percent', 'brooklyn', '“it', 'cultur', 'polic', 'depart', 'worri', 'manhattan', 'said', 'joseph', 'giacalon', 'former', 'sergeant', 'bronx', 'cold', 'case', 'squad', 'part', '“becaus', 'money', '“when', 'blasio', 'came', 'talk', 'two', 'done', 'complet', 'opposit', 'said', 'busi', 'usual', 'bronx', 'struggl', 'extend', 'prosecut', 'last', 'five', 'year', 'prosecutor', 'bronx', 'declin', 'prosecut', 'violent', 'feloni', 'case', 'anywher', 'els', 'rate', 'convict', 'bronx', 'routin', 'lowest', 'well', 'tick', 'year', 'surpass', 'brooklyn', 'rate', 'novemb', 'bronx', 'prosecutor', 'work', 'streamlin', 'case', 'case', 'becom', 'even', 'difficult', 'win', 'becaus', 'problem', 'precinct', 'allow', 'defens', 'lawyer', 'attack', 'credibl', 'offic', 'implic', 'said', 'patric', 'o’shaughnessi', 'spokeswoman', 'bronx', 'district', 'attorney', 'offic', 'district', 'attorney', 'darcel', 'clark', 'elect', 'said', 'statement', 'wa', 'judg', 'bronx', 'heard', 'juror', 'can’t', 'imparti', 'becaus', 'don’t', 'trust', 'polic', 'tide', 'mistrust', 'sergeant', 'lopuzzo', 'detect', 'work', 'hour', 'straight', 'fresh', 'case', 'buy', 'chines', 'takeout', 'money', 'murder', 'suspect', 'carri', 'surveil', 'video', 'home', 'hope', 'person', 'comput', 'may', 'enhanc', 'better', 'squad', 'comput', 'buy', 'urn', 'homeless', 'mother', 'murder', 'ash', 'box', 'month', 'kill', 'seem', 'like', 'onli', 'peopl', 'glitter', 'pay', 'attent', 'precinct', 'homicid', 'victim', 'newli', 'fatherless', 'children', 'back', 'school', 'without', 'therapist', 'help', 'victims’', 'famili', 'wander', 'confus', 'courthous', 'nearli', 'miss', 'appear', 'newspap', 'larg', 'ignor', 'kill', 'peopl', 'crimin', 'past', 'push', 'prioriti', 'list', 'chief', 'polic', 'headquart', 'stuffi', 'squad', 'room', 'detect', 'precinct', 'grappl', 'inherit', 'govern', 'neglect', 'meet', 'mother', 'believ', 'might', 'never', 'murder', 'guidanc', 'counselor', 'listen', 'plea', 'help', 'stay', 'enrol', 'hous', 'worker', 'fix', 'lock', 'light', 'build', 'detect', 'work', 'alongsid', 'viciou', 'system', 'street', 'punish', 'polic', 'cooper', 'young', 'scan', 'court', 'paperwork', 'prison', 'look', 'name', 'peopl', 'turn', 'one', 'murder', 'victim', 'precinct', 'year', 'wa', 'cast', 'hi', 'crew', 'avoid', 'arrest', 'gang', 'takedown', 'believ', 'wa', 'cooper', 'longtim', 'precinct', 'detect', 'jeff', 'meenagh', 'said', 'wit', 'homicid', 'case', 'wa', 'go', 'testifi', 'went', 'back', 'hi', 'neighborhood', 'wa', 'told', 'anyon', 'testifi', 'would', '“get', 'deserv', 'alli', 'sergeant', 'lopuzzo', 'make', 'friendli', 'onli', 'long', 'help', 'clear', 'woman', 'robberi', 'charg', 'locat', 'surveil', 'video', 'prove', 'wa', 'robber', 'mother', 'start', 'call', 'tip', 'code', 'name', 'gun', 'car', 'exampl', 'alway', 'refus', 'testifi', 'cut', 'tie', 'year', 'sergeant', 'lopuzzo', 'arrest', 'stab', 'two', 'peopl', 'shoot', 'new', 'york', 'east', 'street', 'build', 'side', 'jame', 'fernandez', 'betanc', 'hous', 'said', 'realiti', 'ground', 'wa', 'differ', 'drug', 'boss', 'ran', 'block', 'octob', 'fernandez', 'wa', 'increasingli', 'afraid', 'fed', 'fernandez', 'hi', 'wife', 'went', 'far', 'give', 'offic', 'key', 'build', 'could', 'get', 'whenev', 'show', 'video', 'offer', 'access', 'hi', 'camera', 'could', 'see', 'wa', 'happen', 'hallway', 'coupl', 'offic', 'said', 'need', 'supervisor', 'permiss', 'answer', 'young', 'onli', 'make', 'threat', 'offic', 'occasion', 'stop', 'outsid', 'build', 'caus', 'young', 'scatter', 'insid', 'fernandez', 'said', 'menac', 'worsen', 'fernandez', 'daughter', 'wa', 'harass', 'arriv', 'home', 'school', 'grew', 'distress', 'parent', 'start', 'see', 'therapist', 'fernandez', 'made', 'sever', 'complaint', 'offic', 'borough', 'presid', 'ruben', 'diaz', 'visit', 'victim', 'advoc', 'district', 'attorney', 'offic', 'oct', 'sent', 'onlin', 'note', 'polic', 'commission', 'offic', '“we', 'went', 'proper', 'channel', 'help', 'note', 'said', '“both', 'precinct', 'fail', 'except', 'offic', 'help', 'hand', 'tie', 'one', 'els', 'turn', 'month', 'video', 'multipl', 'crime', 'take', 'place', 'extrem', 'danger', '“th', 'psa', 'won’t', 'anyth', 'wrote', 'refer', 'local', 'substat', '“pleas', 'need', 'speak', 'one', 'author', 'local', 'substat', 'command', 'deputi', 'inspector', 'jerri', 'o’sullivan', 'bronx', 'narcot', 'unit', 'alert', 'complaint', 'fernandez', 'said', 'never', 'heard', 'reli', 'hi', 'street', 'instinct', 'protect', 'hi', 'famili', 'made', 'plea', 'thought', 'wa', 'employ', 'dealer', 'hallway', 'activ', 'quiet', 'briefli', 'return', 'young', 'rent', 'room', 'woman', 'apart', 'upstair', 'fernandez', 'approach', 'differ', 'learn', 'wa', 'boss', 'oper', 'agre', 'ask', 'dealer', 'calm', 'even', 'hire', 'drug', 'custom', 'sweep', 'hallway', 'fernandez', 'said', 'two', 'week', 'later', 'deal', 'harass', 'resum', 'went', 'hi', 'old', 'lower', 'east', 'side', 'boss', 'hire', 'trail', 'hi', 'wife', 'daughter', 'way', 'build', 'make', 'sure', 'made', 'safe', 'school', 'time', 'sat', 'outsid', 'betanc', 'hous', 'bought', 'two', 'bulletproof', 'vest', 'could', 'find', 'one', 'small', 'enough', 'hi', 'daughter', 'faith', 'new', 'york', 'faith', 'polic', 'faith', 'politician', 'fernandez', 'said', '“the', 'onli', 'thing', 'know', 'sure', 'god', 'we’r', 'situat', 'left', 'defend', 'famili', 'pay', 'close', 'attent', 'wa', 'happen', 'hallway', 'fernandez', 'said', 'learn', 'detail', 'two', 'recent', 'homicid', 'precinct', 'wa', 'investig', 'becaus', 'hi', 'call', 'help', 'go', 'nowher', 'said', 'decid', 'put', 'greater', 'risk', 'talk', 'would', 'tell', 'polic', 'learn', '“i’m', 'bend', 'backward', 'nobodi', 'even', 'anyth', 'said', '“whi', 'go', 'help', 'ain’t', 'go', 'help', 'last', 'januari', 'new', 'neighborhood', 'coordin', 'offic', 'wa', 'work', 'resid', 'betanc', 'hous', 'arrest', 'hi', 'hous', 'command', 'inspector', 'o’sullivan', 'said', 'chief', 'boyc', 'said', 'silo', 'gang', 'narcot', 'detect', 'use', 'work', 'made', 'respond', 'complaint', 'difficult', 'recent', 'restructur', 'would', 'remov', 'obstacl', '“no', 'one', 'live', 'like', 'fernandez', 'live', 'peopl', 'deal', 'drug', 'outsid', 'hi', 'apart', 'said', 'fernandez', 'complaint', 'spur', 'ani', 'arrest', 'two', 'hallway', 'caught', 'separ', 'year', 'shoot', 'one', 'fernandez', 'name', 'polic', 'report', 'wa', 'charg', 'summer', 'hit', 'offic', 'metal', 'fold', 'chair', 'fire', 'three', 'gunshot', 'crowd', 'court', 'paper', 'say', 'held', 'riker', 'island', 'attempt', 'murder', 'charg', 'wa', 'late', 'fernandez', 'may', 'move', 'hi', 'famili', 'away'] \n",
      "\n"
     ]
    }
   ],
   "source": [
    "#text=doc['Cleanedcontent']\n",
    "jarviscursor = db.cleanedcontent.find()[0:2]\n",
    "for doc in jarviscursor:\n",
    "    print(str(doc['Cleanedcontent']),'\\n')"
   ]
  },
  {
   "cell_type": "code",
   "execution_count": 13,
   "metadata": {},
   "outputs": [
    {
     "name": "stdout",
     "output_type": "stream",
     "text": [
      "['washington', 'congression', 'republican', 'new', 'fear', 'health', 'lawsuit', 'obama', 'administr', 'might', 'win', 'incom', 'trump', 'administr', 'could', 'choos', 'longer', 'defend', 'execut', 'branch', 'suit', 'challeng', 'administr', 'author', 'spend', 'billion', 'dollar', 'health', 'insur', 'subsidi', 'american', 'hand', 'hous', 'republican', 'big', 'victori', 'issu', 'sudden', 'loss', 'disput', 'subsidi', 'could', 'conceiv', 'caus', 'health', 'program', 'implod', 'leav', 'million', 'peopl', 'without', 'access', 'health', 'insur', 'befor', 'republican', 'prepar', 'replac', 'could', 'lead', 'chao', 'insur', 'market', 'spur', 'polit', 'backlash', 'republican', 'gain', 'full', 'control', 'govern', 'stave', 'outcom', 'republican', 'could', 'find', 'themselv', 'awkward', 'posit', 'appropri', 'huge', 'sum', 'temporarili', 'prop', 'obama', 'health', 'law', 'anger', 'conserv', 'voter', 'demand', 'law', 'year', 'anoth', 'twist', 'donald', 'trump', 'administr', 'worri', 'preserv', 'execut', 'branch', 'prerog', 'could', 'choos', 'fight', 'republican', 'alli', 'hous', 'central', 'question', 'disput', 'eager', 'avoid', 'ugli', 'polit', 'pileup', 'republican', 'capitol', 'hill', 'trump', 'transit', 'team', 'game', 'handl', 'lawsuit', 'elect', 'put', 'limbo', 'least', 'late', 'februari', 'unit', 'state', 'court', 'appeal', 'district', 'columbia', 'circuit', 'yet', 'readi', 'divulg', 'strategi', '“given', 'pend', 'litig', 'involv', 'obama', 'administr', 'congress', 'would', 'inappropri', 'comment', 'said', 'phillip', 'blando', 'spokesman', 'trump', 'transit', 'effort', '“upon', 'take', 'offic', 'trump', 'administr', 'evalu', 'case', 'relat', 'aspect', 'afford', 'act', 'potenti', 'decis', 'judg', 'rosemari', 'collyer', 'rule', 'hous', 'republican', 'stand', 'execut', 'branch', 'spend', 'disput', 'obama', 'administr', 'distribut', 'health', 'insur', 'subsidi', 'violat', 'constitut', 'without', 'approv', 'congress', 'justic', 'depart', 'confid', 'judg', 'collyer', 'decis', 'would', 'revers', 'quickli', 'appeal', 'subsidi', 'remain', 'place', 'dure', 'appeal', 'success', 'seek', 'temporari', 'halt', 'proceed', 'trump', 'hous', 'republican', 'last', 'month', 'told', 'court', '“and', 'transit', 'team', 'current', 'discuss', 'potenti', 'option', 'resolut', 'matter', 'take', 'effect', 'inaugur', 'jan', 'suspens', 'case', 'hous', 'lawyer', 'said', '“provid', 'hi', 'futur', 'administr', 'time', 'consid', 'whether', 'continu', 'prosecut', 'otherwis', 'resolv', 'appeal', 'republican', 'leadership', 'offici', 'hous', 'acknowledg', 'possibl', '“cascad', 'effects”', 'payment', 'total', 'estim', 'billion', 'suddenli', 'stop', 'insur', 'receiv', 'subsidi', 'exchang', 'pay', 'cost', 'deduct', 'elig', 'consum', 'could', 'race', 'drop', 'coverag', 'sinc', 'would', 'lose', 'money', 'loss', 'subsidi', 'could', 'destabil', 'entir', 'program', 'caus', 'lack', 'confid', 'lead', 'insur', 'seek', 'quick', 'exit', 'well', 'anticip', 'trump', 'administr', 'might', 'inclin', 'mount', 'vigor', 'fight', 'hous', 'republican', 'given', 'dim', 'view', 'health', 'law', 'team', 'lawyer', 'month', 'sought', 'interven', 'case', 'behalf', 'two', 'particip', 'health', 'program', 'request', 'lawyer', 'predict', 'deal', 'hous', 'republican', 'new', 'administr', 'dismiss', 'settl', 'case', '“will', 'produc', 'devast', 'consequ', 'individu', 'receiv', 'reduct', 'well', 'nation', 'health', 'insur', 'health', 'system', 'gener', 'matter', 'happen', 'hous', 'republican', 'say', 'prevail', 'two', 'overarch', 'concept', 'congression', 'power', 'purs', 'right', 'congress', 'execut', 'branch', 'violat', 'constitut', 'regard', 'spend', 'power', 'hous', 'republican', 'contend', 'congress', 'never', 'appropri', 'money', 'subsidi', 'requir', 'constitut', 'suit', 'wa', 'initi', 'champion', 'john', 'boehner', 'hous', 'speaker', 'time', 'later', 'hous', 'committe', 'report', 'republican', 'assert', 'administr', 'desper', 'fund', 'requir', 'treasuri', 'depart', 'provid', 'despit', 'widespread', 'intern', 'skeptic', 'spend', 'wa', 'proper', 'white', 'hous', 'said', 'spend', 'wa', 'perman', 'part', 'law', 'pass', 'annual', 'appropri', 'wa', 'requir', 'even', 'though', 'administr', 'initi', 'sought', 'one', 'import', 'hous', 'republican', 'judg', 'collyer', 'found', 'congress', 'stand', 'white', 'hous', 'issu', 'rule', 'mani', 'legal', 'expert', 'said', 'wa', 'flaw', 'preced', 'set', 'restor', 'congression', 'leverag', 'execut', 'branch', 'spend', 'power', 'stand', 'trump', 'administr', 'may', 'pressur', 'advoc', 'presidenti', 'author', 'fight', 'hous', 'matter', 'share', 'view', 'health', 'sinc', 'preced', 'could', 'broad', 'repercuss', 'complic', 'set', 'dynam', 'illustr', 'quick', 'legal', 'victori', 'hous', 'trump', 'might', 'cost', 'republican', 'never', 'anticip', 'took', 'obama', 'white', 'hous'] \n",
      "\n",
      "['bullet', 'shell', 'get', 'count', 'blood', 'dri', 'votiv', 'candl', 'burn', 'peopl', 'peer', 'window', 'see', 'crime', 'scene', 'gone', 'cold', 'band', 'yellow', 'polic', 'tape', 'blow', 'breez', 'south', 'bronx', 'across', 'harlem', 'river', 'manhattan', 'onc', 'shorthand', 'urban', 'dysfunct', 'still', 'suffer', 'violenc', 'level', 'long', 'ago', 'slash', 'mani', 'part', 'new', 'york', 'yet', 'effort', 'fight', 'remain', 'splinter', 'underfund', 'burden', 'scandal', 'precinct', 'southern', 'tip', 'bronx', 'poor', 'minor', 'neighborhood', 'across', 'countri', 'peopl', 'long', 'hound', 'infract', 'cri', 'protect', 'grievou', 'injuri', 'death', 'septemb', 'four', 'everi', 'five', 'shoot', 'precinct', 'year', 'unsolv', 'precinct', 'highest', 'murder', 'rate', 'fewest', 'detect', 'violent', 'crime', 'reflect', 'dispar', 'staf', 'hit', 'hardest', 'neighborhood', 'outsid', 'manhattan', 'accord', 'new', 'york', 'time', 'analysi', 'polic', 'depart', 'data', 'investig', 'precinct', 'saddl', 'twice', 'number', 'case', 'depart', 'recommend', 'even', 'boss', 'call', 'polic', 'headquart', 'answer', 'sharpest', 'crime', 'rise', 'year', 'across', 'bronx', 'investig', 'resourc', 'squeez', 'highest', 'rate', 'five', 'borough', 'thinnest', 'detect', 'staf', 'nine', 'precinct', 'detect', 'squad', 'violent', 'crime', 'borough', 'robberi', 'squad', 'smaller', 'manhattan', 'even', 'though', 'bronx', 'case', 'year', 'homicid', 'squad', 'one', 'detect', 'everi', 'four', 'murder', 'compar', 'one', 'detect', 'roughli', 'everi', 'two', 'murder', 'upper', 'manhattan', 'one', 'detect', 'murder', 'lower', 'manhattan', 'lobbi', 'famili', 'apart', 'outsid', 'methadon', 'clinic', 'art', 'studio', 'peopl', 'take', 'note', 'inequ', 'hear', 'polic', 'command', 'explain', 'lack', 'resourc', 'place', 'floodlight', 'danger', 'block', 'post', 'offic', 'corner', 'watch', 'wit', 'cower', 'behind', 'fear', 'gunman', 'crew', 'confid', 'polic', 'depart', 'abil', 'protect', 'though', 'peopl', 'see', 'lot', 'rare', 'testifi', 'south', 'bronx', 'mani', 'predominantli', 'black', 'hispan', 'neighborhood', 'like', 'unit', 'state', 'contract', 'polic', 'commun', 'tatter', 'peopl', 'stori', 'crime', 'report', 'ignor', 'call', 'went', 'unansw', 'hour', 'tell', 'call', 'help', 'caller', 'arrest', 'minor', 'charg', 'lead', 'hour', 'fetid', 'hold', 'cell', 'paradox', 'polic', 'precinct', 'neighborhood', 'histor', 'prime', 'target', 'aggress', 'tactic', 'like', 'design', 'ward', 'disord', 'precinct', 'detect', 'less', 'time', 'anywher', 'els', 'answer', 'blood', 'spill', 'violent', 'crime', 'gola', 'white', 'wa', 'besid', 'daughter', 'wa', 'shot', 'kill', 'playground', 'summer', 'four', 'year', 'wa', 'gun', 'hous', 'project', 'tick', 'public', 'safeti', 'resourc', 'said', 'scant', 'bronx', 'neighborhood', 'like', 'secur', 'camera', 'light', 'lock', 'investig', 'polic', 'offic', '“here', 'noth', 'said', 'famili', 'said', 'author', '“don’t', 'realli', 'much', 'feel', 'time', 'document', 'murder', 'log', 'year', 'precinct', 'one', 'hand', 'neighborhood', 'deadli', 'violenc', 'remain', 'problem', 'crime', 'new', 'york', 'homicid', 'precinct', 'year', 'nine', 'strain', 'detect', 'unsolv', 'half', 'year', 'look', 'take', 'law', 'hand', 'hundr', 'convers', 'griev', 'rel', 'friend', 'wit', 'polic', 'offic', 'social', 'forc', 'flare', 'murder', 'place', 'like', 'precinct', 'becom', 'clearer', 'merciless', 'gang', 'code', 'mental', 'drug', 'long', 'memori', 'feud', 'simmer', 'officers’', 'view', 'reason', 'murder', 'never', 'solv', 'emerg', 'paralyz', 'fear', 'retribut', 'victim', 'carri', 'secret', 'grave', 'relentless', 'casework', 'forc', 'detect', 'move', 'hope', 'break', 'later', 'frustrat', 'build', 'side', 'detectives’', 'phone', 'rare', 'ring', 'tip', 'offic', 'grow', 'embitt', 'wit', 'cooper', 'meantim', 'victim', 'friend', 'conduct', 'investig', 'talk', 'grab', 'stash', 'gun', 'wheel', 'well', 'mother', 'apart', 'find', 'suspect', 'chasm', 'polic', 'commun', 'gang', 'gun', 'violenc', 'flourish', 'parent', 'tri', 'protect', 'famili', 'drug', 'crews’', 'threat', 'offic', 'work', 'overcom', 'residu', 'year', 'mistrust', 'understaf', 'commun', 'still', 'race', 'one', 'call', 'next', 'street', 'around', 'mari', 'park', 'scene', 'two', 'fatal', 'shoot', 'log', 'precinct', 'year', 'unsolv', 'jame', 'fernandez', 'heard', 'talk', 'murder', 'hi', 'apart', 'east', 'street', 'betanc', 'hous', 'live', 'long', 'hallway', 'strewn', 'hypoderm', 'needl', 'empti', 'dope', 'bag', 'discard', 'hennessi', 'bottl', 'young', 'spoke', 'subset', 'blood', 'gang', 'made', 'drug', 'market', 'sling', 'marijuana', 'cocain', 'regular', 'flash', 'firearm', 'blow', 'smoke', 'fernandez', 'apart', 'fernandez', 'ask', 'young', 'move', 'answer', 'bust', 'hi', 'car', 'kind', 'crime', 'anachron', 'much', 'new', 'york', 'still', 'rattl', 'precinct', 'even', 'though', 'murder', 'fallen', 'year', 'major', 'feloni', 'crime', 'resid', 'ani', 'residenti', 'district', 'one', 'poorest', 'commun', 'countri', 'mani', 'young', 'find', 'way', 'underground', 'market', 'fernandez', 'wa', 'one', 'shrink', 'threat', 'wa', 'grow', 'lower', 'east', 'side', 'rode', 'hi', 'bicycl', 'around', 'custom', 'drug', 'dealer', 'work', 'collect', 'payment', 'backpack', 'leav', 'life', 'got', 'tech', 'mainten', 'job', 'three', 'year', 'ago', 'move', 'betanc', 'hous', 'hi', 'wife', 'daughter', 'two', 'choic', 'get', 'help', 'drug', 'crew', 'call', 'polic', 'help', 'risk', 'label', 'snitch', 'call', 'hi', 'old', 'lower', 'east', 'side', 'boss', 'muscl', 'risk', 'violenc', 'chose', 'polic', 'walk', 'local', 'substat', 'polic', 'servic', 'area', 'ask', 'protect', 'hi', 'daughter', 'wa', 'use', 'inhal', 'reliev', 'cough', 'marijuana', 'smoke', 'fernandez', 'hi', 'wife', 'got', 'terribl', 'headach', '“there', 'lot', 'killer', 'go', 'kill', 'sergeant', 'polic', 'report', 'quot', 'tell', 'fernandez', 'august', 'second', 'report', 'file', 'day', 'said', 'warn', '“i’m', 'go', 'shoot', 'window', 'fernandez', 'told', 'polic', 'teenagers’', 'name', 'appear', 'report', 'went', 'home', 'said', 'one', 'friend', 'seen', 'walk', 'substat', 'tri', 'intimid', 'file', 'anoth', 'report', 'three', 'day', 'later', 'prop', 'hi', 'bike', '“then', 'said', 'wa', 'open', 'say', 'someth', 'would', 'bodi', 'slam', 'fernandez', 'wife', 'maria', 'fernandez', 'wrote', 'slip', 'paper', 'use', 'document', 'hallway', 'rucku', 'inadequ', 'polic', 'respons', 'boy', 'made', 'comment', 'easi', 'target', 'wa', 'would', '“slap”', 'open', 'made', 'drug', 'threaten', 'beat', 'fernandez', 'famili', 'becaus', '“they', 'one', 'snitch', 'note', 'say', 'anoth', 'complaint', 'substat', 'day', 'first', 'brought', 'relief', 'week', 'later', 'feel', 'desper', 'fernandez', 'tri', 'call', 'first', 'substat', 'one', 'boy', 'blew', 'weed', 'smoke', 'made', 'threat', 'attack', 'polic', 'never', 'came', 'wrote', 'note', 'tri', 'precinct', 'station', 'hous', 'next', 'offic', 'desk', 'left', 'stand', 'public', 'wait', 'area', 'said', 'make', 'fear', 'seen', 'offic', 'put', 'wors', 'danger', 'month', 'later', 'said', 'came', 'announc', 'front', 'teenag', 'complaint', 'drug', 'activ', 'fernandez', 'start', 'work', 'said', 'polic', 'fail', 'wire', 'camera', 'hi', 'peephol', 'record', 'drug', 'gun', 'footag', 'hark', 'back', 'new', 'york', 'still', 'veri', 'much', 'present', 'precinct', 'resid', 'around', 'morn', 'sgt', 'michael', 'lopuzzo', 'walk', 'tall', 'wooden', 'precinct', 'station', 'hous', 'case', 'land', 'hi', 'metal', 'desk', 'dead', 'bodi', 'known', 'caus', 'strip', 'club', 'brawl', 'shoot', 'victim', 'hobbl', 'hospit', 'themselv', 'bring', 'resist', 'everi', 'turn', 'remind', 'earlier', 'campaign', 'haven’t', 'got', 'one', 'singl', 'phone', 'call', 'put', 'right', 'direct', 'said', 'sergeant', 'lopuzzo', 'head', 'precinct', 'detect', 'squad', 'one', 'day', 'summer', 'work', 'answer', 'email', 'inquiri', 'murder', 'victim', 'aunt', 'whi', 'killer', 'caught', '“and', 'peopl', 'don’t', 'understand', 'often', 'detect', 'feel', 'effect', 'peopl', 'turn', 'polic', 'wit', 'shout', 'away', 'neighbor', 'know', 'refus', 'talk', 'peopl', 'shot', 'wound', 'bronx', 'earli', 'septemb', 'third', 'victim', 'refus', 'cooper', 'period', 'precinct', 'squad', 'detect', 'close', 'three', 'nonfat', 'shoot', 'robberi', 'case', 'part', 'resist', 'stem', 'prevent', 'polic', 'tactic', 'like', 'hallmark', 'style', 'former', 'mayor', 'michael', 'bloomberg', 'hi', 'polic', 'commission', 'raymond', 'kelli', 'near', 'height', 'strategi', 'precinct', 'stop', 'stop', 'offic', 'use', 'forc', 'frisk', 'stop', 'year', 'peopl', 'done', 'noth', 'crimin', 'precinct', 'wa', 'one', 'area', 'depart', 'flood', 'newest', 'offic', 'roll', 'call', 'pressur', 'gener', 'number', 'write', 'ticket', 'make', 'arrest', 'choic', 'give', 'summon', 'young', 'play', 'park', 'dark', 'even', 'offic', 'done', 'grow', 'neighborhood', 'need', 'bring', 'someth', 'today', 'justifi', 'exist', 'offic', 'argeni', 'rosado', 'join', 'precinct', 'said', 'interview', 'station', 'hous', '“so', 'you’r', 'small', 'area', 'day', 'day', 'you’r', 'hammer', 'commun', 'cours', 'commun', 'eventu', 'go', 'turn', 'pressur', 'warp', 'way', 'offic', 'resid', 'saw', 'rooki', 'ignor', 'whi', 'someon', 'might', 'drink', 'outsid', 'stoop', '“some', 'cop', 'came', 'time', 'probabl', 'view', 'commun', 'differ', 'said', 'hector', 'espada', 'veteran', 'precinct', '“not', 'becaus', 'becaus', 'becaus', 'way', 'somehow', 'can’t', 'give', 'someon', 'summon', 'feel', 'like', 'guy', 'could', 'still', 'civil', 'convers', 'moral', 'wilt', 'age', 'station', 'hous', 'alexand', 'avenu', 'mott', 'offic', 'felt', 'pressur', 'downgrad', 'crime', 'complaint', 'make', 'appear', 'less', 'seriou', 'sever', 'said', 'interview', 'overlook', 'crime', 'report', 'immigr', 'becaus', 'seen', 'unlik', 'complain', 'watch', 'supervisor', 'badger', 'victim', 'repeat', 'stori', 'hope', 'would', 'drop', 'complaint', 'practic', 'downgrad', 'complaint', 'result', 'disciplin', 'offic', 'precinct', 'last', 'year', 'one', 'string', 'scandal', 'left', 'offic', 'feel', 'overscrutin', 'problem', 'exist', 'elsewher', 'four', 'command', 'precinct', 'sent', 'pack', 'five', 'year', 'one', 'offic', 'found', '“ticket', 'fix', 'forgiv', 'park', 'ticket', 'friend', 'anoth', 'wa', 'record', 'give', 'guidanc', 'stop', 'frisk', 'black', 'boy', 'age', 'offic', 'fled', 'command', 'becam', 'reluct', 'take', 'assign', 'proactiv', 'polic', 'unit', 'like', 'put', 'situat', 'street', '“whenev', 'walk', 'precinct', 'seem', 'like', 'black', 'cloud', 'said', 'russel', 'lewi', '“it', 'wa', 'like', 'heavi', 'walk', 'wa', 'hour', 'home', 'becaus', 'didn’t', 'get', 'caught', 'anyth', 'precinct', 'cover', 'onli', 'two', 'squar', 'mile', 'dozen', 'hous', 'project', 'mean', 'overflow', 'peopl', 'methadon', 'clinic', 'draw', 'addict', 'around', 'loft', 'southern', 'edg', 'precinct', 'presag', 'wave', 'gentrif', 'even', 'polic', 'depart', 'hire', 'offic', 'neighborhood', 'polic', 'counterterror', 'offic', 'precinct', 'said', 'could', 'still', 'rush', 'call', 'dure', 'shift', 'number', 'unchang', 'new', 'polic', 'commission', 'jame', 'o’neil', 'said', 'wa', 'handl', 'similar', 'south', 'bronx', 'precinct', 'year', 'ago', 'sever', 'dozen', 'call', 'time', 'wait', 'respons', 'resid', 'know', 'polic', 'domest', 'problem', 'help', 'hint', 'weapon', 'last', 'year', 'precinct', 'drew', 'number', 'civilian', 'complaint', 'offic', 'misconduct', 'lawsuit', 'stem', 'polic', 'action', 'precinct', 'tri', 'improv', 'moral', 'new', 'command', 'offic', 'deputi', 'inspector', 'brian', 'hennessi', 'cadr', 'depart', 'call', 'neighborhood', 'coordin', 'offic', 'patrol', 'sinc', 'last', 'januari', 'part', 'citywid', 'effort', 'o’neil', 'mayor', 'bill', 'blasio', 'bring', 'back', 'beat', 'cop', 'unencumb', 'chase', 'everi', 'last', 'call', 'listen', 'peopl', 'concern', 'help', 'investig', 'precinct', 'made', 'among', 'gun', 'arrest', 'offic', 'said', 'discret', 'resolv', 'encount', 'without', 'summon', 'arrest', 'one', 'corner', 'near', 'school', 'courtlandt', 'avenu', 'east', 'street', 'long', 'spawn', 'complaint', 'gunfir', 'fight', 'inspector', 'hennessi', 'hi', 'offic', 'paint', 'graffiti', 'swept', 'drug', 'paraphernalia', 'summer', 'peopl', 'said', 'wa', 'first', 'answer', 'complaint', 'year', 'inspector', 'acknowledg', 'residu', 'polic', 'linger', '“that', 'percept', 'realli', 'stick', 'said', 'workload', 'precinct', 'startl', 'reveal', 'gap', 'detect', 'squad', 'equip', 'answer', 'violent', 'crime', 'manhattan', 'compar', 'bronx', 'brooklyn', 'queen', 'three', 'precinct', 'detect', 'carri', 'case', 'year', 'mani', 'load', 'high', 'even', 'though', 'depart', 'advis', 'violent', 'precinct', 'assign', 'homicid', 'typic', 'four', 'day', 'investig', 'befor', 'deal', 'case', 'quieter', 'precinct', 'give', 'detect', 'month', 'littl', 'distract', 'investig', 'murder', 'detect', 'precinct', 'handl', 'averag', 'violent', 'feloni', 'year', 'murder', 'rape', 'feloni', 'assault', 'robberi', 'contrast', 'detect', 'precinct', 'southern', 'staten', 'island', 'carri', 'nine', 'case', 'detect', 'precinct', 'patrol', 'union', 'squar', 'gramerci', 'park', 'handl', 'detect', 'precinct', 'washington', 'height', 'handl', 'citywid', 'median', 'last', 'year', 'wa', 'violent', 'crime', 'case', 'detect', 'bronx', 'whole', 'precinct', 'detect', 'carri', 'averag', 'violent', 'feloni', 'year', 'compar', 'manhattan', 'brooklyn', 'queen', 'staten', 'island', 'rape', 'case', 'robberi', 'pattern', 'later', 'sent', 'special', 'unit', 'precinct', 'detect', 'extens', 'initi', 'work', 'interview', 'victim', 'write', 'report', 'process', 'evid', 'precinct', 'much', 'manhattan', 'whiter', 'wealthier', 'south', 'bronx', 'often', 'properti', 'feloni', 'like', 'stolen', 'laptop', 'credit', 'card', 'polic', 'say', 'complex', 'even', 'account', 'crime', 'precinct', 'heaviest', 'caseload', 'overal', 'crime', 'detect', 'michael', 'palladino', 'head', 'detectives’', 'endow', 'associ', 'former', 'bronx', 'offic', 'said', 'staf', 'dispar', 'affect', 'depart', 'effort', 'build', 'trust', 'commun', 'like', 'south', 'bronx', 'wit', 'make', 'calcul', 'said', '“if', 'cooper', 'detect', 'much', 'work', 'won’t', 'even', 'get', 'chanc', 'protect', 'they’ll', 'late', 'retali', 'sergeant', 'lopuzzo', 'turn', 'prestigi', 'post', 'stay', 'precinct', 'said', 'hi', 'squad', 'work', 'tirelessli', 'handl', 'case', 'peopl', 'everi', 'squad', 'detect', 'staf', 'need', 'counterterror', 'unit', 'task', 'forc', 'creat', 'new', 'deploy', 'challeng', 'across', 'depart', '“we', 'fight', 'armi', 'armi', 'wish', 'said', 'detail', 'polic', 'depart', 'assign', 'offic', 'close', 'held', 'constantli', 'flux', 'public', 'minim', 'inform', 'personnel', 'alloc', 'present', 'time', 'analysi', 'confidenti', 'staf', 'data', 'depart', 'chief', 'detect', 'robert', 'boyc', 'vow', 'send', 'detect', 'precinct', 'said', 'depart', 'would', 'reassess', 'deploy', 'broadli', 'troubl', 'precinct', 'said', 'recent', 'decis', 'bring', 'gang', 'narcot', 'vice', 'detect', 'hi', 'command', 'made', 'easier', 'shift', 'personnel', 'chief', 'boyc', 'said', 'burden', 'detect', 'went', 'beyond', 'feloni', 'crime', 'includ', 'case', 'note', 'support', 'precinct', 'squad', 'got', 'central', 'unit', 'focus', 'robberi', 'gang', 'grand', 'larceni', 'exampl', 'major', 'crime', 'keep', 'pound', 'precinct', 'rate', 'onli', 'tenth', 'percent', 'lower', 'even', 'citywid', 'crime', 'drop', 'third', 'period', 'precinct', 'detect', 'squad', 'shrank', 'eight', 'investig', 'dure', 'year', 'accord', 'staf', 'data', 'obtain', 'council', 'freedom', 'inform', 'law', 'request', 'squad', 'cover', 'union', 'squar', 'gramerci', 'park', 'crime', 'drop', 'third', 'period', 'grew', 'investig', 'precinct', 'wa', 'given', 'addit', 'detect', 'four', 'investig', 'summer', 'wa', 'alreadi', 'miss', 'three', 'detect', 'reason', 'retir', 'detect', 'skeptic', 'commun', 'relat', 'alon', 'drive', 'crime', 'last', 'busiest', 'precinct', 'rather', 'say', 'polic', 'depart', 'dedic', 'resourc', 'provid', 'sort', 'robust', 'investig', 'respons', 'seem', 'standard', 'manhattan', '“ani', 'crime', 'manhattan', 'solv', 'said', 'howard', 'landesberg', 'wa', 'precinct', 'detect', 'late', '“the', 'outer', 'borough', 'like', 'forgotten', 'retir', 'detect', 'said', 'understaf', 'made', 'harder', 'solv', 'crime', 'bronx', 'brooklyn', 'queen', 'higher', 'preval', 'gang', 'drug', 'kill', 'alreadi', 'saddl', 'investig', 'case', 'peopl', 'inclin', 'cooper', 'detect', 'close', 'percent', 'homicid', 'manhattan', 'percent', 'staten', 'island', 'year', 'compar', 'percent', 'bronx', 'percent', 'queen', 'percent', 'brooklyn', 'last', 'year', 'homicid', 'detect', 'clear', 'percent', 'manhattan', 'percent', 'bronx', 'percent', 'queen', 'percent', 'staten', 'island', 'percent', 'brooklyn', '“it', 'cultur', 'polic', 'depart', 'worri', 'manhattan', 'said', 'joseph', 'giacalon', 'former', 'sergeant', 'bronx', 'cold', 'case', 'squad', 'part', '“becaus', 'money', '“when', 'blasio', 'came', 'talk', 'two', 'done', 'complet', 'opposit', 'said', 'busi', 'usual', 'bronx', 'struggl', 'extend', 'prosecut', 'last', 'five', 'year', 'prosecutor', 'bronx', 'declin', 'prosecut', 'violent', 'feloni', 'case', 'anywher', 'els', 'rate', 'convict', 'bronx', 'routin', 'lowest', 'well', 'tick', 'year', 'surpass', 'brooklyn', 'rate', 'novemb', 'bronx', 'prosecutor', 'work', 'streamlin', 'case', 'case', 'becom', 'even', 'difficult', 'win', 'becaus', 'problem', 'precinct', 'allow', 'defens', 'lawyer', 'attack', 'credibl', 'offic', 'implic', 'said', 'patric', 'o’shaughnessi', 'spokeswoman', 'bronx', 'district', 'attorney', 'offic', 'district', 'attorney', 'darcel', 'clark', 'elect', 'said', 'statement', 'wa', 'judg', 'bronx', 'heard', 'juror', 'can’t', 'imparti', 'becaus', 'don’t', 'trust', 'polic', 'tide', 'mistrust', 'sergeant', 'lopuzzo', 'detect', 'work', 'hour', 'straight', 'fresh', 'case', 'buy', 'chines', 'takeout', 'money', 'murder', 'suspect', 'carri', 'surveil', 'video', 'home', 'hope', 'person', 'comput', 'may', 'enhanc', 'better', 'squad', 'comput', 'buy', 'urn', 'homeless', 'mother', 'murder', 'ash', 'box', 'month', 'kill', 'seem', 'like', 'onli', 'peopl', 'glitter', 'pay', 'attent', 'precinct', 'homicid', 'victim', 'newli', 'fatherless', 'children', 'back', 'school', 'without', 'therapist', 'help', 'victims’', 'famili', 'wander', 'confus', 'courthous', 'nearli', 'miss', 'appear', 'newspap', 'larg', 'ignor', 'kill', 'peopl', 'crimin', 'past', 'push', 'prioriti', 'list', 'chief', 'polic', 'headquart', 'stuffi', 'squad', 'room', 'detect', 'precinct', 'grappl', 'inherit', 'govern', 'neglect', 'meet', 'mother', 'believ', 'might', 'never', 'murder', 'guidanc', 'counselor', 'listen', 'plea', 'help', 'stay', 'enrol', 'hous', 'worker', 'fix', 'lock', 'light', 'build', 'detect', 'work', 'alongsid', 'viciou', 'system', 'street', 'punish', 'polic', 'cooper', 'young', 'scan', 'court', 'paperwork', 'prison', 'look', 'name', 'peopl', 'turn', 'one', 'murder', 'victim', 'precinct', 'year', 'wa', 'cast', 'hi', 'crew', 'avoid', 'arrest', 'gang', 'takedown', 'believ', 'wa', 'cooper', 'longtim', 'precinct', 'detect', 'jeff', 'meenagh', 'said', 'wit', 'homicid', 'case', 'wa', 'go', 'testifi', 'went', 'back', 'hi', 'neighborhood', 'wa', 'told', 'anyon', 'testifi', 'would', '“get', 'deserv', 'alli', 'sergeant', 'lopuzzo', 'make', 'friendli', 'onli', 'long', 'help', 'clear', 'woman', 'robberi', 'charg', 'locat', 'surveil', 'video', 'prove', 'wa', 'robber', 'mother', 'start', 'call', 'tip', 'code', 'name', 'gun', 'car', 'exampl', 'alway', 'refus', 'testifi', 'cut', 'tie', 'year', 'sergeant', 'lopuzzo', 'arrest', 'stab', 'two', 'peopl', 'shoot', 'new', 'york', 'east', 'street', 'build', 'side', 'jame', 'fernandez', 'betanc', 'hous', 'said', 'realiti', 'ground', 'wa', 'differ', 'drug', 'boss', 'ran', 'block', 'octob', 'fernandez', 'wa', 'increasingli', 'afraid', 'fed', 'fernandez', 'hi', 'wife', 'went', 'far', 'give', 'offic', 'key', 'build', 'could', 'get', 'whenev', 'show', 'video', 'offer', 'access', 'hi', 'camera', 'could', 'see', 'wa', 'happen', 'hallway', 'coupl', 'offic', 'said', 'need', 'supervisor', 'permiss', 'answer', 'young', 'onli', 'make', 'threat', 'offic', 'occasion', 'stop', 'outsid', 'build', 'caus', 'young', 'scatter', 'insid', 'fernandez', 'said', 'menac', 'worsen', 'fernandez', 'daughter', 'wa', 'harass', 'arriv', 'home', 'school', 'grew', 'distress', 'parent', 'start', 'see', 'therapist', 'fernandez', 'made', 'sever', 'complaint', 'offic', 'borough', 'presid', 'ruben', 'diaz', 'visit', 'victim', 'advoc', 'district', 'attorney', 'offic', 'oct', 'sent', 'onlin', 'note', 'polic', 'commission', 'offic', '“we', 'went', 'proper', 'channel', 'help', 'note', 'said', '“both', 'precinct', 'fail', 'except', 'offic', 'help', 'hand', 'tie', 'one', 'els', 'turn', 'month', 'video', 'multipl', 'crime', 'take', 'place', 'extrem', 'danger', '“th', 'psa', 'won’t', 'anyth', 'wrote', 'refer', 'local', 'substat', '“pleas', 'need', 'speak', 'one', 'author', 'local', 'substat', 'command', 'deputi', 'inspector', 'jerri', 'o’sullivan', 'bronx', 'narcot', 'unit', 'alert', 'complaint', 'fernandez', 'said', 'never', 'heard', 'reli', 'hi', 'street', 'instinct', 'protect', 'hi', 'famili', 'made', 'plea', 'thought', 'wa', 'employ', 'dealer', 'hallway', 'activ', 'quiet', 'briefli', 'return', 'young', 'rent', 'room', 'woman', 'apart', 'upstair', 'fernandez', 'approach', 'differ', 'learn', 'wa', 'boss', 'oper', 'agre', 'ask', 'dealer', 'calm', 'even', 'hire', 'drug', 'custom', 'sweep', 'hallway', 'fernandez', 'said', 'two', 'week', 'later', 'deal', 'harass', 'resum', 'went', 'hi', 'old', 'lower', 'east', 'side', 'boss', 'hire', 'trail', 'hi', 'wife', 'daughter', 'way', 'build', 'make', 'sure', 'made', 'safe', 'school', 'time', 'sat', 'outsid', 'betanc', 'hous', 'bought', 'two', 'bulletproof', 'vest', 'could', 'find', 'one', 'small', 'enough', 'hi', 'daughter', 'faith', 'new', 'york', 'faith', 'polic', 'faith', 'politician', 'fernandez', 'said', '“the', 'onli', 'thing', 'know', 'sure', 'god', 'we’r', 'situat', 'left', 'defend', 'famili', 'pay', 'close', 'attent', 'wa', 'happen', 'hallway', 'fernandez', 'said', 'learn', 'detail', 'two', 'recent', 'homicid', 'precinct', 'wa', 'investig', 'becaus', 'hi', 'call', 'help', 'go', 'nowher', 'said', 'decid', 'put', 'greater', 'risk', 'talk', 'would', 'tell', 'polic', 'learn', '“i’m', 'bend', 'backward', 'nobodi', 'even', 'anyth', 'said', '“whi', 'go', 'help', 'ain’t', 'go', 'help', 'last', 'januari', 'new', 'neighborhood', 'coordin', 'offic', 'wa', 'work', 'resid', 'betanc', 'hous', 'arrest', 'hi', 'hous', 'command', 'inspector', 'o’sullivan', 'said', 'chief', 'boyc', 'said', 'silo', 'gang', 'narcot', 'detect', 'use', 'work', 'made', 'respond', 'complaint', 'difficult', 'recent', 'restructur', 'would', 'remov', 'obstacl', '“no', 'one', 'live', 'like', 'fernandez', 'live', 'peopl', 'deal', 'drug', 'outsid', 'hi', 'apart', 'said', 'fernandez', 'complaint', 'spur', 'ani', 'arrest', 'two', 'hallway', 'caught', 'separ', 'year', 'shoot', 'one', 'fernandez', 'name', 'polic', 'report', 'wa', 'charg', 'summer', 'hit', 'offic', 'metal', 'fold', 'chair', 'fire', 'three', 'gunshot', 'crowd', 'court', 'paper', 'say', 'held', 'riker', 'island', 'attempt', 'murder', 'charg', 'wa', 'late', 'fernandez', 'may', 'move', 'hi', 'famili', 'away'] \n",
      "\n"
     ]
    }
   ],
   "source": [
    "gen = (doc['Cleanedcontent'] for doc in db.cleanedcontent.find()[0:2])\n",
    "for file in gen:\n",
    "    print(file,'\\n')"
   ]
  },
  {
   "cell_type": "code",
   "execution_count": 4,
   "metadata": {},
   "outputs": [
    {
     "data": {
      "text/plain": [
       "CountVectorizer(analyzer='word', binary=False, decode_error='strict',\n",
       "        dtype=<class 'numpy.int64'>, encoding='utf-8', input='content',\n",
       "        lowercase=False, max_df=1.0, max_features=None, min_df=1,\n",
       "        ngram_range=(1, 1), preprocessor=None, stop_words='english',\n",
       "        strip_accents=None, token_pattern='(?u)\\\\b\\\\w\\\\w+\\\\b',\n",
       "        tokenizer=None, vocabulary=None)"
      ]
     },
     "execution_count": 4,
     "metadata": {},
     "output_type": "execute_result"
    }
   ],
   "source": [
    "cv = CountVectorizer(lowercase=False, input='content', stop_words='english')\n",
    "gen = (doc['Cleanedcontent'] for doc in db.cleanedcontent.find())\n",
    "cv.fit(gen)"
   ]
  },
  {
   "cell_type": "code",
   "execution_count": 24,
   "metadata": {},
   "outputs": [],
   "source": [
    "lda = LatentDirichletAllocation(n_components=50)"
   ]
  },
  {
   "cell_type": "code",
   "execution_count": 6,
   "metadata": {},
   "outputs": [
    {
     "ename": "AttributeError",
     "evalue": "'Cursor' object has no attribute 'noCursorTimeout'",
     "output_type": "error",
     "traceback": [
      "\u001b[0;31m---------------------------------------------------------------------------\u001b[0m",
      "\u001b[0;31mAttributeError\u001b[0m                            Traceback (most recent call last)",
      "\u001b[0;32m<ipython-input-6-aa8199b0e236>\u001b[0m in \u001b[0;36m<module>\u001b[0;34m()\u001b[0m\n\u001b[0;32m----> 1\u001b[0;31m \u001b[0mgen\u001b[0m \u001b[0;34m=\u001b[0m \u001b[0;34m(\u001b[0m\u001b[0mdoc\u001b[0m\u001b[0;34m[\u001b[0m\u001b[0;34m'Cleanedcontent'\u001b[0m\u001b[0;34m]\u001b[0m \u001b[0;32mfor\u001b[0m \u001b[0mdoc\u001b[0m \u001b[0;32min\u001b[0m \u001b[0mdb\u001b[0m\u001b[0;34m.\u001b[0m\u001b[0mcleanedcontent\u001b[0m\u001b[0;34m.\u001b[0m\u001b[0mfind\u001b[0m\u001b[0;34m(\u001b[0m\u001b[0;34m)\u001b[0m\u001b[0;34m.\u001b[0m\u001b[0mnoCursorTimeout\u001b[0m\u001b[0;34m(\u001b[0m\u001b[0;34m)\u001b[0m\u001b[0;34m)\u001b[0m\u001b[0;34m\u001b[0m\u001b[0m\n\u001b[0m\u001b[1;32m      2\u001b[0m \u001b[0;32mfor\u001b[0m \u001b[0mepoch\u001b[0m \u001b[0;32min\u001b[0m \u001b[0mrange\u001b[0m\u001b[0;34m(\u001b[0m\u001b[0;36m10\u001b[0m\u001b[0;34m)\u001b[0m\u001b[0;34m:\u001b[0m\u001b[0;34m\u001b[0m\u001b[0m\n\u001b[1;32m      3\u001b[0m     \u001b[0;32mfor\u001b[0m \u001b[0mfile\u001b[0m \u001b[0;32min\u001b[0m \u001b[0mgen\u001b[0m\u001b[0;34m:\u001b[0m\u001b[0;34m\u001b[0m\u001b[0m\n\u001b[1;32m      4\u001b[0m         \u001b[0mvec_file\u001b[0m \u001b[0;34m=\u001b[0m \u001b[0mcv\u001b[0m\u001b[0;34m.\u001b[0m\u001b[0mtransform\u001b[0m\u001b[0;34m(\u001b[0m\u001b[0;34m[\u001b[0m\u001b[0mfile\u001b[0m\u001b[0;34m]\u001b[0m\u001b[0;34m)\u001b[0m\u001b[0;34m\u001b[0m\u001b[0m\n\u001b[1;32m      5\u001b[0m         \u001b[0mlda\u001b[0m\u001b[0;34m.\u001b[0m\u001b[0mpartial_fit\u001b[0m\u001b[0;34m(\u001b[0m\u001b[0mvec_file\u001b[0m\u001b[0;34m)\u001b[0m\u001b[0;34m\u001b[0m\u001b[0m\n",
      "\u001b[0;31mAttributeError\u001b[0m: 'Cursor' object has no attribute 'noCursorTimeout'"
     ]
    }
   ],
   "source": [
    "gen = (doc['Cleanedcontent'] for doc in db.cleanedcontent.find().noCursorTimeout())\n",
    "#for epoch in range(10):\n",
    "    for file in gen:\n",
    "        vec_file = cv.transform([file])\n",
    "        lda.partial_fit(vec_file)\n"
   ]
  },
  {
   "cell_type": "code",
   "execution_count": 7,
   "metadata": {},
   "outputs": [],
   "source": [
    "gen = (doc['Cleanedcontent'] for doc in db.cleanedcontent.find({},no_cursor_timeout=True))\n",
    "for epoch in range(1):\n",
    "    for file in gen:\n",
    "        vec_file = cv.transform([file])\n",
    "        lda.partial_fit(vec_file)\n"
   ]
  },
  {
   "cell_type": "code",
   "execution_count": 25,
   "metadata": {},
   "outputs": [],
   "source": [
    "a = db.cleanedcontent.aggregate( [ { '$sample': {'size' : 1000}}])\n",
    "#for doc in list(a):\n",
    " #   print(doc['Cleanedcontent'],'\\n')"
   ]
  },
  {
   "cell_type": "code",
   "execution_count": 26,
   "metadata": {},
   "outputs": [],
   "source": [
    "\n",
    "for epoch in range(10):\n",
    "    gen = [doc['Cleanedcontent'] for doc in list(a)]\n",
    "    for file in gen:\n",
    "        vec_file = cv.transform([file])\n",
    "        lda.partial_fit(vec_file)\n"
   ]
  },
  {
   "cell_type": "code",
   "execution_count": 22,
   "metadata": {},
   "outputs": [],
   "source": [
    "# for 1000 docs, 10 epochs\n",
    "def display_topics(model, feature_names, no_top_words, topic_names=None):\n",
    "    for ix, topic in enumerate(model.components_):\n",
    "        if not topic_names or not topic_names[ix]:\n",
    "            print(\"\\nTopic \", ix)\n",
    "        else:\n",
    "            print(\"\\nTopic: '\",topic_names[ix],\"'\")\n",
    "        print(\", \".join([feature_names[i]\n",
    "                        for i in topic.argsort()[:-no_top_words - 1:-1]]))"
   ]
  },
  {
   "cell_type": "code",
   "execution_count": 16,
   "metadata": {},
   "outputs": [
    {
     "name": "stdout",
     "output_type": "stream",
     "text": [
      "\n",
      "Topic  0\n",
      "said, offici, russia, russian, secur, presid, compani, fbi, unit, foreign\n",
      "\n",
      "Topic  1\n",
      "trump, hi, republican, presid, campaign, democrat, elect, donald, obama, vote\n",
      "\n",
      "Topic  2\n",
      "post, facebook, twitter, photo, video, caption, new, stori, okay, restaur\n",
      "\n",
      "Topic  3\n",
      "percent, research, rate, year, peopl, use, say, like, make, increas\n",
      "\n",
      "Topic  4\n",
      "said, state, islam, wa, attack, militari, forc, countri, unit, syria\n",
      "\n",
      "Topic  5\n",
      "wa, hi, like, peopl, say, think, know, make, time, don\n",
      "\n",
      "Topic  6\n",
      "said, wa, polic, offic, kill, shoot, gun, told, peopl, accord\n",
      "\n",
      "Topic  7\n",
      "clinton, wa, said, hi, state, law, court, report, case, news\n",
      "\n",
      "Topic  8\n",
      "year, wa, new, american, world, time, washington, group, compani, nation\n",
      "\n",
      "Topic  9\n",
      "said, game, tax, million, year, plan, insur, money, billion, bank\n"
     ]
    }
   ],
   "source": [
    "#for 100 docs\n",
    "def display_topics(model, feature_names, no_top_words, topic_names=None):\n",
    "    for ix, topic in enumerate(model.components_):\n",
    "        if not topic_names or not topic_names[ix]:\n",
    "            print(\"\\nTopic \", ix)\n",
    "        else:\n",
    "            print(\"\\nTopic: '\",topic_names[ix],\"'\")\n",
    "        print(\", \".join([feature_names[i]\n",
    "                        for i in topic.argsort()[:-no_top_words - 1:-1]]))\n",
    "        \n",
    "display_topics(lda, cv.get_feature_names(), 10)"
   ]
  },
  {
   "cell_type": "code",
   "execution_count": 28,
   "metadata": {},
   "outputs": [
    {
     "name": "stdout",
     "output_type": "stream",
     "text": [
      "\n",
      "Topic  0\n",
      "american, nation, speech, billion, histori, deal, valu, gain, base, score\n",
      "\n",
      "Topic  1\n",
      "member, world, human, leader, gay, cultur, intern, critic, hotel, institut\n",
      "\n",
      "Topic  2\n",
      "wa, peopl, like, make, new, work, think, mani, onli, said\n",
      "\n",
      "Topic  3\n",
      "trump, clinton, republican, donald, democrat, elect, hillari, parti, campaign, polit\n",
      "\n",
      "Topic  4\n",
      "april, record, perform, movi, island, artist, type, music, struck, success\n",
      "\n",
      "Topic  5\n",
      "million, school, student, children, need, parent, say, colleg, famili, mani\n",
      "\n",
      "Topic  6\n",
      "black, claim, white, power, racial, matter, distribut, year, old, brown\n",
      "\n",
      "Topic  7\n",
      "hi, game, compani, support, open, appear, seri, fan, star, final\n",
      "\n",
      "Topic  8\n",
      "oper, militari, europ, warn, foreign, germani, air, european, minist, attempt\n",
      "\n",
      "Topic  9\n",
      "law, court, govern, feder, abort, suprem, depart, group, local, educ\n",
      "\n",
      "Topic  10\n",
      "post, person, left, media, question, wrote, write, newspap, magazin, editor\n",
      "\n",
      "Topic  11\n",
      "china, industri, technolog, firm, agreement, meet, labor, analyst, econom, intern\n",
      "\n",
      "Topic  12\n",
      "alleg, agenc, intellig, document, secretari, nation, sourc, lawyer, question, britain\n",
      "\n",
      "Topic  13\n",
      "percent, research, studi, accord, share, report, plan, increas, data, cut\n",
      "\n",
      "Topic  14\n",
      "campaign, candid, debat, march, comey, primari, inform, committe, suggest, damag\n",
      "\n",
      "Topic  15\n",
      "vote, elect, movement, conserv, group, ralli, berni, young, civic, mayor\n",
      "\n",
      "Topic  16\n",
      "center, great, stand, past, continu, judg, america, hand, view, togeth\n",
      "\n",
      "Topic  17\n",
      "polic, offic, death, charg, kill, shot, shoot, video, car, shooter\n",
      "\n",
      "Topic  18\n",
      "season, game, charact, episod, religi, mirror, marriag, colleagu, netflix, experi\n",
      "\n",
      "Topic  19\n",
      "rule, success, argu, reform, separ, corrupt, fail, divis, ryan, focus\n",
      "\n",
      "Topic  20\n",
      "execut, immigr, order, creat, big, fund, actual, texa, allow, punish\n",
      "\n",
      "Topic  21\n",
      "medic, coverag, replac, harder, obamacar, cover, premium, subsidi, driven, buy\n",
      "\n",
      "Topic  22\n",
      "wa, photo, famili, friend, hospit, church, home, coupl, trip, room\n",
      "\n",
      "Topic  23\n",
      "reason, someon, result, better, issu, term, simpli, attempt, sander, commit\n",
      "\n",
      "Topic  24\n",
      "time, year, becaus, day, use, look, don, ask, someth, help\n",
      "\n",
      "Topic  25\n",
      "french, player, remov, blue, play, branch, davi, fri, levi, lennon\n",
      "\n",
      "Topic  26\n",
      "social, author, hour, academi, report, onlin, page, correct, illustr, flood\n",
      "\n",
      "Topic  27\n",
      "voter, win, senat, carolina, nomin, candid, governor, ohio, major, committe\n",
      "\n",
      "Topic  28\n",
      "combin, korean, snap, strike, content, sky, piec, bear, grab, rush\n",
      "\n",
      "Topic  29\n",
      "way, right, point, public, countri, differ, mean, today, start, share\n",
      "\n",
      "Topic  30\n",
      "state, countri, border, union, district, visa, penalti, public, legal, polici\n",
      "\n",
      "Topic  31\n",
      "realli, thing, best, run, young, local, real, hard, watch, guy\n",
      "\n",
      "Topic  32\n",
      "sport, issu, survey, repeal, employ, brook, annual, birth, minnesota, dispar\n",
      "\n",
      "Topic  33\n",
      "said, wa, report, new, chief, depart, servic, wednesday, befor, friday\n",
      "\n",
      "Topic  34\n",
      "north, korea, muslim, palestinian, gaza, strength, pacif, missil, pyongyang, condemn\n",
      "\n",
      "Topic  35\n",
      "network, thank, india, london, film, father, save, king, journey, stream\n",
      "\n",
      "Topic  36\n",
      "director, email, employe, agent, jame, accord, attorney, johnson, googl, dismiss\n",
      "\n",
      "Topic  37\n",
      "told, investig, later, attend, visit, came, confirm, phone, relationship, announc\n",
      "\n",
      "Topic  38\n",
      "poll, israel, monday, told, accus, defeat, endors, agenda, pledg, stop\n",
      "\n",
      "Topic  39\n",
      "food, water, area, eat, resid, river, mile, suppli, california, oil\n",
      "\n",
      "Topic  40\n",
      "case, justic, prosecut, conclus, dinner, francisco, wrote, result, anthoni, reason\n",
      "\n",
      "Topic  41\n",
      "secur, attack, russian, islam, russia, kill, syrian, conflict, terror, terrorist\n",
      "\n",
      "Topic  42\n",
      "rate, market, new, sinc, bank, trade, price, global, develop, product\n",
      "\n",
      "Topic  43\n",
      "presid, hi, hous, obama, offici, white, offic, support, health, race\n",
      "\n",
      "Topic  44\n",
      "news, forc, refuge, unit, organ, ani, action, breitbart, nation, number\n",
      "\n",
      "Topic  45\n",
      "women, woman, crime, girl, prison, cdc, inmat, convict, boss, male\n",
      "\n",
      "Topic  46\n",
      "finish, japan, teacher, trail, floor, cook, readi, list, dress, small\n",
      "\n",
      "Topic  47\n",
      "say, know, veri, like, think, hear, talk, ani, believ, ll\n",
      "\n",
      "Topic  48\n",
      "tax, team, busi, pay, pass, consid, releas, financi, clear, budget\n",
      "\n",
      "Topic  49\n",
      "life, book, space, live, breath, littl, anim, natur, project, lot\n"
     ]
    }
   ],
   "source": [
    "# for 1000 docs\n",
    "display_topics(lda, cv.get_feature_names(), 10)"
   ]
  },
  {
   "cell_type": "code",
   "execution_count": 12,
   "metadata": {},
   "outputs": [
    {
     "name": "stderr",
     "output_type": "stream",
     "text": [
      "/home/sangrador/anaconda3/lib/python3.6/site-packages/sklearn/decomposition/truncated_svd.py:192: RuntimeWarning: invalid value encountered in true_divide\n",
      "  self.explained_variance_ratio_ = exp_var / full_var\n"
     ]
    }
   ],
   "source": [
    "lsa = TruncatedSVD(2, algorithm = 'randomized')\n",
    "a = db.cleanedcontent.aggregate( [ { '$sample': {'size' : 1000}}])\n",
    "\n",
    "for epoch in range(1):\n",
    "    gen = [doc['Cleanedcontent'] for doc in list(a)]\n",
    "    for file in gen:\n",
    "        vec_file = cv.transform([file])\n",
    "        dtm_lsa = lsa.fit_transform(vec_file)\n",
    "        dtm_lsa = Normalizer(copy=False).fit_transform(dtm_lsa)\n",
    "\n",
    "\n",
    "# Fit LSA. Use algorithm = “randomized” for large datasets \n",
    "#lsa = TruncatedSVD(2, algorithm = 'arpack')\n",
    "\n",
    "#dtm_lsa = lsa.fit_transform(dtm)\n",
    "#dtm_lsa = Normalizer(copy=False).fit_transform(dtm_lsa)\n",
    "\n"
   ]
  },
  {
   "cell_type": "code",
   "execution_count": 13,
   "metadata": {},
   "outputs": [
    {
     "name": "stdout",
     "output_type": "stream",
     "text": [
      "\n",
      "Topic  0\n",
      "medicaid, drug, state, wisconsin, said, program, new, health, walker, abus\n"
     ]
    }
   ],
   "source": [
    "display_topics(lsa, cv.get_feature_names(), 10)"
   ]
  },
  {
   "cell_type": "code",
   "execution_count": 14,
   "metadata": {},
   "outputs": [
    {
     "ename": "IndexError",
     "evalue": "index 1 is out of bounds for axis 1 with size 1",
     "output_type": "error",
     "traceback": [
      "\u001b[0;31m---------------------------------------------------------------------------\u001b[0m",
      "\u001b[0;31mIndexError\u001b[0m                                Traceback (most recent call last)",
      "\u001b[0;32m<ipython-input-14-4065cbb75928>\u001b[0m in \u001b[0;36m<module>\u001b[0;34m()\u001b[0m\n\u001b[1;32m      6\u001b[0m     \u001b[0;32mfor\u001b[0m \u001b[0mfile\u001b[0m \u001b[0;32min\u001b[0m \u001b[0mgen\u001b[0m\u001b[0;34m:\u001b[0m\u001b[0;34m\u001b[0m\u001b[0m\n\u001b[1;32m      7\u001b[0m         \u001b[0mvec_file\u001b[0m \u001b[0;34m=\u001b[0m \u001b[0mcv\u001b[0m\u001b[0;34m.\u001b[0m\u001b[0mtransform\u001b[0m\u001b[0;34m(\u001b[0m\u001b[0;34m[\u001b[0m\u001b[0mfile\u001b[0m\u001b[0;34m]\u001b[0m\u001b[0;34m)\u001b[0m\u001b[0;34m\u001b[0m\u001b[0m\n\u001b[0;32m----> 8\u001b[0;31m         \u001b[0mdtm_nmf\u001b[0m \u001b[0;34m=\u001b[0m \u001b[0mnmf_model\u001b[0m\u001b[0;34m.\u001b[0m\u001b[0mfit_transform\u001b[0m\u001b[0;34m(\u001b[0m\u001b[0mvec_file\u001b[0m\u001b[0;34m)\u001b[0m\u001b[0;34m\u001b[0m\u001b[0m\n\u001b[0m\u001b[1;32m      9\u001b[0m         \u001b[0mdtm_nmf\u001b[0m \u001b[0;34m=\u001b[0m \u001b[0mNormalizer\u001b[0m\u001b[0;34m(\u001b[0m\u001b[0mcopy\u001b[0m\u001b[0;34m=\u001b[0m\u001b[0;32mFalse\u001b[0m\u001b[0;34m)\u001b[0m\u001b[0;34m.\u001b[0m\u001b[0mfit_transform\u001b[0m\u001b[0;34m(\u001b[0m\u001b[0mdtm_nmf\u001b[0m\u001b[0;34m)\u001b[0m\u001b[0;34m\u001b[0m\u001b[0m\n\u001b[1;32m     10\u001b[0m \u001b[0;34m\u001b[0m\u001b[0m\n",
      "\u001b[0;32m~/anaconda3/lib/python3.6/site-packages/sklearn/decomposition/nmf.py\u001b[0m in \u001b[0;36mfit_transform\u001b[0;34m(self, X, y, W, H)\u001b[0m\n\u001b[1;32m   1233\u001b[0m             \u001b[0ml1_ratio\u001b[0m\u001b[0;34m=\u001b[0m\u001b[0mself\u001b[0m\u001b[0;34m.\u001b[0m\u001b[0ml1_ratio\u001b[0m\u001b[0;34m,\u001b[0m \u001b[0mregularization\u001b[0m\u001b[0;34m=\u001b[0m\u001b[0;34m'both'\u001b[0m\u001b[0;34m,\u001b[0m\u001b[0;34m\u001b[0m\u001b[0m\n\u001b[1;32m   1234\u001b[0m             \u001b[0mrandom_state\u001b[0m\u001b[0;34m=\u001b[0m\u001b[0mself\u001b[0m\u001b[0;34m.\u001b[0m\u001b[0mrandom_state\u001b[0m\u001b[0;34m,\u001b[0m \u001b[0mverbose\u001b[0m\u001b[0;34m=\u001b[0m\u001b[0mself\u001b[0m\u001b[0;34m.\u001b[0m\u001b[0mverbose\u001b[0m\u001b[0;34m,\u001b[0m\u001b[0;34m\u001b[0m\u001b[0m\n\u001b[0;32m-> 1235\u001b[0;31m             shuffle=self.shuffle)\n\u001b[0m\u001b[1;32m   1236\u001b[0m \u001b[0;34m\u001b[0m\u001b[0m\n\u001b[1;32m   1237\u001b[0m         self.reconstruction_err_ = _beta_divergence(X, W, H, self.beta_loss,\n",
      "\u001b[0;32m~/anaconda3/lib/python3.6/site-packages/sklearn/decomposition/nmf.py\u001b[0m in \u001b[0;36mnon_negative_factorization\u001b[0;34m(X, W, H, n_components, init, update_H, solver, beta_loss, tol, max_iter, alpha, l1_ratio, regularization, random_state, verbose, shuffle)\u001b[0m\n\u001b[1;32m   1009\u001b[0m     \u001b[0;32melse\u001b[0m\u001b[0;34m:\u001b[0m\u001b[0;34m\u001b[0m\u001b[0m\n\u001b[1;32m   1010\u001b[0m         W, H = _initialize_nmf(X, n_components, init=init,\n\u001b[0;32m-> 1011\u001b[0;31m                                random_state=random_state)\n\u001b[0m\u001b[1;32m   1012\u001b[0m \u001b[0;34m\u001b[0m\u001b[0m\n\u001b[1;32m   1013\u001b[0m     l1_reg_W, l1_reg_H, l2_reg_W, l2_reg_H = _compute_regularization(\n",
      "\u001b[0;32m~/anaconda3/lib/python3.6/site-packages/sklearn/decomposition/nmf.py\u001b[0m in \u001b[0;36m_initialize_nmf\u001b[0;34m(X, n_components, init, eps, random_state)\u001b[0m\n\u001b[1;32m    321\u001b[0m \u001b[0;34m\u001b[0m\u001b[0m\n\u001b[1;32m    322\u001b[0m     \u001b[0;32mfor\u001b[0m \u001b[0mj\u001b[0m \u001b[0;32min\u001b[0m \u001b[0mrange\u001b[0m\u001b[0;34m(\u001b[0m\u001b[0;36m1\u001b[0m\u001b[0;34m,\u001b[0m \u001b[0mn_components\u001b[0m\u001b[0;34m)\u001b[0m\u001b[0;34m:\u001b[0m\u001b[0;34m\u001b[0m\u001b[0m\n\u001b[0;32m--> 323\u001b[0;31m         \u001b[0mx\u001b[0m\u001b[0;34m,\u001b[0m \u001b[0my\u001b[0m \u001b[0;34m=\u001b[0m \u001b[0mU\u001b[0m\u001b[0;34m[\u001b[0m\u001b[0;34m:\u001b[0m\u001b[0;34m,\u001b[0m \u001b[0mj\u001b[0m\u001b[0;34m]\u001b[0m\u001b[0;34m,\u001b[0m \u001b[0mV\u001b[0m\u001b[0;34m[\u001b[0m\u001b[0mj\u001b[0m\u001b[0;34m,\u001b[0m \u001b[0;34m:\u001b[0m\u001b[0;34m]\u001b[0m\u001b[0;34m\u001b[0m\u001b[0m\n\u001b[0m\u001b[1;32m    324\u001b[0m \u001b[0;34m\u001b[0m\u001b[0m\n\u001b[1;32m    325\u001b[0m         \u001b[0;31m# extract positive and negative parts of column vectors\u001b[0m\u001b[0;34m\u001b[0m\u001b[0;34m\u001b[0m\u001b[0m\n",
      "\u001b[0;31mIndexError\u001b[0m: index 1 is out of bounds for axis 1 with size 1"
     ]
    }
   ],
   "source": [
    "nmf_model = NMF(2)\n",
    "\n",
    "a = db.cleanedcontent.aggregate( [ { '$sample': {'size' : 1000}}])\n",
    "for epoch in range(1):\n",
    "    gen = [doc['Cleanedcontent'] for doc in list(a)]\n",
    "    for file in gen:\n",
    "        vec_file = cv.transform([file])\n",
    "        dtm_nmf = nmf_model.fit_transform(vec_file)\n",
    "        dtm_nmf = Normalizer(copy=False).fit_transform(dtm_nmf)\n",
    "\n",
    "\n",
    "\n",
    "\n"
   ]
  },
  {
   "cell_type": "code",
   "execution_count": 10,
   "metadata": {},
   "outputs": [
    {
     "name": "stdout",
     "output_type": "stream",
     "text": [
      "\n",
      "Topic  0\n",
      "year, wa, mani, think, women, world, american, time, peopl, new\n",
      "\n",
      "Topic  1\n",
      "republican, vote, state, democrat, voter, parti, elect, support, poll, campaign\n",
      "\n",
      "Topic  2\n",
      "trump, hi, said, presid, wa, donald, obama, white, elect, hillari\n",
      "\n",
      "Topic  3\n",
      "said, wa, court, law, case, state, depart, offic, school, justic\n",
      "\n",
      "Topic  4\n",
      "percent, compani, year, new, research, rate, market, said, use, data\n",
      "\n",
      "Topic  5\n",
      "hi, wa, game, play, team, year, night, star, season, best\n",
      "\n",
      "Topic  6\n",
      "clinton, campaign, post, report, senat, ani, group, wa, support, day\n",
      "\n",
      "Topic  7\n",
      "state, said, unit, russia, russian, govern, countri, north, offici, presid\n",
      "\n",
      "Topic  8\n",
      "wa, say, like, peopl, know, don, becaus, thing, famili, day\n",
      "\n",
      "Topic  9\n",
      "said, wa, polic, hi, state, kill, offic, attack, forc, islam\n"
     ]
    }
   ],
   "source": [
    "display_topics(lda, cv.get_feature_names(), 10)"
   ]
  },
  {
   "cell_type": "code",
   "execution_count": null,
   "metadata": {},
   "outputs": [],
   "source": []
  }
 ],
 "metadata": {
  "kernelspec": {
   "display_name": "Python 3",
   "language": "python",
   "name": "python3"
  },
  "language_info": {
   "codemirror_mode": {
    "name": "ipython",
    "version": 3
   },
   "file_extension": ".py",
   "mimetype": "text/x-python",
   "name": "python",
   "nbconvert_exporter": "python",
   "pygments_lexer": "ipython3",
   "version": "3.6.5"
  }
 },
 "nbformat": 4,
 "nbformat_minor": 2
}
