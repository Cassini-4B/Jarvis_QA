{
 "cells": [
  {
   "cell_type": "code",
   "execution_count": 4,
   "metadata": {},
   "outputs": [],
   "source": [
    "import numpy as np\n",
    "import sklearn\n",
    "import matplotlib.pyplot as plt\n",
    "%matplotlib inline\n",
    "import pandas as pd\n",
    "import sys\n",
    "import re\n",
    "import pickle\n",
    "import string\n",
    "import nltk\n",
    "from nltk.corpus import stopwords\n",
    "from nltk.stem import porter\n",
    "\n",
    "\n",
    "stemmer = porter.PorterStemmer()\n",
    "\n",
    "stopwords = stopwords.words()"
   ]
  },
  {
   "cell_type": "code",
   "execution_count": 5,
   "metadata": {},
   "outputs": [],
   "source": [
    "alldata = pd.read_pickle('allarticles.pickle')"
   ]
  },
  {
   "cell_type": "code",
   "execution_count": 3,
   "metadata": {},
   "outputs": [
    {
     "data": {
      "text/plain": [
       "0    WASHINGTON  —   Congressional Republicans have...\n",
       "1    After the bullet shells get counted, the blood...\n",
       "2    When Walt Disney’s “Bambi” opened in 1942, cri...\n",
       "Name: content, dtype: object"
      ]
     },
     "execution_count": 3,
     "metadata": {},
     "output_type": "execute_result"
    }
   ],
   "source": [
    "alldata['content'][0:3]"
   ]
  },
  {
   "cell_type": "code",
   "execution_count": 8,
   "metadata": {},
   "outputs": [
    {
     "data": {
      "text/plain": [
       "'administrations authority'"
      ]
     },
     "execution_count": 8,
     "metadata": {},
     "output_type": "execute_result"
    }
   ],
   "source": [
    "re.sub('['+string.punctuation+']', '',\"administration's authority\") #tring.punctuation"
   ]
  },
  {
   "cell_type": "code",
   "execution_count": 3,
   "metadata": {},
   "outputs": [],
   "source": [
    "def cleaning(text):\n",
    "    cleaned_text = []\n",
    "    text1=re.sub('—', '', text)  # remove dashes --\n",
    "    text2 = re.sub('  ', ' ', text1)  # remove double spaces\n",
    "    text3 = re.sub('[%s]' % re.escape(string.punctuation), ' ',text2)  # remove punctuation\n",
    "    text4 = re.sub(\"’s\",'', text3)  # remove apostrophe s\n",
    "    text5 = re.sub('[0-9]','',text4) # remove numbers\n",
    "    \n",
    "    for t in text5.split(' '):\n",
    "        if len(t)>2:\n",
    "            stem_word = stemmer.stem(t.lower())\n",
    "            if stem_word not in stopwords:\n",
    "                cleaned_text.append(''.join(stem_word))\n",
    "    return cleaned_text"
   ]
  },
  {
   "cell_type": "code",
   "execution_count": 4,
   "metadata": {},
   "outputs": [],
   "source": [
    "a = 'WASHINGTON  —   Congressional Republicans have a new fear when it comes to their    health care lawsuit against the Obama administration: They might win. The incoming Trump administration could choose to no longer defend the executive branch against the suit, which challenges the administration’s authority to spend billions of dollars on health insurance subsidies for   and   Americans, handing House Republicans a big victory on    issues. But a sudden loss of the disputed subsidies could concei'"
   ]
  },
  {
   "cell_type": "code",
   "execution_count": 87,
   "metadata": {},
   "outputs": [
    {
     "name": "stdout",
     "output_type": "stream",
     "text": [
      "['washington', 'congression', 'republican', 'new', 'fear', 'health', 'lawsuit', 'obama', 'administr', 'might', 'win', 'incom', 'trump', 'administr', 'could', 'choos', 'longer', 'defend', 'execut', 'branch', 'suit', 'challeng', 'administr', 'author', 'spend', 'billion', 'dollar', 'health', 'insur', 'subsidi', 'american', 'hand', 'hous', 'republican', 'big', 'victori', 'issu', 'sudden', 'loss', 'disput', 'subsidi', 'could', 'concei']\n"
     ]
    }
   ],
   "source": [
    "print(cleaning(a))"
   ]
  },
  {
   "cell_type": "code",
   "execution_count": 80,
   "metadata": {},
   "outputs": [
    {
     "data": {
      "text/plain": [
       "['washington',\n",
       " 'congression',\n",
       " 'republican',\n",
       " 'new',\n",
       " 'fear',\n",
       " 'health',\n",
       " 'lawsuit',\n",
       " 'obama',\n",
       " 'administr',\n",
       " 'might',\n",
       " 'win',\n",
       " 'incom',\n",
       " 'trump',\n",
       " 'administr',\n",
       " 'could',\n",
       " 'choos',\n",
       " 'longer',\n",
       " 'defend',\n",
       " 'execut',\n",
       " 'branch',\n",
       " 'suit',\n",
       " 'challeng',\n",
       " 'administr',\n",
       " 'author',\n",
       " 'spend',\n",
       " 'billion',\n",
       " 'dollar',\n",
       " 'health',\n",
       " 'insur',\n",
       " 'subsidi',\n",
       " 'american',\n",
       " 'hand',\n",
       " 'hous',\n",
       " 'republican',\n",
       " 'big',\n",
       " 'victori',\n",
       " 'issu',\n",
       " 'sudden',\n",
       " 'loss',\n",
       " 'disput',\n",
       " 'subsidi',\n",
       " 'could',\n",
       " 'concei']"
      ]
     },
     "execution_count": 80,
     "metadata": {},
     "output_type": "execute_result"
    }
   ],
   "source": [
    "text1=re.sub('—', '', a)\n",
    "text2 = re.sub('  ', ' ', text1)\n",
    "text3 = re.sub('[%s]' % re.escape(string.punctuation), ' ',text2)\n",
    "text4 = re.sub(\"’s\",'', text3)\n",
    "cleaned_text=[]\n",
    "for t in text4.split(' '):\n",
    "        cleaned_words = []\n",
    "        if len(t)>2:\n",
    "            stem_word = stemmer.stem(t.lower())\n",
    "            if stem_word not in stopwords:\n",
    "                #cleaned_words.append(stem_word)\n",
    "                cleaned_text.append(''.join(stem_word))\n",
    "            \n",
    "   # return cleaned_text\n",
    "#for t in text4.split(' '):\n",
    " #   if len(t)>2:\n",
    "  #      print(t.lower())\n",
    "#cleaning(a)\n",
    "#print(text4)\n",
    "cleaned_text"
   ]
  },
  {
   "cell_type": "code",
   "execution_count": 89,
   "metadata": {},
   "outputs": [],
   "source": [
    "cleaned_content=cleaning(alldata['content'])"
   ]
  },
  {
   "cell_type": "code",
   "execution_count": 6,
   "metadata": {},
   "outputs": [
    {
     "data": {
      "text/plain": [
       "range(0, 5)"
      ]
     },
     "execution_count": 6,
     "metadata": {},
     "output_type": "execute_result"
    }
   ],
   "source": [
    "range(len(alldata['content'][0:3]))"
   ]
  },
  {
   "cell_type": "code",
   "execution_count": 14,
   "metadata": {},
   "outputs": [],
   "source": [
    "cleaned_content=[]\n",
    "for i in range(len(alldata['content'])):\n",
    "    cleaned_content.append(cleaning(alldata['content'][i]))\n",
    "    "
   ]
  },
  {
   "cell_type": "code",
   "execution_count": 16,
   "metadata": {},
   "outputs": [
    {
     "data": {
      "text/plain": [
       "142570"
      ]
     },
     "execution_count": 16,
     "metadata": {},
     "output_type": "execute_result"
    }
   ],
   "source": [
    "len(cleaned_content)"
   ]
  },
  {
   "cell_type": "code",
   "execution_count": 19,
   "metadata": {},
   "outputs": [],
   "source": [
    "with open('cleanedcontent.pickle', 'wb') as c:\n",
    "          pickle.dump(cleaned_content, c)"
   ]
  },
  {
   "cell_type": "code",
   "execution_count": null,
   "metadata": {},
   "outputs": [],
   "source": [
    "cleaned_content"
   ]
  },
  {
   "cell_type": "code",
   "execution_count": null,
   "metadata": {},
   "outputs": [],
   "source": []
  }
 ],
 "metadata": {
  "kernelspec": {
   "display_name": "Python 3",
   "language": "python",
   "name": "python3"
  },
  "language_info": {
   "codemirror_mode": {
    "name": "ipython",
    "version": 3
   },
   "file_extension": ".py",
   "mimetype": "text/x-python",
   "name": "python",
   "nbconvert_exporter": "python",
   "pygments_lexer": "ipython3",
   "version": "3.6.5"
  }
 },
 "nbformat": 4,
 "nbformat_minor": 2
}
