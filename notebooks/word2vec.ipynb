{
 "cells": [
  {
   "cell_type": "code",
   "execution_count": 89,
   "metadata": {},
   "outputs": [],
   "source": [
    "import gensim\n",
    "import sys\n",
    "import pandas as pd\n",
    "import numpy as np\n",
    "from sklearn.model_selection import train_test_split\n",
    "from sklearn.neighbors import KNeighborsClassifier\n",
    "from sklearn.linear_model import LogisticRegression\n",
    "\n",
    "import pymongo\n",
    "from pymongo import MongoClient\n",
    "import pickle\n",
    "import re"
   ]
  },
  {
   "cell_type": "code",
   "execution_count": 90,
   "metadata": {},
   "outputs": [],
   "source": [
    "client = MongoClient()\n",
    "db = client.jarvis"
   ]
  },
  {
   "cell_type": "code",
   "execution_count": 3,
   "metadata": {},
   "outputs": [],
   "source": [
    "google_vec_file = '/home/sangrador/Downloads/GoogleNews-vectors-negative300.bin'\n",
    "google_model = gensim.models.KeyedVectors.load_word2vec_format(google_vec_file, binary=True)"
   ]
  },
  {
   "cell_type": "code",
   "execution_count": 4,
   "metadata": {},
   "outputs": [],
   "source": [
    "# Function to take a document as a list of words and return the document vector\n",
    "def get_doc_vec(words, model):\n",
    "    good_words = []\n",
    "    for word in words:\n",
    "        # Words not in the original model will fail\n",
    "        try:\n",
    "            if model.wv[word] is not None:\n",
    "                good_words.append(word)\n",
    "        except:\n",
    "            continue\n",
    "    # If no words are in the original model\n",
    "    if len(good_words) == 0:\n",
    "        return None\n",
    "    # Return the mean of the vectors for all the good words\n",
    "    return model.wv[good_words].mean(axis=0)"
   ]
  },
  {
   "cell_type": "code",
   "execution_count": null,
   "metadata": {},
   "outputs": [],
   "source": [
    "number=0\n",
    "for doc in db.news1.find({},no_cursor_timeout=True):\n",
    "    if doc['cleaned_content1']!=[ ]:\n",
    "        number+=1\n",
    "number"
   ]
  },
  {
   "cell_type": "code",
   "execution_count": 66,
   "metadata": {},
   "outputs": [
    {
     "name": "stdout",
     "output_type": "stream",
     "text": [
      "When I’m Mistakenly Put on an Email Chain, Should I Hit ‘Reply All’ Asking to Be Removed? - The New York Times\n",
      "Wonders of the universe\n",
      "The week in 32 photos\n",
      "Enchanting waterfront murals painted while balancing on a surfboard\n",
      "We tried KFC’s latest take on a trendy regional chicken dish — and it’s the chain’s best menu item yet\n",
      "PAPA JOHN’S CEO: America is on a path to becoming what Germany was in 1867\n",
      "How this astronaut overcame failure and rejection to land his dream job\n",
      "This man dropped out of college twice and now directs MIT’s Media Lab — here’s how he did it\n",
      "WATCH! The premiere episode of Henry Blodget’s new markets and economics show\n",
      "Thousands march across the country demanding Trump release his tax returns\n",
      "A Tesla bull makes his case: ’We think it’s real .... it’s a good car. That’s not a fluke’\n",
      "Scott Galloway on the biggest thing in tech in 2017: Amazon could eliminate the existence of brands with voice technology\n",
      "Top financial adviser: Just working hard will not make you wealthy\n",
      "Mitch McConnell credits former Fox News CEO Roger Ailes for jump-starting his political career\n",
      "Listen to audio of a GOP candidate from Montana allegedly ’body slamming’ a reporter\n",
      "A Marine who coaches Fortune 500 execs explains why setting goals is a ’waste of time’\n",
      "Inside the factory where Rolls-Royce produces one of the greenest jet engines ever made\n",
      "LaGuardia airport’s American Express Lounge is incredibly stylish\n",
      "Mark Hamill is keeping ’Star Wars’ fans from getting ripped off\n",
      "This device lets you watch broadcast TV shows with the convenience of Netflix — and without having to pay for cable\n",
      "Asking yourself one question can help you successfully change your behavior\n",
      "8 exercise headphones that will make it easier to work out this year\n",
      "What this Navy SEAL’s ’40% rule’ can teach you about success\n",
      "7 incredible facts about Tesla’s new Gigafactory\n",
      "5 countries dump more plastic into the oceans than the rest of the world combined\n",
      "Morgan Stanley says this ’underappreciated’ restaurant brand is about to explode\n",
      "A Harvard psychologist says people judge you based on 2 criteria when they first meet you\n",
      "Here’s the real story behind Martin Luther King Jr.’s greatest moment\n",
      "We tried KFC’s controversial new chicken — here’s why you shouldn’t believe the critics\n",
      "The guy leading the Apple Car reportedly just quit\n",
      "China is building malls of the future that could come to the US soon\n",
      "A Stanford scientist says a simple psychological shift can make you more successful\n",
      "Madonna cofounded a startup that manufactures viral dance trends — and ’Whip/Nae Nae’ was its first monster hit\n",
      "Everyone thought Mark Zuckerberg was crazy to buy a 13-person app for $1 billion — now Instagram looks like one of the most brilliant tech acquisitions ever made\n",
      "Bud Light is making drastic changes to capture American millennials\n",
      "7 huge business headlines crossed on Wednesday afternoon — here’s what you missed\n",
      "This emerging restaurant chain is totally focused on brunch\n",
      "Coca-Cola has discovered an untapped market to save the soda business\n",
      "Meet the three women who married Donald Trump\n",
      "Director of Oscar-nominated ’Cartel Land’ on the blurring of good and evil among Mexican and American vigilantes\n",
      "Sea levels are rising at the fastest rate in 2,800 years — here’s what Earth will look like if all the ice melts\n",
      "A Navy SEAL told us why we should ‘do something that sucks’ every day\n",
      "Here’s how the Republican strategy created for Jeb Bush backfired and catapulted Trump into the lead\n",
      "Here’s who’d win in a dogfight between Russia’s and the US’s top fighter jets\n",
      "Our favorite photos so far from the Giro d’Italia, the world’s most beautiful bike race\n",
      "This map shows how much money you need to make to live in the 7 biggest US cities\n",
      "A large male dancer is changing the shape of ballet\n",
      "Neil deGrasse Tyson: Here’s how long you could survive on each planet in our solar system\n",
      "How one man vastly improved his life by hiring a Navy SEAL to live with him for a month\n",
      "Donald Trump’s ’strange’ morning habit tells you everything you need to know about him\n",
      "JACK DANIEL’S MASTER DISTILLER: This is the real difference between scotch, whiskey, and bourbon\n",
      "These amazing pictures show what Iraq was like before the country’s decades of chaos\n",
      "Scientists predict that 60 percent of these miniature penguins could be gone by 2099\n",
      "Kellogg’s is opening a restaurant that charges more than $7 for a bowl of cereal\n",
      "The story behind Steph Curry’s all-white ’dad shoes’ that blew up the internet\n",
      "What happened when the Sam Adams founder told his dad he was quitting a $250,000-a-year job to make beer \n",
      "Here’s how the Bastille Day attack unfolded in Nice, France\n",
      "Ivanka Trump is speaking at the GOP convention — here are 12 things you might not know about her\n",
      "The 21 best used cars for first-time drivers\n",
      "8 popular American foods that aren’t what you think they are\n",
      "This animated map shows the global expansion of the human race\n",
      "Real estate prices could drop by 5%\n",
      "Any of these 7 gadgets will make your desk a more productive place\n",
      "Coke and Pepsi are relying on an unexpected group to boost sales\n",
      "Robots are invading big box stores and want to help you shop\n",
      "’It’s like everything’s being dumbed-down’: Mark Cuban blows up on media coverage of 2016 race\n",
      "Alphabet’s Chairman has an interesting position on ’fake’ news\n"
     ]
    }
   ],
   "source": [
    "\n",
    "for doc in db.news1.find({},no_cursor_timeout=True):\n",
    "    if doc['cleaned_content1']!=[ ]:\n",
    "        #print(doc['title'])\n",
    "\n"
   ]
  },
  {
   "cell_type": "code",
   "execution_count": 14,
   "metadata": {},
   "outputs": [],
   "source": [
    "number=0\n",
    "for doc in db.news1.find({},no_cursor_timeout=True):\n",
    "    if doc['cleaned_content1']==[ ]:\n",
    "        number+=1\n"
   ]
  },
  {
   "cell_type": "code",
   "execution_count": 15,
   "metadata": {},
   "outputs": [
    {
     "data": {
      "text/plain": [
       "67"
      ]
     },
     "execution_count": 15,
     "metadata": {},
     "output_type": "execute_result"
    }
   ],
   "source": [
    "number"
   ]
  },
  {
   "cell_type": "code",
   "execution_count": 5,
   "metadata": {},
   "outputs": [
    {
     "name": "stderr",
     "output_type": "stream",
     "text": [
      "/home/sangrador/anaconda3/lib/python3.6/site-packages/ipykernel_launcher.py:7: DeprecationWarning: Call to deprecated `wv` (Attribute will be removed in 4.0.0, use self instead).\n",
      "  import sys\n",
      "/home/sangrador/anaconda3/lib/python3.6/site-packages/ipykernel_launcher.py:15: DeprecationWarning: Call to deprecated `wv` (Attribute will be removed in 4.0.0, use self instead).\n",
      "  from ipykernel import kernelapp as app\n"
     ]
    }
   ],
   "source": [
    "# Retrieve the document vectors based on google word vectors\n",
    "docvectors = []\n",
    "for doc in db.news1.find({},no_cursor_timeout=True):\n",
    "    if doc['cleaned_content1']!=[ ]:\n",
    "        docvec = get_doc_vec(doc[\"cleaned_content1\"], google_model)\n",
    "        docvectors.append(docvec)\n"
   ]
  },
  {
   "cell_type": "code",
   "execution_count": 18,
   "metadata": {},
   "outputs": [],
   "source": [
    "emptys=[]\n",
    "for i,v in enumerate(docvectors):\n",
    "    if re.search(None, str(v)):\n",
    "        emptys.append(i)"
   ]
  },
  {
   "cell_type": "code",
   "execution_count": 19,
   "metadata": {},
   "outputs": [
    {
     "data": {
      "text/plain": [
       "48"
      ]
     },
     "execution_count": 19,
     "metadata": {},
     "output_type": "execute_result"
    }
   ],
   "source": [
    "len(emptys)"
   ]
  },
  {
   "cell_type": "code",
   "execution_count": 20,
   "metadata": {},
   "outputs": [],
   "source": [
    "newdocvec1 = []\n",
    "for e in emptys:\n",
    "    del docvectors[e]"
   ]
  },
  {
   "cell_type": "code",
   "execution_count": 21,
   "metadata": {},
   "outputs": [
    {
     "data": {
      "text/plain": [
       "49885"
      ]
     },
     "execution_count": 21,
     "metadata": {},
     "output_type": "execute_result"
    }
   ],
   "source": [
    "len(docvectors)"
   ]
  },
  {
   "cell_type": "code",
   "execution_count": 38,
   "metadata": {},
   "outputs": [
    {
     "ename": "TypeError",
     "evalue": "object of type 'NoneType' has no len()",
     "output_type": "error",
     "traceback": [
      "\u001b[0;31m---------------------------------------------------------------------------\u001b[0m",
      "\u001b[0;31mTypeError\u001b[0m                                 Traceback (most recent call last)",
      "\u001b[0;32m<ipython-input-38-de5ec09d2b7b>\u001b[0m in \u001b[0;36m<module>\u001b[0;34m()\u001b[0m\n\u001b[1;32m      1\u001b[0m \u001b[0mgdind\u001b[0m\u001b[0;34m=\u001b[0m\u001b[0;34m[\u001b[0m\u001b[0;34m]\u001b[0m\u001b[0;34m\u001b[0m\u001b[0m\n\u001b[1;32m      2\u001b[0m \u001b[0;32mfor\u001b[0m \u001b[0mi\u001b[0m\u001b[0;34m,\u001b[0m\u001b[0mb\u001b[0m \u001b[0;32min\u001b[0m \u001b[0menumerate\u001b[0m\u001b[0;34m(\u001b[0m\u001b[0mdocvectors\u001b[0m\u001b[0;34m)\u001b[0m\u001b[0;34m:\u001b[0m\u001b[0;34m\u001b[0m\u001b[0m\n\u001b[0;32m----> 3\u001b[0;31m     \u001b[0;32mif\u001b[0m \u001b[0mlen\u001b[0m\u001b[0;34m(\u001b[0m\u001b[0mb\u001b[0m\u001b[0;34m)\u001b[0m \u001b[0;34m==\u001b[0m \u001b[0;34m'Nonetype'\u001b[0m\u001b[0;34m:\u001b[0m\u001b[0;34m\u001b[0m\u001b[0m\n\u001b[0m\u001b[1;32m      4\u001b[0m         \u001b[0mgdind\u001b[0m\u001b[0;34m.\u001b[0m\u001b[0mappend\u001b[0m\u001b[0;34m(\u001b[0m\u001b[0mi\u001b[0m\u001b[0;34m)\u001b[0m\u001b[0;34m\u001b[0m\u001b[0m\n",
      "\u001b[0;31mTypeError\u001b[0m: object of type 'NoneType' has no len()"
     ]
    }
   ],
   "source": [
    "gdind=[]\n",
    "for i,b in enumerate(docvectors):\n",
    "    if len(b) == 'Nonetype':\n",
    "        gdind.append(i)"
   ]
  },
  {
   "cell_type": "code",
   "execution_count": 37,
   "metadata": {},
   "outputs": [
    {
     "data": {
      "text/plain": [
       "49885"
      ]
     },
     "execution_count": 37,
     "metadata": {},
     "output_type": "execute_result"
    }
   ],
   "source": [
    "len(gdind) #docvectors.info()"
   ]
  },
  {
   "cell_type": "code",
   "execution_count": 40,
   "metadata": {},
   "outputs": [],
   "source": [
    "docdf1 = pd.Series(docvectors)"
   ]
  },
  {
   "cell_type": "code",
   "execution_count": 56,
   "metadata": {},
   "outputs": [],
   "source": [
    "newdocdf1=list(docdf1.dropna())"
   ]
  },
  {
   "cell_type": "code",
   "execution_count": 75,
   "metadata": {},
   "outputs": [],
   "source": [
    "df1=pd.DataFrame(newdocdf1)"
   ]
  },
  {
   "cell_type": "code",
   "execution_count": 76,
   "metadata": {},
   "outputs": [
    {
     "data": {
      "text/html": [
       "<div>\n",
       "<style scoped>\n",
       "    .dataframe tbody tr th:only-of-type {\n",
       "        vertical-align: middle;\n",
       "    }\n",
       "\n",
       "    .dataframe tbody tr th {\n",
       "        vertical-align: top;\n",
       "    }\n",
       "\n",
       "    .dataframe thead th {\n",
       "        text-align: right;\n",
       "    }\n",
       "</style>\n",
       "<table border=\"1\" class=\"dataframe\">\n",
       "  <thead>\n",
       "    <tr style=\"text-align: right;\">\n",
       "      <th></th>\n",
       "      <th>0</th>\n",
       "      <th>1</th>\n",
       "      <th>2</th>\n",
       "      <th>3</th>\n",
       "      <th>4</th>\n",
       "      <th>5</th>\n",
       "      <th>6</th>\n",
       "      <th>7</th>\n",
       "      <th>8</th>\n",
       "      <th>9</th>\n",
       "      <th>...</th>\n",
       "      <th>290</th>\n",
       "      <th>291</th>\n",
       "      <th>292</th>\n",
       "      <th>293</th>\n",
       "      <th>294</th>\n",
       "      <th>295</th>\n",
       "      <th>296</th>\n",
       "      <th>297</th>\n",
       "      <th>298</th>\n",
       "      <th>299</th>\n",
       "    </tr>\n",
       "  </thead>\n",
       "  <tbody>\n",
       "    <tr>\n",
       "      <th>0</th>\n",
       "      <td>0.003382</td>\n",
       "      <td>0.041075</td>\n",
       "      <td>0.002663</td>\n",
       "      <td>0.104319</td>\n",
       "      <td>-0.046889</td>\n",
       "      <td>0.002810</td>\n",
       "      <td>0.011885</td>\n",
       "      <td>-0.021236</td>\n",
       "      <td>0.065564</td>\n",
       "      <td>0.034156</td>\n",
       "      <td>...</td>\n",
       "      <td>-0.019576</td>\n",
       "      <td>0.030911</td>\n",
       "      <td>-0.029823</td>\n",
       "      <td>0.013795</td>\n",
       "      <td>-0.039435</td>\n",
       "      <td>-0.035175</td>\n",
       "      <td>-0.034929</td>\n",
       "      <td>-0.040042</td>\n",
       "      <td>0.014198</td>\n",
       "      <td>0.036941</td>\n",
       "    </tr>\n",
       "    <tr>\n",
       "      <th>1</th>\n",
       "      <td>-0.003322</td>\n",
       "      <td>0.031890</td>\n",
       "      <td>0.021466</td>\n",
       "      <td>0.049321</td>\n",
       "      <td>-0.058271</td>\n",
       "      <td>-0.003187</td>\n",
       "      <td>0.008903</td>\n",
       "      <td>-0.049294</td>\n",
       "      <td>0.056549</td>\n",
       "      <td>0.064728</td>\n",
       "      <td>...</td>\n",
       "      <td>-0.017379</td>\n",
       "      <td>0.030481</td>\n",
       "      <td>-0.061580</td>\n",
       "      <td>0.024161</td>\n",
       "      <td>-0.039144</td>\n",
       "      <td>-0.043367</td>\n",
       "      <td>-0.033106</td>\n",
       "      <td>-0.090892</td>\n",
       "      <td>0.012128</td>\n",
       "      <td>-0.007660</td>\n",
       "    </tr>\n",
       "    <tr>\n",
       "      <th>2</th>\n",
       "      <td>0.015942</td>\n",
       "      <td>0.047954</td>\n",
       "      <td>-0.004933</td>\n",
       "      <td>0.080811</td>\n",
       "      <td>-0.022495</td>\n",
       "      <td>0.015558</td>\n",
       "      <td>0.031880</td>\n",
       "      <td>-0.081364</td>\n",
       "      <td>0.061059</td>\n",
       "      <td>0.056515</td>\n",
       "      <td>...</td>\n",
       "      <td>-0.056971</td>\n",
       "      <td>0.031895</td>\n",
       "      <td>-0.087516</td>\n",
       "      <td>0.002831</td>\n",
       "      <td>-0.035505</td>\n",
       "      <td>-0.048079</td>\n",
       "      <td>-0.022726</td>\n",
       "      <td>-0.034323</td>\n",
       "      <td>0.017906</td>\n",
       "      <td>-0.005264</td>\n",
       "    </tr>\n",
       "    <tr>\n",
       "      <th>3</th>\n",
       "      <td>0.021464</td>\n",
       "      <td>0.054332</td>\n",
       "      <td>0.023952</td>\n",
       "      <td>0.087000</td>\n",
       "      <td>-0.026562</td>\n",
       "      <td>-0.009642</td>\n",
       "      <td>0.018640</td>\n",
       "      <td>-0.104135</td>\n",
       "      <td>0.083959</td>\n",
       "      <td>0.075061</td>\n",
       "      <td>...</td>\n",
       "      <td>-0.010041</td>\n",
       "      <td>0.021356</td>\n",
       "      <td>-0.096602</td>\n",
       "      <td>-0.000064</td>\n",
       "      <td>-0.042034</td>\n",
       "      <td>-0.064336</td>\n",
       "      <td>-0.024448</td>\n",
       "      <td>-0.057799</td>\n",
       "      <td>0.001818</td>\n",
       "      <td>0.028366</td>\n",
       "    </tr>\n",
       "    <tr>\n",
       "      <th>4</th>\n",
       "      <td>-0.031523</td>\n",
       "      <td>0.061350</td>\n",
       "      <td>0.033738</td>\n",
       "      <td>0.054403</td>\n",
       "      <td>-0.026968</td>\n",
       "      <td>-0.030779</td>\n",
       "      <td>0.005705</td>\n",
       "      <td>-0.119400</td>\n",
       "      <td>0.081811</td>\n",
       "      <td>0.092464</td>\n",
       "      <td>...</td>\n",
       "      <td>-0.010944</td>\n",
       "      <td>0.048857</td>\n",
       "      <td>-0.070191</td>\n",
       "      <td>0.055250</td>\n",
       "      <td>-0.016494</td>\n",
       "      <td>-0.098957</td>\n",
       "      <td>-0.034743</td>\n",
       "      <td>-0.026927</td>\n",
       "      <td>0.007361</td>\n",
       "      <td>-0.024123</td>\n",
       "    </tr>\n",
       "  </tbody>\n",
       "</table>\n",
       "<p>5 rows × 300 columns</p>\n",
       "</div>"
      ],
      "text/plain": [
       "        0         1         2         3         4         5         6    \\\n",
       "0  0.003382  0.041075  0.002663  0.104319 -0.046889  0.002810  0.011885   \n",
       "1 -0.003322  0.031890  0.021466  0.049321 -0.058271 -0.003187  0.008903   \n",
       "2  0.015942  0.047954 -0.004933  0.080811 -0.022495  0.015558  0.031880   \n",
       "3  0.021464  0.054332  0.023952  0.087000 -0.026562 -0.009642  0.018640   \n",
       "4 -0.031523  0.061350  0.033738  0.054403 -0.026968 -0.030779  0.005705   \n",
       "\n",
       "        7         8         9      ...          290       291       292  \\\n",
       "0 -0.021236  0.065564  0.034156    ...    -0.019576  0.030911 -0.029823   \n",
       "1 -0.049294  0.056549  0.064728    ...    -0.017379  0.030481 -0.061580   \n",
       "2 -0.081364  0.061059  0.056515    ...    -0.056971  0.031895 -0.087516   \n",
       "3 -0.104135  0.083959  0.075061    ...    -0.010041  0.021356 -0.096602   \n",
       "4 -0.119400  0.081811  0.092464    ...    -0.010944  0.048857 -0.070191   \n",
       "\n",
       "        293       294       295       296       297       298       299  \n",
       "0  0.013795 -0.039435 -0.035175 -0.034929 -0.040042  0.014198  0.036941  \n",
       "1  0.024161 -0.039144 -0.043367 -0.033106 -0.090892  0.012128 -0.007660  \n",
       "2  0.002831 -0.035505 -0.048079 -0.022726 -0.034323  0.017906 -0.005264  \n",
       "3 -0.000064 -0.042034 -0.064336 -0.024448 -0.057799  0.001818  0.028366  \n",
       "4  0.055250 -0.016494 -0.098957 -0.034743 -0.026927  0.007361 -0.024123  \n",
       "\n",
       "[5 rows x 300 columns]"
      ]
     },
     "execution_count": 76,
     "metadata": {},
     "output_type": "execute_result"
    }
   ],
   "source": [
    "df1.head()"
   ]
  },
  {
   "cell_type": "code",
   "execution_count": 70,
   "metadata": {},
   "outputs": [
    {
     "name": "stderr",
     "output_type": "stream",
     "text": [
      "/home/sangrador/anaconda3/lib/python3.6/site-packages/ipykernel_launcher.py:7: DeprecationWarning: Call to deprecated `wv` (Attribute will be removed in 4.0.0, use self instead).\n",
      "  import sys\n",
      "/home/sangrador/anaconda3/lib/python3.6/site-packages/ipykernel_launcher.py:15: DeprecationWarning: Call to deprecated `wv` (Attribute will be removed in 4.0.0, use self instead).\n",
      "  from ipykernel import kernelapp as app\n"
     ]
    }
   ],
   "source": [
    "docvectors2 = []\n",
    "for doc in db.news2.find({},no_cursor_timeout=True):\n",
    "    if doc['cleaned_content1']!=[ ]:\n",
    "        docvec = get_doc_vec(doc[\"cleaned_content1\"], google_model)\n",
    "        docvectors2.append(docvec)"
   ]
  },
  {
   "cell_type": "code",
   "execution_count": 73,
   "metadata": {},
   "outputs": [],
   "source": [
    "df2 = pd.DataFrame(docvectors2)"
   ]
  },
  {
   "cell_type": "code",
   "execution_count": 75,
   "metadata": {},
   "outputs": [
    {
     "name": "stdout",
     "output_type": "stream",
     "text": [
      "<class 'pandas.core.frame.DataFrame'>\n",
      "RangeIndex: 49957 entries, 0 to 49956\n",
      "Columns: 300 entries, 0 to 299\n",
      "dtypes: float64(300)\n",
      "memory usage: 114.3 MB\n"
     ]
    }
   ],
   "source": [
    "df2.info()"
   ]
  },
  {
   "cell_type": "code",
   "execution_count": 83,
   "metadata": {},
   "outputs": [],
   "source": [
    "with open('docvect2.pickle', 'wb') as d:\n",
    "    pickle.dump(df2, d)"
   ]
  },
  {
   "cell_type": "code",
   "execution_count": 71,
   "metadata": {},
   "outputs": [
    {
     "name": "stderr",
     "output_type": "stream",
     "text": [
      "/home/sangrador/anaconda3/lib/python3.6/site-packages/ipykernel_launcher.py:7: DeprecationWarning: Call to deprecated `wv` (Attribute will be removed in 4.0.0, use self instead).\n",
      "  import sys\n",
      "/home/sangrador/anaconda3/lib/python3.6/site-packages/ipykernel_launcher.py:15: DeprecationWarning: Call to deprecated `wv` (Attribute will be removed in 4.0.0, use self instead).\n",
      "  from ipykernel import kernelapp as app\n"
     ]
    }
   ],
   "source": [
    "docvectors3 = []\n",
    "for doc in db.news3.find({},no_cursor_timeout=True):\n",
    "    docvec = get_doc_vec(doc[\"cleaned_content1\"], google_model)\n",
    "    docvectors3.append(docvec)"
   ]
  },
  {
   "cell_type": "code",
   "execution_count": 76,
   "metadata": {},
   "outputs": [],
   "source": [
    "df3 = pd.DataFrame(docvectors3)"
   ]
  },
  {
   "cell_type": "code",
   "execution_count": 77,
   "metadata": {},
   "outputs": [
    {
     "name": "stdout",
     "output_type": "stream",
     "text": [
      "<class 'pandas.core.frame.DataFrame'>\n",
      "RangeIndex: 42571 entries, 0 to 42570\n",
      "Columns: 300 entries, 0 to 299\n",
      "dtypes: float64(300)\n",
      "memory usage: 97.4 MB\n"
     ]
    }
   ],
   "source": [
    "df3.info()"
   ]
  },
  {
   "cell_type": "code",
   "execution_count": 84,
   "metadata": {},
   "outputs": [],
   "source": [
    "with open('docvect3.pickle', 'wb') as e:\n",
    "    pickle.dump(df3, e)\n"
   ]
  },
  {
   "cell_type": "code",
   "execution_count": 63,
   "metadata": {},
   "outputs": [],
   "source": [
    "df2 = pd.read_pickle('docvect2.pickle')"
   ]
  },
  {
   "cell_type": "code",
   "execution_count": 77,
   "metadata": {},
   "outputs": [
    {
     "name": "stdout",
     "output_type": "stream",
     "text": [
      "<class 'pandas.core.frame.DataFrame'>\n",
      "RangeIndex: 49957 entries, 0 to 49956\n",
      "Columns: 300 entries, 0 to 299\n",
      "dtypes: float64(300)\n",
      "memory usage: 114.3 MB\n"
     ]
    }
   ],
   "source": [
    "df2.info()"
   ]
  },
  {
   "cell_type": "code",
   "execution_count": 60,
   "metadata": {},
   "outputs": [],
   "source": [
    "df3 = pd.read_pickle('docvect3.pickle')"
   ]
  },
  {
   "cell_type": "raw",
   "metadata": {},
   "source": [
    "df3.head()"
   ]
  },
  {
   "cell_type": "code",
   "execution_count": 69,
   "metadata": {},
   "outputs": [
    {
     "name": "stdout",
     "output_type": "stream",
     "text": [
      "<class 'pandas.core.frame.DataFrame'>\n",
      "RangeIndex: 49838 entries, 0 to 49837\n",
      "Columns: 300 entries, 0 to 299\n",
      "dtypes: float64(300)\n",
      "memory usage: 114.1 MB\n"
     ]
    }
   ],
   "source": [
    "df1.info()"
   ]
  },
  {
   "cell_type": "code",
   "execution_count": 79,
   "metadata": {},
   "outputs": [],
   "source": [
    "df1_2= df1.append(df2)"
   ]
  },
  {
   "cell_type": "code",
   "execution_count": 82,
   "metadata": {},
   "outputs": [
    {
     "data": {
      "text/html": [
       "<div>\n",
       "<style scoped>\n",
       "    .dataframe tbody tr th:only-of-type {\n",
       "        vertical-align: middle;\n",
       "    }\n",
       "\n",
       "    .dataframe tbody tr th {\n",
       "        vertical-align: top;\n",
       "    }\n",
       "\n",
       "    .dataframe thead th {\n",
       "        text-align: right;\n",
       "    }\n",
       "</style>\n",
       "<table border=\"1\" class=\"dataframe\">\n",
       "  <thead>\n",
       "    <tr style=\"text-align: right;\">\n",
       "      <th></th>\n",
       "      <th>0</th>\n",
       "      <th>1</th>\n",
       "      <th>2</th>\n",
       "      <th>3</th>\n",
       "      <th>4</th>\n",
       "      <th>5</th>\n",
       "      <th>6</th>\n",
       "      <th>7</th>\n",
       "      <th>8</th>\n",
       "      <th>9</th>\n",
       "      <th>...</th>\n",
       "      <th>290</th>\n",
       "      <th>291</th>\n",
       "      <th>292</th>\n",
       "      <th>293</th>\n",
       "      <th>294</th>\n",
       "      <th>295</th>\n",
       "      <th>296</th>\n",
       "      <th>297</th>\n",
       "      <th>298</th>\n",
       "      <th>299</th>\n",
       "    </tr>\n",
       "  </thead>\n",
       "  <tbody>\n",
       "    <tr>\n",
       "      <th>49952</th>\n",
       "      <td>-0.045911</td>\n",
       "      <td>0.038591</td>\n",
       "      <td>0.040923</td>\n",
       "      <td>0.037362</td>\n",
       "      <td>-0.059422</td>\n",
       "      <td>0.001054</td>\n",
       "      <td>0.012684</td>\n",
       "      <td>-0.022257</td>\n",
       "      <td>0.045083</td>\n",
       "      <td>0.020307</td>\n",
       "      <td>...</td>\n",
       "      <td>0.000075</td>\n",
       "      <td>0.015002</td>\n",
       "      <td>0.006426</td>\n",
       "      <td>0.033033</td>\n",
       "      <td>-0.071490</td>\n",
       "      <td>-0.040534</td>\n",
       "      <td>-0.032973</td>\n",
       "      <td>-0.070883</td>\n",
       "      <td>-0.011562</td>\n",
       "      <td>0.013314</td>\n",
       "    </tr>\n",
       "    <tr>\n",
       "      <th>49953</th>\n",
       "      <td>0.040019</td>\n",
       "      <td>0.060429</td>\n",
       "      <td>-0.013579</td>\n",
       "      <td>0.126740</td>\n",
       "      <td>-0.058916</td>\n",
       "      <td>-0.021223</td>\n",
       "      <td>0.068094</td>\n",
       "      <td>-0.095940</td>\n",
       "      <td>0.072289</td>\n",
       "      <td>0.086150</td>\n",
       "      <td>...</td>\n",
       "      <td>-0.049587</td>\n",
       "      <td>0.055127</td>\n",
       "      <td>-0.078999</td>\n",
       "      <td>0.018637</td>\n",
       "      <td>-0.031761</td>\n",
       "      <td>-0.040225</td>\n",
       "      <td>-0.010068</td>\n",
       "      <td>-0.019148</td>\n",
       "      <td>0.034675</td>\n",
       "      <td>-0.012116</td>\n",
       "    </tr>\n",
       "    <tr>\n",
       "      <th>49954</th>\n",
       "      <td>0.044639</td>\n",
       "      <td>0.122809</td>\n",
       "      <td>0.045176</td>\n",
       "      <td>0.109876</td>\n",
       "      <td>-0.011860</td>\n",
       "      <td>-0.030750</td>\n",
       "      <td>0.097923</td>\n",
       "      <td>-0.105466</td>\n",
       "      <td>0.070306</td>\n",
       "      <td>0.027585</td>\n",
       "      <td>...</td>\n",
       "      <td>-0.061790</td>\n",
       "      <td>0.047164</td>\n",
       "      <td>-0.096037</td>\n",
       "      <td>-0.061148</td>\n",
       "      <td>-0.056313</td>\n",
       "      <td>-0.071541</td>\n",
       "      <td>0.024945</td>\n",
       "      <td>-0.016910</td>\n",
       "      <td>0.046027</td>\n",
       "      <td>-0.064540</td>\n",
       "    </tr>\n",
       "    <tr>\n",
       "      <th>49955</th>\n",
       "      <td>0.026553</td>\n",
       "      <td>0.030833</td>\n",
       "      <td>0.019467</td>\n",
       "      <td>0.111349</td>\n",
       "      <td>-0.056634</td>\n",
       "      <td>-0.009097</td>\n",
       "      <td>0.032361</td>\n",
       "      <td>-0.065625</td>\n",
       "      <td>0.057765</td>\n",
       "      <td>0.057947</td>\n",
       "      <td>...</td>\n",
       "      <td>-0.041347</td>\n",
       "      <td>0.030086</td>\n",
       "      <td>-0.066822</td>\n",
       "      <td>0.016968</td>\n",
       "      <td>-0.042948</td>\n",
       "      <td>-0.046861</td>\n",
       "      <td>-0.024169</td>\n",
       "      <td>-0.028348</td>\n",
       "      <td>0.011910</td>\n",
       "      <td>0.008630</td>\n",
       "    </tr>\n",
       "    <tr>\n",
       "      <th>49956</th>\n",
       "      <td>0.016086</td>\n",
       "      <td>0.034039</td>\n",
       "      <td>0.009831</td>\n",
       "      <td>0.089178</td>\n",
       "      <td>-0.077217</td>\n",
       "      <td>0.008016</td>\n",
       "      <td>0.023247</td>\n",
       "      <td>-0.035257</td>\n",
       "      <td>0.063524</td>\n",
       "      <td>0.050824</td>\n",
       "      <td>...</td>\n",
       "      <td>-0.005876</td>\n",
       "      <td>0.047685</td>\n",
       "      <td>-0.080123</td>\n",
       "      <td>-0.004079</td>\n",
       "      <td>-0.047358</td>\n",
       "      <td>-0.018106</td>\n",
       "      <td>-0.000069</td>\n",
       "      <td>-0.026974</td>\n",
       "      <td>0.002752</td>\n",
       "      <td>0.027193</td>\n",
       "    </tr>\n",
       "  </tbody>\n",
       "</table>\n",
       "<p>5 rows × 300 columns</p>\n",
       "</div>"
      ],
      "text/plain": [
       "            0         1         2         3         4         5         6    \\\n",
       "49952 -0.045911  0.038591  0.040923  0.037362 -0.059422  0.001054  0.012684   \n",
       "49953  0.040019  0.060429 -0.013579  0.126740 -0.058916 -0.021223  0.068094   \n",
       "49954  0.044639  0.122809  0.045176  0.109876 -0.011860 -0.030750  0.097923   \n",
       "49955  0.026553  0.030833  0.019467  0.111349 -0.056634 -0.009097  0.032361   \n",
       "49956  0.016086  0.034039  0.009831  0.089178 -0.077217  0.008016  0.023247   \n",
       "\n",
       "            7         8         9      ...          290       291       292  \\\n",
       "49952 -0.022257  0.045083  0.020307    ...     0.000075  0.015002  0.006426   \n",
       "49953 -0.095940  0.072289  0.086150    ...    -0.049587  0.055127 -0.078999   \n",
       "49954 -0.105466  0.070306  0.027585    ...    -0.061790  0.047164 -0.096037   \n",
       "49955 -0.065625  0.057765  0.057947    ...    -0.041347  0.030086 -0.066822   \n",
       "49956 -0.035257  0.063524  0.050824    ...    -0.005876  0.047685 -0.080123   \n",
       "\n",
       "            293       294       295       296       297       298       299  \n",
       "49952  0.033033 -0.071490 -0.040534 -0.032973 -0.070883 -0.011562  0.013314  \n",
       "49953  0.018637 -0.031761 -0.040225 -0.010068 -0.019148  0.034675 -0.012116  \n",
       "49954 -0.061148 -0.056313 -0.071541  0.024945 -0.016910  0.046027 -0.064540  \n",
       "49955  0.016968 -0.042948 -0.046861 -0.024169 -0.028348  0.011910  0.008630  \n",
       "49956 -0.004079 -0.047358 -0.018106 -0.000069 -0.026974  0.002752  0.027193  \n",
       "\n",
       "[5 rows x 300 columns]"
      ]
     },
     "execution_count": 82,
     "metadata": {},
     "output_type": "execute_result"
    }
   ],
   "source": [
    "df1_2.tail()"
   ]
  },
  {
   "cell_type": "code",
   "execution_count": 84,
   "metadata": {},
   "outputs": [],
   "source": [
    "alldf = df1_2.append(df3)"
   ]
  },
  {
   "cell_type": "code",
   "execution_count": 85,
   "metadata": {},
   "outputs": [
    {
     "name": "stdout",
     "output_type": "stream",
     "text": [
      "<class 'pandas.core.frame.DataFrame'>\n",
      "Int64Index: 142366 entries, 0 to 42570\n",
      "Columns: 300 entries, 0 to 299\n",
      "dtypes: float64(300)\n",
      "memory usage: 326.9 MB\n"
     ]
    }
   ],
   "source": [
    "alldf.info()"
   ]
  },
  {
   "cell_type": "code",
   "execution_count": 87,
   "metadata": {},
   "outputs": [],
   "source": [
    "with open('alldocvec_df.pickle', 'wb') as a:\n",
    "    pickle.dump(alldf, a)"
   ]
  },
  {
   "cell_type": "code",
   "execution_count": 81,
   "metadata": {},
   "outputs": [
    {
     "ename": "NameError",
     "evalue": "name 'spam_google_vecs' is not defined",
     "output_type": "error",
     "traceback": [
      "\u001b[0;31m---------------------------------------------------------------------------\u001b[0m",
      "\u001b[0;31mNameError\u001b[0m                                 Traceback (most recent call last)",
      "\u001b[0;32m<ipython-input-81-9782e2880589>\u001b[0m in \u001b[0;36m<module>\u001b[0;34m()\u001b[0m\n\u001b[1;32m      3\u001b[0m \u001b[0;34m\u001b[0m\u001b[0m\n\u001b[1;32m      4\u001b[0m \u001b[0;31m# Add to dataframe\u001b[0m\u001b[0;34m\u001b[0m\u001b[0;34m\u001b[0m\u001b[0m\n\u001b[0;32m----> 5\u001b[0;31m \u001b[0mspam_data2\u001b[0m\u001b[0;34m[\u001b[0m\u001b[0;34m'vecs'\u001b[0m\u001b[0;34m]\u001b[0m \u001b[0;34m=\u001b[0m \u001b[0mspam_google_vecs\u001b[0m\u001b[0;34m\u001b[0m\u001b[0m\n\u001b[0m\u001b[1;32m      6\u001b[0m \u001b[0;34m\u001b[0m\u001b[0m\n\u001b[1;32m      7\u001b[0m \u001b[0;31m# Drop the bad docs\u001b[0m\u001b[0;34m\u001b[0m\u001b[0;34m\u001b[0m\u001b[0m\n",
      "\u001b[0;31mNameError\u001b[0m: name 'spam_google_vecs' is not defined"
     ]
    }
   ],
   "source": [
    "\n",
    "# Add to dataframe\n",
    "spam_data2['vecs'] = spam_google_vecs\n",
    "\n",
    "# Drop the bad docs\n",
    "spam_data2 = spam_data2.dropna()\n",
    "\n",
    "# Create a Numpy array of the document vectors\n",
    "spam_np_vecs = np.zeros((len(spam_data2), 300))\n",
    "for i, vec in enumerate(spam_data2.vecs):\n",
    "    spam_np_vecs[i, :] = vec\n",
    "    \n",
    "# Combine the full dataframe with the labels\n",
    "spam_google_data = pd.concat([spam_data2.reset_index().type, pd.DataFrame(spam_np_vecs)], axis=1)"
   ]
  },
  {
   "cell_type": "code",
   "execution_count": null,
   "metadata": {},
   "outputs": [],
   "source": []
  },
  {
   "cell_type": "code",
   "execution_count": null,
   "metadata": {},
   "outputs": [],
   "source": []
  },
  {
   "cell_type": "code",
   "execution_count": null,
   "metadata": {},
   "outputs": [],
   "source": []
  },
  {
   "cell_type": "code",
   "execution_count": null,
   "metadata": {},
   "outputs": [],
   "source": []
  },
  {
   "cell_type": "code",
   "execution_count": null,
   "metadata": {},
   "outputs": [],
   "source": []
  },
  {
   "cell_type": "code",
   "execution_count": null,
   "metadata": {},
   "outputs": [],
   "source": []
  },
  {
   "cell_type": "code",
   "execution_count": 29,
   "metadata": {},
   "outputs": [],
   "source": [
    "\n",
    "doctitles=[]\n",
    "for doc in db.news1.find():\n",
    "    doctitles.append(doc['title'])"
   ]
  },
  {
   "cell_type": "code",
   "execution_count": 35,
   "metadata": {},
   "outputs": [],
   "source": [
    "doctitles2=[]\n",
    "for doc in db.news2.find():\n",
    "    doctitles2.append(doc['title'])"
   ]
  },
  {
   "cell_type": "code",
   "execution_count": null,
   "metadata": {},
   "outputs": [],
   "source": [
    "doctitles3=[]\n",
    "for doc in db.news3.find():\n",
    "    doctitles3.append(doc['title'])"
   ]
  },
  {
   "cell_type": "code",
   "execution_count": 91,
   "metadata": {},
   "outputs": [],
   "source": [
    "def get_goodwords(words, model):\n",
    "    good_words = []\n",
    "    for word in words:\n",
    "        # Words not in the original model will fail\n",
    "        try:\n",
    "            if model.wv[word] is not None:\n",
    "                good_words.append(word)\n",
    "        except:\n",
    "            continue\n",
    "    # If no words are in the original model\n",
    "    if len(good_words) == 0:\n",
    "        return None\n",
    "    # Return the mean of the vectors for all the good words\n",
    "    return [good_words]"
   ]
  },
  {
   "cell_type": "code",
   "execution_count": 92,
   "metadata": {},
   "outputs": [
    {
     "name": "stdout",
     "output_type": "stream",
     "text": [
      "[['washington', 'republican', 'new', 'fear', 'come', 'health', 'lawsuit', 'obama', 'administr', 'win', 'incom', 'trump', 'administr', 'choos', 'longer', 'defend', 'execut', 'branch', 'suit', 'challeng', 'administr', 'author', 'spend', 'billion', 'dollar', 'health', 'insur', 'american', 'hand', 'hous', 'republican', 'big', 'issu', 'sudden', 'loss', 'caus', 'health', 'program', 'leav', 'million', 'peopl', 'without', 'access', 'health', 'insur', 'republican', 'prepar', 'lead', 'chao', 'insur', 'market', 'spur', 'polit', 'backlash', 'republican', 'gain', 'full', 'control', 'govern', 'stave', 'republican', 'find', 'awkward', 'posit', 'huge', 'sum', 'prop', 'obama', 'health', 'law', 'anger', 'voter', 'demand', 'law', 'year', 'twist', 'donald', 'trump', 'administr', 'execut', 'branch', 'choos', 'fight', 'republican', 'alli', 'hous', 'central', 'question', 'eager', 'avoid', 'polit', 'pileup', 'republican', 'capitol', 'hill', 'trump', 'transit', 'team', 'game', 'lawsuit', 'elect', 'put', 'limbo', 'least', 'late', 'februari', 'unit', 'state', 'court', 'appeal', 'district', 'columbia', 'circuit', 'given', 'pend', 'involv', 'obama', 'administr', 'congress', 'comment', 'phillip', 'spokesman', 'trump', 'transit', 'effort', 'take', 'offic', 'trump', 'administr', 'case', 'relat', 'aspect', 'afford', 'act', 'potenti', 'decis', 'judg', 'rule', 'hous', 'republican', 'stand', 'execut', 'branch', 'spend', 'obama', 'administr', 'distribut', 'health', 'insur', 'without', 'approv', 'congress', 'justic', 'depart', 'confid', 'judg', 'decis', 'revers', 'appeal', 'remain', 'place', 'appeal', 'success', 'seek', 'halt', 'proceed', 'trump', 'hous', 'republican', 'last', 'month', 'court', 'transit', 'team', 'current', 'discuss', 'potenti', 'option', 'matter', 'take', 'effect', 'jan', 'case', 'hous', 'lawyer', 'provid', 'futur', 'administr', 'time', 'consid', 'whether', 'continu', 'appeal', 'republican', 'leadership', 'offici', 'hous', 'possibl', 'effect', 'payment', 'total', 'estim', 'billion', 'stop', 'insur', 'receiv', 'pay', 'cost', 'deduct', 'consum', 'race', 'drop', 'sinc', 'lose', 'money', 'loss', 'program', 'caus', 'lack', 'confid', 'lead', 'insur', 'seek', 'quick', 'exit', 'well', 'trump', 'administr', 'mount', 'vigor', 'fight', 'hous', 'republican', 'given', 'dim', 'view', 'health', 'law', 'team', 'lawyer', 'month', 'sought', 'interven', 'case', 'behalf', 'health', 'program', 'request', 'lawyer', 'predict', 'deal', 'hous', 'republican', 'new', 'administr', 'dismiss', 'case', 'produc', 'individu', 'receiv', 'well', 'nation', 'health', 'insur', 'health', 'system', 'gener', 'matter', 'happen', 'hous', 'republican', 'prevail', 'concept', 'power', 'right', 'congress', 'execut', 'branch', 'regard', 'spend', 'power', 'hous', 'republican', 'contend', 'congress', 'never', 'money', 'requir', 'suit', 'champion', 'john', 'boehner', 'hous', 'speaker', 'time', 'later', 'hous', 'committe', 'report', 'republican', 'assert', 'administr', 'fund', 'requir', 'depart', 'provid', 'despit', 'widespread', 'intern', 'skeptic', 'spend', 'proper', 'white', 'hous', 'spend', 'part', 'law', 'pass', 'annual', 'requir', 'even', 'though', 'administr', 'sought', 'import', 'hous', 'republican', 'judg', 'found', 'congress', 'stand', 'white', 'hous', 'issu', 'rule', 'mani', 'legal', 'expert', 'flaw', 'set', 'restor', 'execut', 'branch', 'spend', 'power', 'stand', 'trump', 'administr', 'may', 'pressur', 'author', 'fight', 'hous', 'matter', 'share', 'view', 'health', 'sinc', 'broad', 'set', 'quick', 'legal', 'hous', 'trump', 'cost', 'republican', 'never', 'took', 'obama', 'white', 'hous']]\n"
     ]
    },
    {
     "name": "stderr",
     "output_type": "stream",
     "text": [
      "/home/sangrador/anaconda3/lib/python3.6/site-packages/ipykernel_launcher.py:6: DeprecationWarning: Call to deprecated `wv` (Attribute will be removed in 4.0.0, use self instead).\n",
      "  \n"
     ]
    }
   ],
   "source": [
    "for doc in db.news1.find({},no_cursor_timeout=True)[0:1]:\n",
    "    gw=get_goodwords(doc['cleaned_content1'], google_model)\n",
    "    print(gw)"
   ]
  },
  {
   "cell_type": "code",
   "execution_count": 93,
   "metadata": {},
   "outputs": [
    {
     "name": "stderr",
     "output_type": "stream",
     "text": [
      "/home/sangrador/anaconda3/lib/python3.6/site-packages/ipykernel_launcher.py:6: DeprecationWarning: Call to deprecated `wv` (Attribute will be removed in 4.0.0, use self instead).\n",
      "  \n",
      "/home/sangrador/anaconda3/lib/python3.6/site-packages/ipykernel_launcher.py:3: DeprecationWarning: update is deprecated. Use replace_one, update_one or update_many instead.\n",
      "  This is separate from the ipykernel package so we can avoid doing imports until\n"
     ]
    }
   ],
   "source": [
    "for doc in db.news1.find({},no_cursor_timeout=True):\n",
    "    gw = get_goodwords(doc['cleaned_content1'], google_model)\n",
    "    db.news1.update({'_id': doc['_id']},{'$set':{'goodwords': gw }})"
   ]
  },
  {
   "cell_type": "code",
   "execution_count": 95,
   "metadata": {},
   "outputs": [
    {
     "ename": "ServerSelectionTimeoutError",
     "evalue": "localhost:27017: [Errno 111] Connection refused",
     "output_type": "error",
     "traceback": [
      "\u001b[0;31m---------------------------------------------------------------------------\u001b[0m",
      "\u001b[0;31mServerSelectionTimeoutError\u001b[0m               Traceback (most recent call last)",
      "\u001b[0;32m<ipython-input-95-608547325790>\u001b[0m in \u001b[0;36m<module>\u001b[0;34m()\u001b[0m\n\u001b[0;32m----> 1\u001b[0;31m \u001b[0;32mfor\u001b[0m \u001b[0mdoc\u001b[0m \u001b[0;32min\u001b[0m \u001b[0mdb\u001b[0m\u001b[0;34m.\u001b[0m\u001b[0mnews2\u001b[0m\u001b[0;34m.\u001b[0m\u001b[0mfind\u001b[0m\u001b[0;34m(\u001b[0m\u001b[0;34m{\u001b[0m\u001b[0;34m}\u001b[0m\u001b[0;34m,\u001b[0m\u001b[0mno_cursor_timeout\u001b[0m\u001b[0;34m=\u001b[0m\u001b[0;32mTrue\u001b[0m\u001b[0;34m)\u001b[0m\u001b[0;34m:\u001b[0m\u001b[0;34m\u001b[0m\u001b[0m\n\u001b[0m\u001b[1;32m      2\u001b[0m     \u001b[0mgw\u001b[0m \u001b[0;34m=\u001b[0m \u001b[0mget_goodwords\u001b[0m\u001b[0;34m(\u001b[0m\u001b[0mdoc\u001b[0m\u001b[0;34m[\u001b[0m\u001b[0;34m'cleaned_content1'\u001b[0m\u001b[0;34m]\u001b[0m\u001b[0;34m,\u001b[0m \u001b[0mgoogle_model\u001b[0m\u001b[0;34m)\u001b[0m\u001b[0;34m\u001b[0m\u001b[0m\n\u001b[1;32m      3\u001b[0m     \u001b[0mdb\u001b[0m\u001b[0;34m.\u001b[0m\u001b[0mnews2\u001b[0m\u001b[0;34m.\u001b[0m\u001b[0mupdate\u001b[0m\u001b[0;34m(\u001b[0m\u001b[0;34m{\u001b[0m\u001b[0;34m'_id'\u001b[0m\u001b[0;34m:\u001b[0m \u001b[0mdoc\u001b[0m\u001b[0;34m[\u001b[0m\u001b[0;34m'_id'\u001b[0m\u001b[0;34m]\u001b[0m\u001b[0;34m}\u001b[0m\u001b[0;34m,\u001b[0m\u001b[0;34m{\u001b[0m\u001b[0;34m'$set'\u001b[0m\u001b[0;34m:\u001b[0m\u001b[0;34m{\u001b[0m\u001b[0;34m'goodwords'\u001b[0m\u001b[0;34m:\u001b[0m \u001b[0mgw\u001b[0m \u001b[0;34m}\u001b[0m\u001b[0;34m}\u001b[0m\u001b[0;34m)\u001b[0m\u001b[0;34m\u001b[0m\u001b[0m\n",
      "\u001b[0;32m~/anaconda3/lib/python3.6/site-packages/pymongo/cursor.py\u001b[0m in \u001b[0;36mnext\u001b[0;34m(self)\u001b[0m\n\u001b[1;32m   1187\u001b[0m         \u001b[0;32mif\u001b[0m \u001b[0mself\u001b[0m\u001b[0;34m.\u001b[0m\u001b[0m__empty\u001b[0m\u001b[0;34m:\u001b[0m\u001b[0;34m\u001b[0m\u001b[0m\n\u001b[1;32m   1188\u001b[0m             \u001b[0;32mraise\u001b[0m \u001b[0mStopIteration\u001b[0m\u001b[0;34m\u001b[0m\u001b[0m\n\u001b[0;32m-> 1189\u001b[0;31m         \u001b[0;32mif\u001b[0m \u001b[0mlen\u001b[0m\u001b[0;34m(\u001b[0m\u001b[0mself\u001b[0m\u001b[0;34m.\u001b[0m\u001b[0m__data\u001b[0m\u001b[0;34m)\u001b[0m \u001b[0;32mor\u001b[0m \u001b[0mself\u001b[0m\u001b[0;34m.\u001b[0m\u001b[0m_refresh\u001b[0m\u001b[0;34m(\u001b[0m\u001b[0;34m)\u001b[0m\u001b[0;34m:\u001b[0m\u001b[0;34m\u001b[0m\u001b[0m\n\u001b[0m\u001b[1;32m   1190\u001b[0m             \u001b[0;32mif\u001b[0m \u001b[0mself\u001b[0m\u001b[0;34m.\u001b[0m\u001b[0m__manipulate\u001b[0m\u001b[0;34m:\u001b[0m\u001b[0;34m\u001b[0m\u001b[0m\n\u001b[1;32m   1191\u001b[0m                 \u001b[0m_db\u001b[0m \u001b[0;34m=\u001b[0m \u001b[0mself\u001b[0m\u001b[0;34m.\u001b[0m\u001b[0m__collection\u001b[0m\u001b[0;34m.\u001b[0m\u001b[0mdatabase\u001b[0m\u001b[0;34m\u001b[0m\u001b[0m\n",
      "\u001b[0;32m~/anaconda3/lib/python3.6/site-packages/pymongo/cursor.py\u001b[0m in \u001b[0;36m_refresh\u001b[0;34m(self)\u001b[0m\n\u001b[1;32m   1085\u001b[0m \u001b[0;34m\u001b[0m\u001b[0m\n\u001b[1;32m   1086\u001b[0m         \u001b[0;32mif\u001b[0m \u001b[0;32mnot\u001b[0m \u001b[0mself\u001b[0m\u001b[0;34m.\u001b[0m\u001b[0m__session\u001b[0m\u001b[0;34m:\u001b[0m\u001b[0;34m\u001b[0m\u001b[0m\n\u001b[0;32m-> 1087\u001b[0;31m             \u001b[0mself\u001b[0m\u001b[0;34m.\u001b[0m\u001b[0m__session\u001b[0m \u001b[0;34m=\u001b[0m \u001b[0mself\u001b[0m\u001b[0;34m.\u001b[0m\u001b[0m__collection\u001b[0m\u001b[0;34m.\u001b[0m\u001b[0mdatabase\u001b[0m\u001b[0;34m.\u001b[0m\u001b[0mclient\u001b[0m\u001b[0;34m.\u001b[0m\u001b[0m_ensure_session\u001b[0m\u001b[0;34m(\u001b[0m\u001b[0;34m)\u001b[0m\u001b[0;34m\u001b[0m\u001b[0m\n\u001b[0m\u001b[1;32m   1088\u001b[0m \u001b[0;34m\u001b[0m\u001b[0m\n\u001b[1;32m   1089\u001b[0m         \u001b[0;32mif\u001b[0m \u001b[0mself\u001b[0m\u001b[0;34m.\u001b[0m\u001b[0m__id\u001b[0m \u001b[0;32mis\u001b[0m \u001b[0;32mNone\u001b[0m\u001b[0;34m:\u001b[0m  \u001b[0;31m# Query\u001b[0m\u001b[0;34m\u001b[0m\u001b[0m\n",
      "\u001b[0;32m~/anaconda3/lib/python3.6/site-packages/pymongo/mongo_client.py\u001b[0m in \u001b[0;36m_ensure_session\u001b[0;34m(self, session)\u001b[0m\n\u001b[1;32m   1556\u001b[0m             \u001b[0;31m# Don't make implicit sessions causally consistent. Applications\u001b[0m\u001b[0;34m\u001b[0m\u001b[0;34m\u001b[0m\u001b[0m\n\u001b[1;32m   1557\u001b[0m             \u001b[0;31m# should always opt-in.\u001b[0m\u001b[0;34m\u001b[0m\u001b[0;34m\u001b[0m\u001b[0m\n\u001b[0;32m-> 1558\u001b[0;31m             \u001b[0;32mreturn\u001b[0m \u001b[0mself\u001b[0m\u001b[0;34m.\u001b[0m\u001b[0m__start_session\u001b[0m\u001b[0;34m(\u001b[0m\u001b[0;32mTrue\u001b[0m\u001b[0;34m,\u001b[0m \u001b[0mcausal_consistency\u001b[0m\u001b[0;34m=\u001b[0m\u001b[0;32mFalse\u001b[0m\u001b[0;34m)\u001b[0m\u001b[0;34m\u001b[0m\u001b[0m\n\u001b[0m\u001b[1;32m   1559\u001b[0m         \u001b[0;32mexcept\u001b[0m \u001b[0;34m(\u001b[0m\u001b[0mConfigurationError\u001b[0m\u001b[0;34m,\u001b[0m \u001b[0mInvalidOperation\u001b[0m\u001b[0;34m)\u001b[0m\u001b[0;34m:\u001b[0m\u001b[0;34m\u001b[0m\u001b[0m\n\u001b[1;32m   1560\u001b[0m             \u001b[0;31m# Sessions not supported, or multiple users authenticated.\u001b[0m\u001b[0;34m\u001b[0m\u001b[0;34m\u001b[0m\u001b[0m\n",
      "\u001b[0;32m~/anaconda3/lib/python3.6/site-packages/pymongo/mongo_client.py\u001b[0m in \u001b[0;36m__start_session\u001b[0;34m(self, implicit, **kwargs)\u001b[0m\n\u001b[1;32m   1509\u001b[0m \u001b[0;34m\u001b[0m\u001b[0m\n\u001b[1;32m   1510\u001b[0m         \u001b[0;31m# Raises ConfigurationError if sessions are not supported.\u001b[0m\u001b[0;34m\u001b[0m\u001b[0;34m\u001b[0m\u001b[0m\n\u001b[0;32m-> 1511\u001b[0;31m         \u001b[0mserver_session\u001b[0m \u001b[0;34m=\u001b[0m \u001b[0mself\u001b[0m\u001b[0;34m.\u001b[0m\u001b[0m_get_server_session\u001b[0m\u001b[0;34m(\u001b[0m\u001b[0;34m)\u001b[0m\u001b[0;34m\u001b[0m\u001b[0m\n\u001b[0m\u001b[1;32m   1512\u001b[0m         \u001b[0mopts\u001b[0m \u001b[0;34m=\u001b[0m \u001b[0mclient_session\u001b[0m\u001b[0;34m.\u001b[0m\u001b[0mSessionOptions\u001b[0m\u001b[0;34m(\u001b[0m\u001b[0;34m**\u001b[0m\u001b[0mkwargs\u001b[0m\u001b[0;34m)\u001b[0m\u001b[0;34m\u001b[0m\u001b[0m\n\u001b[1;32m   1513\u001b[0m         return client_session.ClientSession(\n",
      "\u001b[0;32m~/anaconda3/lib/python3.6/site-packages/pymongo/mongo_client.py\u001b[0m in \u001b[0;36m_get_server_session\u001b[0;34m(self)\u001b[0m\n\u001b[1;32m   1542\u001b[0m     \u001b[0;32mdef\u001b[0m \u001b[0m_get_server_session\u001b[0m\u001b[0;34m(\u001b[0m\u001b[0mself\u001b[0m\u001b[0;34m)\u001b[0m\u001b[0;34m:\u001b[0m\u001b[0;34m\u001b[0m\u001b[0m\n\u001b[1;32m   1543\u001b[0m         \u001b[0;34m\"\"\"Internal: start or resume a _ServerSession.\"\"\"\u001b[0m\u001b[0;34m\u001b[0m\u001b[0m\n\u001b[0;32m-> 1544\u001b[0;31m         \u001b[0;32mreturn\u001b[0m \u001b[0mself\u001b[0m\u001b[0;34m.\u001b[0m\u001b[0m_topology\u001b[0m\u001b[0;34m.\u001b[0m\u001b[0mget_server_session\u001b[0m\u001b[0;34m(\u001b[0m\u001b[0;34m)\u001b[0m\u001b[0;34m\u001b[0m\u001b[0m\n\u001b[0m\u001b[1;32m   1545\u001b[0m \u001b[0;34m\u001b[0m\u001b[0m\n\u001b[1;32m   1546\u001b[0m     \u001b[0;32mdef\u001b[0m \u001b[0m_return_server_session\u001b[0m\u001b[0;34m(\u001b[0m\u001b[0mself\u001b[0m\u001b[0;34m,\u001b[0m \u001b[0mserver_session\u001b[0m\u001b[0;34m,\u001b[0m \u001b[0mlock\u001b[0m\u001b[0;34m)\u001b[0m\u001b[0;34m:\u001b[0m\u001b[0;34m\u001b[0m\u001b[0m\n",
      "\u001b[0;32m~/anaconda3/lib/python3.6/site-packages/pymongo/topology.py\u001b[0m in \u001b[0;36mget_server_session\u001b[0;34m(self)\u001b[0m\n\u001b[1;32m    425\u001b[0m                             \u001b[0many_server_selector\u001b[0m\u001b[0;34m,\u001b[0m\u001b[0;34m\u001b[0m\u001b[0m\n\u001b[1;32m    426\u001b[0m                             \u001b[0mself\u001b[0m\u001b[0;34m.\u001b[0m\u001b[0m_settings\u001b[0m\u001b[0;34m.\u001b[0m\u001b[0mserver_selection_timeout\u001b[0m\u001b[0;34m,\u001b[0m\u001b[0;34m\u001b[0m\u001b[0m\n\u001b[0;32m--> 427\u001b[0;31m                             None)\n\u001b[0m\u001b[1;32m    428\u001b[0m                 \u001b[0;32melif\u001b[0m \u001b[0;32mnot\u001b[0m \u001b[0mself\u001b[0m\u001b[0;34m.\u001b[0m\u001b[0m_description\u001b[0m\u001b[0;34m.\u001b[0m\u001b[0mreadable_servers\u001b[0m\u001b[0;34m:\u001b[0m\u001b[0;34m\u001b[0m\u001b[0m\n\u001b[1;32m    429\u001b[0m                     self._select_servers_loop(\n",
      "\u001b[0;32m~/anaconda3/lib/python3.6/site-packages/pymongo/topology.py\u001b[0m in \u001b[0;36m_select_servers_loop\u001b[0;34m(self, selector, timeout, address)\u001b[0m\n\u001b[1;32m    197\u001b[0m             \u001b[0;32mif\u001b[0m \u001b[0mtimeout\u001b[0m \u001b[0;34m==\u001b[0m \u001b[0;36m0\u001b[0m \u001b[0;32mor\u001b[0m \u001b[0mnow\u001b[0m \u001b[0;34m>\u001b[0m \u001b[0mend_time\u001b[0m\u001b[0;34m:\u001b[0m\u001b[0;34m\u001b[0m\u001b[0m\n\u001b[1;32m    198\u001b[0m                 raise ServerSelectionTimeoutError(\n\u001b[0;32m--> 199\u001b[0;31m                     self._error_message(selector))\n\u001b[0m\u001b[1;32m    200\u001b[0m \u001b[0;34m\u001b[0m\u001b[0m\n\u001b[1;32m    201\u001b[0m             \u001b[0mself\u001b[0m\u001b[0;34m.\u001b[0m\u001b[0m_ensure_opened\u001b[0m\u001b[0;34m(\u001b[0m\u001b[0;34m)\u001b[0m\u001b[0;34m\u001b[0m\u001b[0m\n",
      "\u001b[0;31mServerSelectionTimeoutError\u001b[0m: localhost:27017: [Errno 111] Connection refused"
     ]
    }
   ],
   "source": [
    "for doc in db.news2.find({},no_cursor_timeout=True):\n",
    "    gw = get_goodwords(doc['cleaned_content1'], google_model)\n",
    "    db.news2.update({'_id': doc['_id']},{'$set':{'goodwords': gw }})"
   ]
  },
  {
   "cell_type": "code",
   "execution_count": null,
   "metadata": {},
   "outputs": [],
   "source": [
    "for doc in db.news3.find({},no_cursor_timeout=True):\n",
    "    gw = get_goodwords(doc['cleaned_content1'], google_model)\n",
    "    db.news3.update({'_id': doc['_id']},{'$set':{'goodwords': gw }})"
   ]
  }
 ],
 "metadata": {
  "kernelspec": {
   "display_name": "Python 3",
   "language": "python",
   "name": "python3"
  },
  "language_info": {
   "codemirror_mode": {
    "name": "ipython",
    "version": 3
   },
   "file_extension": ".py",
   "mimetype": "text/x-python",
   "name": "python",
   "nbconvert_exporter": "python",
   "pygments_lexer": "ipython3",
   "version": "3.6.5"
  }
 },
 "nbformat": 4,
 "nbformat_minor": 2
}
